{
 "cells": [
  {
   "cell_type": "markdown",
   "metadata": {},
   "source": [
    "#### Описание проекта:\n",
    "Инвесторы из фонда «Shut Up and Take My Money» решили попробовать себя в новой области и открыть заведение общественного питания в Москве. Заказчики ещё не знают, что это будет за место: кафе, ресторан, пиццерия, паб или бар, — и какими будут расположение, меню и цены.<br>\n",
    "Для начала они просят подготовить исследование рынка Москвы, найти интересные особенности и презентовать полученные результаты, которые в будущем помогут в выборе подходящего инвесторам места."
   ]
  },
  {
   "cell_type": "markdown",
   "metadata": {},
   "source": [
    "#### Описание данных:\n",
    "Файл moscow_places.csv:<br>\n",
    "name — название заведения;<br>\n",
    "address — адрес заведения;<br>\n",
    "category — категория заведения, например «кафе», «пиццерия» или «кофейня»;<br>\n",
    "hours — информация о днях и часах работы;<br>\n",
    "lat — широта географической точки, в которой находится заведение;<br>\n",
    "lng — долгота географической точки, в которой находится заведение;<br>\n",
    "rating — рейтинг заведения по оценкам пользователей в Яндекс Картах (высшая оценка — 5.0);<br>\n",
    "price — категория цен в заведении, например «средние», «ниже среднего», «выше среднего» и так далее;<br>\n",
    "avg_bill — строка, которая хранит среднюю стоимость заказа в виде диапазона, например:<br>\n",
    "«Средний счёт: 1000–1500 ₽»;<br>\n",
    "«Цена чашки капучино: 130–220 ₽»;<br>\n",
    "«Цена бокала пива: 400–600 ₽».<br>\n",
    "и так далее;<br>\n",
    "middle_avg_bill — число с оценкой среднего чека, которое указано только для значений из столбца avg_bill, начинающихся с подстроки «Средний счёт»:<br>\n",
    "Если в строке указан ценовой диапазон из двух значений, в столбец войдёт медиана этих двух значений.<br>\n",
    "Если в строке указано одно число — цена без диапазона, то в столбец войдёт это число.<br>\n",
    "Если значения нет или оно не начинается с подстроки «Средний счёт», то в столбец ничего не войдёт.<br>\n",
    "middle_coffee_cup — число с оценкой одной чашки капучино, которое указано только для значений из столбца avg_bill, начинающихся с подстроки «Цена одной чашки капучино»:<br>\n",
    "Если в строке указан ценовой диапазон из двух значений, в столбец войдёт медиана этих двух значений.<br>\n",
    "Если в строке указано одно число — цена без диапазона, то в столбец войдёт это число.<br>\n",
    "Если значения нет или оно не начинается с подстроки «Цена одной чашки капучино», то в столбец ничего не войдёт.<br>\n",
    "chain — число, выраженное 0 или 1, которое показывает, является ли заведение сетевым (для маленьких сетей могут встречаться ошибки):<br>\n",
    "0 — заведение не является сетевым<br>\n",
    "1 — заведение является сетевым<br>\n",
    "district — административный район, в котором находится заведение, например Центральный административный округ;<br>\n",
    "seats — количество посадочных мест.<br>"
   ]
  },
  {
   "cell_type": "code",
   "execution_count": 20,
   "metadata": {},
   "outputs": [],
   "source": [
    "import pandas as pd\n",
    "import seaborn as sns\n",
    "import numpy as np\n",
    "from matplotlib import pyplot as plt\n",
    "import plotly.express as px\n",
    "from folium import Map, Choropleth"
   ]
  },
  {
   "cell_type": "code",
   "execution_count": null,
   "metadata": {},
   "outputs": [],
   "source": [
    "pd.set_option('display.max_columns', 50) \n",
    "pd.set_option('display.max_rows', 500)\n",
    "pd.set_option('display.float_format', lambda x: '%.5f' % x)\n",
    "pd.set_option('display.max_colwidth', False)\n",
    "# параметры для корректного отображения таблиц и более удобного их анализа"
   ]
  },
  {
   "cell_type": "code",
   "execution_count": 22,
   "metadata": {},
   "outputs": [],
   "source": [
    "df = pd.read_csv(r'https://code.s3.yandex.net/datasets/moscow_places.csv', sep=\",\")"
   ]
  },
  {
   "cell_type": "code",
   "execution_count": 23,
   "metadata": {},
   "outputs": [],
   "source": [
    "def info(df):\n",
    "    display(df.head())\n",
    "    display(df.info())\n",
    "    display(df.isna().sum())\n",
    "    display(df.duplicated().sum())"
   ]
  },
  {
   "cell_type": "markdown",
   "metadata": {},
   "source": [
    "### Предподготовка данных"
   ]
  },
  {
   "cell_type": "code",
   "execution_count": 24,
   "metadata": {},
   "outputs": [
    {
     "data": {
      "text/html": [
       "<div>\n",
       "<style scoped>\n",
       "    .dataframe tbody tr th:only-of-type {\n",
       "        vertical-align: middle;\n",
       "    }\n",
       "\n",
       "    .dataframe tbody tr th {\n",
       "        vertical-align: top;\n",
       "    }\n",
       "\n",
       "    .dataframe thead th {\n",
       "        text-align: right;\n",
       "    }\n",
       "</style>\n",
       "<table border=\"1\" class=\"dataframe\">\n",
       "  <thead>\n",
       "    <tr style=\"text-align: right;\">\n",
       "      <th></th>\n",
       "      <th>name</th>\n",
       "      <th>category</th>\n",
       "      <th>address</th>\n",
       "      <th>district</th>\n",
       "      <th>hours</th>\n",
       "      <th>lat</th>\n",
       "      <th>lng</th>\n",
       "      <th>rating</th>\n",
       "      <th>price</th>\n",
       "      <th>avg_bill</th>\n",
       "      <th>middle_avg_bill</th>\n",
       "      <th>middle_coffee_cup</th>\n",
       "      <th>chain</th>\n",
       "      <th>seats</th>\n",
       "    </tr>\n",
       "  </thead>\n",
       "  <tbody>\n",
       "    <tr>\n",
       "      <th>0</th>\n",
       "      <td>WoWфли</td>\n",
       "      <td>кафе</td>\n",
       "      <td>Москва, улица Дыбенко, 7/1</td>\n",
       "      <td>Северный административный округ</td>\n",
       "      <td>ежедневно, 10:00–22:00</td>\n",
       "      <td>55.87849</td>\n",
       "      <td>37.47886</td>\n",
       "      <td>5.00000</td>\n",
       "      <td>NaN</td>\n",
       "      <td>NaN</td>\n",
       "      <td>NaN</td>\n",
       "      <td>NaN</td>\n",
       "      <td>0</td>\n",
       "      <td>NaN</td>\n",
       "    </tr>\n",
       "    <tr>\n",
       "      <th>1</th>\n",
       "      <td>Четыре комнаты</td>\n",
       "      <td>ресторан</td>\n",
       "      <td>Москва, улица Дыбенко, 36, корп. 1</td>\n",
       "      <td>Северный административный округ</td>\n",
       "      <td>ежедневно, 10:00–22:00</td>\n",
       "      <td>55.87580</td>\n",
       "      <td>37.48448</td>\n",
       "      <td>4.50000</td>\n",
       "      <td>выше среднего</td>\n",
       "      <td>Средний счёт:1500–1600 ₽</td>\n",
       "      <td>1550.00000</td>\n",
       "      <td>NaN</td>\n",
       "      <td>0</td>\n",
       "      <td>4.00000</td>\n",
       "    </tr>\n",
       "    <tr>\n",
       "      <th>2</th>\n",
       "      <td>Хазри</td>\n",
       "      <td>кафе</td>\n",
       "      <td>Москва, Клязьминская улица, 15</td>\n",
       "      <td>Северный административный округ</td>\n",
       "      <td>пн-чт 11:00–02:00; пт,сб 11:00–05:00; вс 11:00–02:00</td>\n",
       "      <td>55.88915</td>\n",
       "      <td>37.52590</td>\n",
       "      <td>4.60000</td>\n",
       "      <td>средние</td>\n",
       "      <td>Средний счёт:от 1000 ₽</td>\n",
       "      <td>1000.00000</td>\n",
       "      <td>NaN</td>\n",
       "      <td>0</td>\n",
       "      <td>45.00000</td>\n",
       "    </tr>\n",
       "    <tr>\n",
       "      <th>3</th>\n",
       "      <td>Dormouse Coffee Shop</td>\n",
       "      <td>кофейня</td>\n",
       "      <td>Москва, улица Маршала Федоренко, 12</td>\n",
       "      <td>Северный административный округ</td>\n",
       "      <td>ежедневно, 09:00–22:00</td>\n",
       "      <td>55.88161</td>\n",
       "      <td>37.48886</td>\n",
       "      <td>5.00000</td>\n",
       "      <td>NaN</td>\n",
       "      <td>Цена чашки капучино:155–185 ₽</td>\n",
       "      <td>NaN</td>\n",
       "      <td>170.00000</td>\n",
       "      <td>0</td>\n",
       "      <td>NaN</td>\n",
       "    </tr>\n",
       "    <tr>\n",
       "      <th>4</th>\n",
       "      <td>Иль Марко</td>\n",
       "      <td>пиццерия</td>\n",
       "      <td>Москва, Правобережная улица, 1Б</td>\n",
       "      <td>Северный административный округ</td>\n",
       "      <td>ежедневно, 10:00–22:00</td>\n",
       "      <td>55.88117</td>\n",
       "      <td>37.44936</td>\n",
       "      <td>5.00000</td>\n",
       "      <td>средние</td>\n",
       "      <td>Средний счёт:400–600 ₽</td>\n",
       "      <td>500.00000</td>\n",
       "      <td>NaN</td>\n",
       "      <td>1</td>\n",
       "      <td>148.00000</td>\n",
       "    </tr>\n",
       "  </tbody>\n",
       "</table>\n",
       "</div>"
      ],
      "text/plain": [
       "                   name  category                              address  \\\n",
       "0  WoWфли                кафе      Москва, улица Дыбенко, 7/1            \n",
       "1  Четыре комнаты        ресторан  Москва, улица Дыбенко, 36, корп. 1    \n",
       "2  Хазри                 кафе      Москва, Клязьминская улица, 15        \n",
       "3  Dormouse Coffee Shop  кофейня   Москва, улица Маршала Федоренко, 12   \n",
       "4  Иль Марко             пиццерия  Москва, Правобережная улица, 1Б       \n",
       "\n",
       "                          district  \\\n",
       "0  Северный административный округ   \n",
       "1  Северный административный округ   \n",
       "2  Северный административный округ   \n",
       "3  Северный административный округ   \n",
       "4  Северный административный округ   \n",
       "\n",
       "                                                  hours      lat      lng  \\\n",
       "0  ежедневно, 10:00–22:00                               55.87849 37.47886   \n",
       "1  ежедневно, 10:00–22:00                               55.87580 37.48448   \n",
       "2  пн-чт 11:00–02:00; пт,сб 11:00–05:00; вс 11:00–02:00 55.88915 37.52590   \n",
       "3  ежедневно, 09:00–22:00                               55.88161 37.48886   \n",
       "4  ежедневно, 10:00–22:00                               55.88117 37.44936   \n",
       "\n",
       "   rating          price                       avg_bill  middle_avg_bill  \\\n",
       "0 5.00000  NaN            NaN                           NaN                \n",
       "1 4.50000  выше среднего  Средний счёт:1500–1600 ₽      1550.00000         \n",
       "2 4.60000  средние        Средний счёт:от 1000 ₽        1000.00000         \n",
       "3 5.00000  NaN            Цена чашки капучино:155–185 ₽ NaN                \n",
       "4 5.00000  средние        Средний счёт:400–600 ₽        500.00000          \n",
       "\n",
       "   middle_coffee_cup  chain     seats  \n",
       "0 NaN                 0     NaN        \n",
       "1 NaN                 0     4.00000    \n",
       "2 NaN                 0     45.00000   \n",
       "3 170.00000           0     NaN        \n",
       "4 NaN                 1     148.00000  "
      ]
     },
     "metadata": {},
     "output_type": "display_data"
    },
    {
     "name": "stdout",
     "output_type": "stream",
     "text": [
      "<class 'pandas.core.frame.DataFrame'>\n",
      "RangeIndex: 8406 entries, 0 to 8405\n",
      "Data columns (total 14 columns):\n",
      " #   Column             Non-Null Count  Dtype  \n",
      "---  ------             --------------  -----  \n",
      " 0   name               8406 non-null   object \n",
      " 1   category           8406 non-null   object \n",
      " 2   address            8406 non-null   object \n",
      " 3   district           8406 non-null   object \n",
      " 4   hours              7870 non-null   object \n",
      " 5   lat                8406 non-null   float64\n",
      " 6   lng                8406 non-null   float64\n",
      " 7   rating             8406 non-null   float64\n",
      " 8   price              3315 non-null   object \n",
      " 9   avg_bill           3816 non-null   object \n",
      " 10  middle_avg_bill    3149 non-null   float64\n",
      " 11  middle_coffee_cup  535 non-null    float64\n",
      " 12  chain              8406 non-null   int64  \n",
      " 13  seats              4795 non-null   float64\n",
      "dtypes: float64(6), int64(1), object(7)\n",
      "memory usage: 919.5+ KB\n"
     ]
    },
    {
     "data": {
      "text/plain": [
       "None"
      ]
     },
     "metadata": {},
     "output_type": "display_data"
    },
    {
     "data": {
      "text/plain": [
       "name                 0   \n",
       "category             0   \n",
       "address              0   \n",
       "district             0   \n",
       "hours                536 \n",
       "lat                  0   \n",
       "lng                  0   \n",
       "rating               0   \n",
       "price                5091\n",
       "avg_bill             4590\n",
       "middle_avg_bill      5257\n",
       "middle_coffee_cup    7871\n",
       "chain                0   \n",
       "seats                3611\n",
       "dtype: int64"
      ]
     },
     "metadata": {},
     "output_type": "display_data"
    },
    {
     "data": {
      "text/plain": [
       "0"
      ]
     },
     "metadata": {},
     "output_type": "display_data"
    }
   ],
   "source": [
    "info(df)"
   ]
  },
  {
   "cell_type": "code",
   "execution_count": 25,
   "metadata": {},
   "outputs": [],
   "source": [
    "# Приводим столбец 'name' к универсальному виду, для обработки дубликатов\n",
    "df['name'] = df['name'].str.lower() \n",
    "df['name'] = df['name'].str.strip() \n",
    "df['name'] = df['name'].str.replace('ё', 'е')"
   ]
  },
  {
   "cell_type": "code",
   "execution_count": 26,
   "metadata": {},
   "outputs": [],
   "source": [
    "# Избавляемся от дубликатов \n",
    "df = df.drop_duplicates(subset=['name', 'address'], keep='first')"
   ]
  },
  {
   "cell_type": "code",
   "execution_count": 27,
   "metadata": {},
   "outputs": [],
   "source": [
    "# Добавляем столбец с названием улиц\n",
    "df['street'] = df.apply(lambda x: x['address'].split(', ')[1], axis = 1)"
   ]
  },
  {
   "cell_type": "code",
   "execution_count": 28,
   "metadata": {},
   "outputs": [],
   "source": [
    "# Добавляем столбец с значением, что заведение работает ежедневно и круглосуточно\n",
    "df['is_24_7'] = df['hours'].str.contains('ежедневно, круглосуточно')"
   ]
  },
  {
   "cell_type": "markdown",
   "metadata": {},
   "source": [
    "### Анализ данных"
   ]
  },
  {
   "cell_type": "markdown",
   "metadata": {},
   "source": [
    "#### Исследуем количество объектов общественного питания по категориям"
   ]
  },
  {
   "cell_type": "code",
   "execution_count": 29,
   "metadata": {},
   "outputs": [],
   "source": [
    "cat = df.pivot_table(index='category', values='name', aggfunc='count').reset_index()\n",
    "colors = sns.color_palette('muted')"
   ]
  },
  {
   "cell_type": "code",
   "execution_count": 30,
   "metadata": {},
   "outputs": [
    {
     "data": {
      "text/html": [
       "<div>\n",
       "<style scoped>\n",
       "    .dataframe tbody tr th:only-of-type {\n",
       "        vertical-align: middle;\n",
       "    }\n",
       "\n",
       "    .dataframe tbody tr th {\n",
       "        vertical-align: top;\n",
       "    }\n",
       "\n",
       "    .dataframe thead th {\n",
       "        text-align: right;\n",
       "    }\n",
       "</style>\n",
       "<table border=\"1\" class=\"dataframe\">\n",
       "  <thead>\n",
       "    <tr style=\"text-align: right;\">\n",
       "      <th></th>\n",
       "      <th>category</th>\n",
       "      <th>name</th>\n",
       "    </tr>\n",
       "  </thead>\n",
       "  <tbody>\n",
       "    <tr>\n",
       "      <th>0</th>\n",
       "      <td>бар,паб</td>\n",
       "      <td>764</td>\n",
       "    </tr>\n",
       "    <tr>\n",
       "      <th>1</th>\n",
       "      <td>булочная</td>\n",
       "      <td>256</td>\n",
       "    </tr>\n",
       "    <tr>\n",
       "      <th>2</th>\n",
       "      <td>быстрое питание</td>\n",
       "      <td>603</td>\n",
       "    </tr>\n",
       "    <tr>\n",
       "      <th>3</th>\n",
       "      <td>кафе</td>\n",
       "      <td>2377</td>\n",
       "    </tr>\n",
       "    <tr>\n",
       "      <th>4</th>\n",
       "      <td>кофейня</td>\n",
       "      <td>1413</td>\n",
       "    </tr>\n",
       "    <tr>\n",
       "      <th>5</th>\n",
       "      <td>пиццерия</td>\n",
       "      <td>633</td>\n",
       "    </tr>\n",
       "    <tr>\n",
       "      <th>6</th>\n",
       "      <td>ресторан</td>\n",
       "      <td>2042</td>\n",
       "    </tr>\n",
       "    <tr>\n",
       "      <th>7</th>\n",
       "      <td>столовая</td>\n",
       "      <td>315</td>\n",
       "    </tr>\n",
       "  </tbody>\n",
       "</table>\n",
       "</div>"
      ],
      "text/plain": [
       "          category  name\n",
       "0  бар,паб          764 \n",
       "1  булочная         256 \n",
       "2  быстрое питание  603 \n",
       "3  кафе             2377\n",
       "4  кофейня          1413\n",
       "5  пиццерия         633 \n",
       "6  ресторан         2042\n",
       "7  столовая         315 "
      ]
     },
     "execution_count": 30,
     "metadata": {},
     "output_type": "execute_result"
    }
   ],
   "source": [
    "cat"
   ]
  },
  {
   "cell_type": "code",
   "execution_count": null,
   "metadata": {},
   "outputs": [],
   "source": [
    "# Строим столбчатую диаграмму по количеству пользователей заведений\n",
    "sns.barplot(data= cat, x='category', y='name').set(ylabel='Кол-во пользователей', xlabel='Категория')\n",
    "plt.xticks(rotation=55)\n",
    "plt.title(\"Количество объектов общественного питания по категориям\");"
   ]
  },
  {
   "cell_type": "code",
   "execution_count": null,
   "metadata": {},
   "outputs": [],
   "source": [
    "# строим круговую диаграмму, для определения долей по заведениям\n",
    "colors = sns.color_palette('muted')\n",
    "plt.pie(cat['name'], labels=cat['category'], colors = colors, autopct='%.0f%%')\n",
    "plt.title(\"Доля объектов общественного питания по категориям\");"
   ]
  },
  {
   "cell_type": "markdown",
   "metadata": {},
   "source": [
    "Больше всего в Москве кафе и ресторанов, чуть меньше кофеен. Остальные виды заведений распределены примерно одинаково. Меньше всего булочных и столовых, так как они, как правило, располагаются рядом с жилыми кварталами и предприятиями, а все остальные типы меньше привязаны к локации."
   ]
  },
  {
   "cell_type": "markdown",
   "metadata": {},
   "source": [
    "#### Исследуем количество посадочных мест в местах по категориям"
   ]
  },
  {
   "cell_type": "code",
   "execution_count": null,
   "metadata": {},
   "outputs": [],
   "source": [
    "category_order = df.groupby('category').agg({'seats': lambda x: round(x.median())}).sort_values('seats', ascending=False).index\n",
    "fig = px.box(df, y='seats', x='category', color='category', width=900, height=600)\n",
    "fig.update_xaxes(tickangle=30, categoryorder='array', categoryarray=category_order)\n",
    "fig.update_layout(xaxis_title='Распределение посадочных мест по категориямм заведений',\n",
    "                  yaxis_title='количество')\n",
    "fig.show()"
   ]
  },
  {
   "cell_type": "markdown",
   "metadata": {},
   "source": [
    "Больше всего посадочных мест в ресторанах и барах/пабах. В барах очень часто заявленных мест больше, чем фактических, также в барах существуют стойки. Рестораны отличаются большими помещениями и являются самыми крупными заведениями общественного питания. Меньше всего посадочных мест в булочных, поскольку, многие представляют собой магазин с выпечкой, где присутсвует пара столиков."
   ]
  },
  {
   "cell_type": "markdown",
   "metadata": {},
   "source": [
    "#### Изобразим соотношение сетевых и несетевых заведений в датасете"
   ]
  },
  {
   "cell_type": "code",
   "execution_count": null,
   "metadata": {},
   "outputs": [],
   "source": [
    "count_chain = df.groupby(by='category')['chain'].count()\n",
    "sum__chained = df.groupby(by='category')['chain'].sum()\n",
    "mean_chain = ((count_chain / sum__chained) * 100).reset_index()"
   ]
  },
  {
   "cell_type": "code",
   "execution_count": null,
   "metadata": {
    "scrolled": true
   },
   "outputs": [],
   "source": [
    "mean_chain"
   ]
  },
  {
   "cell_type": "code",
   "execution_count": null,
   "metadata": {},
   "outputs": [],
   "source": [
    "plt.figure(figsize=(14, 7)) # Размер графика\n",
    "sns.barplot(data = mean_chain, x='chain', y='category').set(ylabel='Категория объекта', xlabel='Доля сетевых объектов, %')\n",
    "plt.title('Доля сетевых объектов от общего количества объектов каждой категории') # Название графика"
   ]
  },
  {
   "cell_type": "markdown",
   "metadata": {},
   "source": [
    "Больше всего сетевых заведений представлено барами/пабами, поскольку даже два заведения, уже сеть. Баров очень много, бывает, что один и тот же бар представлен в двух соседних зданиях, потому что для одного не хватило места и стало проще открыть еще один. Также бары очень часто крайне маленькие, и могут быть представлены большим количеством разных названий на малой площади. <br>\n",
    "Следующей по доле идет столовая, их просто проще открывать в больших количествах недалеко от предприятий и учебных заведений. Нет возможности выделиться, поэтому открывать одиночные столовые невыгодно. <br>\n",
    "Кафе и рестораны представлены одинаковой долей. поскольку это две самых популярных категории заведений в принципе для людей и выгодно открывать сети, чтобы быть узнаваемыми в городе"
   ]
  },
  {
   "cell_type": "markdown",
   "metadata": {},
   "source": [
    "#### Сгруппируем данные по названиям заведений и найдем топ-15 популярных сетей в Москве"
   ]
  },
  {
   "cell_type": "code",
   "execution_count": null,
   "metadata": {},
   "outputs": [],
   "source": [
    "top15 = df.query('chain == 1')\n",
    "top15 = top15.pivot_table(index='name', columns='category', values='district', aggfunc='count').fillna(0)\n",
    "top15['total'] = top15.sum(axis=1)\n",
    "top15 = top15.sort_values(by='total', ascending=False).reset_index()\n",
    "top15 = top15.drop(columns='total')\n",
    "top15 = top15.iloc[:15]"
   ]
  },
  {
   "cell_type": "code",
   "execution_count": null,
   "metadata": {},
   "outputs": [],
   "source": [
    "fig = px.bar(top15,\n",
    "            x= top15.columns,\n",
    "            y= top15['name'],\n",
    "            title=\"Топ-15 сетевых заведений Москвы по количеству\")\n",
    "fig.update_layout(xaxis_title='Количество заведений',\n",
    "                  yaxis_title='Название сетевого заведения',\n",
    "                  yaxis={'categoryorder': 'total ascending'})\n",
    "fig.show()"
   ]
  },
  {
   "cell_type": "markdown",
   "metadata": {},
   "source": [
    "Самое популярное сетевое заведение \"Шоколадница\", которое представлено в категории кофейня и присутствует повсеместно в Москве. Дальше две сети пиццерий, две кофейни формата \"coffee to go\", которые удобно расположены всегда на пути жителей. В итоге в топ-15 большинство это удобные для людей заведения, которые представляют быстрый сервис и являются узнаваемыми по всему городу."
   ]
  },
  {
   "cell_type": "markdown",
   "metadata": {},
   "source": [
    "#### Отобразим общее количество заведений и количество заведений каждой категории по районам"
   ]
  },
  {
   "cell_type": "code",
   "execution_count": null,
   "metadata": {},
   "outputs": [],
   "source": [
    "districts_sum = df.groupby(['district', 'category'])['name'].agg({'count'}).sort_values(by='count', ascending=False).reset_index()\n",
    "fig = px.bar(districts_sum,\n",
    "            x= districts_sum['district'],\n",
    "            y= districts_sum['count'],\n",
    "            color=\"category\",\n",
    "            title=\"Общее количество заведений и количество по категориям в округах\")\n",
    "fig.update_layout(xaxis_title='Район', yaxis_title='Количество заведений')\n",
    "fig.show()"
   ]
  },
  {
   "cell_type": "markdown",
   "metadata": {},
   "source": [
    "Самое большое количество заведений в Центральном АО (больше, чем в 2 раза, чем в любом другом округе). Все остальные округа имеют приблизительно равные по количеству заведений цифры, за исключением СЗАО, там чуть меньше. <br>\n",
    "    Соотношение заведений по районам примерно равное: Преобладают рестораны и кафе. В Центральном округе стоит отметить в равной доли с первыми двумя категориями выделяются кофейни и бары, когда в других округах их значительно меньше. "
   ]
  },
  {
   "cell_type": "markdown",
   "metadata": {},
   "source": [
    "#### Визуализируем распределение средних рейтингов по категориям заведений"
   ]
  },
  {
   "cell_type": "code",
   "execution_count": null,
   "metadata": {},
   "outputs": [],
   "source": [
    "cat_mean = df.groupby(['category'])['rating'].agg({'mean'}).sort_values(by='mean', ascending=False).reset_index()\n",
    "cat_mean"
   ]
  },
  {
   "cell_type": "code",
   "execution_count": null,
   "metadata": {
    "scrolled": false
   },
   "outputs": [],
   "source": [
    "sns.barplot(data = cat_mean, x='category', y='mean').set(ylabel='Рейтинг', xlabel='Категория')\n",
    "plt.xticks(rotation=55)\n",
    "plt.title(\"Средний рейтинг в местах по категориям\");"
   ]
  },
  {
   "cell_type": "markdown",
   "metadata": {},
   "source": [
    "Рейтинг по категориям заведений не сильно изменяется, стоит только отметить, что в барах/пабах самый высокий рейтинг, а в заведениях быстрого питания самый низкий, что связано с настроением людей, которые туда приходят и с внешней атмосферой."
   ]
  },
  {
   "cell_type": "markdown",
   "metadata": {},
   "source": [
    "#### Построим фоновую картограмму (хороплет) со средним рейтингом заведений каждого района"
   ]
  },
  {
   "cell_type": "code",
   "execution_count": null,
   "metadata": {},
   "outputs": [],
   "source": [
    "rating_df = df.groupby('district', as_index=False)['rating'].agg('mean')\n",
    "rating_df"
   ]
  },
  {
   "cell_type": "markdown",
   "metadata": {},
   "source": [
    "##### Фоновая картограмма со средним рейтингом заведений каждого округа"
   ]
  },
  {
   "cell_type": "code",
   "execution_count": null,
   "metadata": {
    "scrolled": false
   },
   "outputs": [],
   "source": [
    "from folium import Map, Choropleth\n",
    "# загружаем JSON-файл с границами округов Москвы\n",
    "state_geo = 'https://code.s3.yandex.net/data-analyst/admin_level_geomap.geojson'\n",
    "# moscow_lat - широта центра Москвы, moscow_lng - долгота центра Москвы\n",
    "moscow_lat, moscow_lng = 55.751244, 37.618423\n",
    "\n",
    "# создаём карту Москвы\n",
    "m = Map(location=[moscow_lat, moscow_lng], zoom_start=10)\n",
    "\n",
    "# создаём хороплет с помощью конструктора Choropleth и добавляем его на карту\n",
    "Choropleth(\n",
    "    geo_data=state_geo,\n",
    "    data=rating_df,\n",
    "    columns=['district', 'rating'],\n",
    "    key_on='feature.name',\n",
    "    fill_color='PuBu',\n",
    "    fill_opacity=0.8,\n",
    "    line_opacity=0.5,\n",
    "    legend_name='Медианный рейтинг заведений по районам',\n",
    ").add_to(m)\n",
    "\n",
    "# выводим карту\n",
    "m"
   ]
  },
  {
   "cell_type": "markdown",
   "metadata": {},
   "source": [
    "Самый высокий рейтинг у заведений в Центральном округе Москвы, что связано с большой концентрацией хороших заведений в нем, а также с большим количеством туристов, которые могут ставить оценки выше из-за хорошего настроения в отпуске"
   ]
  },
  {
   "cell_type": "markdown",
   "metadata": {},
   "source": [
    "##### Хороплет со всеми заведениями датасета"
   ]
  },
  {
   "cell_type": "code",
   "execution_count": null,
   "metadata": {
    "scrolled": true
   },
   "outputs": [],
   "source": [
    "# импортируем карту и маркер\n",
    "from folium import Map, Marker\n",
    "# импортируем кластер\n",
    "from folium.plugins import MarkerCluster\n",
    "\n",
    "# moscow_lat - широта центра Москвы, moscow_lng - долгота центра Москвы\n",
    "moscow_lat, moscow_lng = 55.751244, 37.618423\n",
    "\n",
    "# создаём карту Москвы\n",
    "m = Map(location=[moscow_lat, moscow_lng], zoom_start=10)\n",
    "# создаём пустой кластер, добавляем его на карту\n",
    "marker_cluster = MarkerCluster().add_to(m)\n",
    "\n",
    "# пишем функцию, которая принимает строку датафрейма,\n",
    "# создаёт маркер в текущей точке и добавляет его в кластер marker_cluster\n",
    "def create_clusters(row):\n",
    "    Marker(\n",
    "        [row['lat'], row['lng']],\n",
    "        popup=f\"{row['name']} {row['rating']}\",\n",
    "    ).add_to(marker_cluster)\n",
    "\n",
    "# применяем функцию create_clusters() к каждой строке датафрейма\n",
    "df.apply(create_clusters, axis=1)\n",
    "\n",
    "# выводим карту\n",
    "m"
   ]
  },
  {
   "cell_type": "markdown",
   "metadata": {},
   "source": [
    "#### Найдем топ-15 улиц по количеству заведений"
   ]
  },
  {
   "cell_type": "code",
   "execution_count": null,
   "metadata": {
    "scrolled": false
   },
   "outputs": [],
   "source": [
    "top_str = df.pivot_table(index='street', columns='category', values='name', aggfunc='count').fillna(0)\n",
    "top_str['total'] = top_str.sum(axis=1)\n",
    "top_str = top_str.sort_values(by='total', ascending=False).reset_index()\n",
    "top_str = top_str.drop(columns='total')\n",
    "top_str = top_str.iloc[:15]\n",
    "top_str"
   ]
  },
  {
   "cell_type": "code",
   "execution_count": null,
   "metadata": {},
   "outputs": [],
   "source": [
    "fig = px.bar(top_str,\n",
    "            x= top_str.columns,\n",
    "            y= top_str['street'],\n",
    "            title=\"Топ-15 улиц Москвы по количеству заведений\")\n",
    "fig.update_layout(yaxis_title='Название улицы',\n",
    "                  xaxis_title='Количество заведений',\n",
    "                  yaxis={'categoryorder': 'total ascending'})\n",
    "fig.show()"
   ]
  },
  {
   "cell_type": "markdown",
   "metadata": {},
   "source": [
    "Самой \"ресторанной\" улицей Москвы можно с отрывом назвать проспект Мира просто потому что он пересекает половину города. <br>\n",
    "В принципе, если проанализировать, самые наполненные заведениями, улицы, то можно сделать вывод, что это все крупные проспекты или шоссе, уходящие на окраину, но являющиеся сильно протяженными."
   ]
  },
  {
   "cell_type": "markdown",
   "metadata": {},
   "source": [
    "Найдите улицы, на которых находится только один объект общепита. Что можно сказать об этих заведениях?"
   ]
  },
  {
   "cell_type": "code",
   "execution_count": null,
   "metadata": {},
   "outputs": [],
   "source": [
    "all_streets = df.groupby(['street' ]).agg(cnt_venues_on_street= ('name', 'count')).sort_values(by= 'cnt_venues_on_street', ascending=False).reset_index()\n",
    "street_category = df.groupby(['street','category']).agg(cnt_venues_by_category_on_street=('name', 'count')).reset_index()\n",
    "all_streets = all_streets.merge(street_category, on='street', how='left') \n",
    "all_streets = all_streets.query('cnt_venues_on_street ==1')\n",
    "all_streets"
   ]
  },
  {
   "cell_type": "code",
   "execution_count": null,
   "metadata": {},
   "outputs": [],
   "source": [
    "horo_df_raw = df.drop(columns='address') # убираем столбец с адресом, чтобы присоеденить датафреймы "
   ]
  },
  {
   "cell_type": "code",
   "execution_count": null,
   "metadata": {},
   "outputs": [],
   "source": [
    "# убираем столбец с адресом, чтобы присоеденить датафреймы(в одном address - int, в другом object)\n",
    "horo_df_raw = df.drop(columns='address')\n",
    "# соединяем таблицы для получения широты и долготы и последующей визуализации на карте\n",
    "horo_df_ready = all_streets.merge(horo_df_raw, how = 'left', left_on='street', right_on='street')\n",
    "horo_df_ready "
   ]
  },
  {
   "cell_type": "code",
   "execution_count": null,
   "metadata": {},
   "outputs": [],
   "source": [
    "solo_street_plot = horo_df_ready.pivot_table(index='category_x', values='name', aggfunc='count').reset_index()\n",
    "\n",
    "sns.barplot(data=solo_street_plot, x='category_x', y='name').set(ylabel='Кол-во улиц', xlabel='Категория')\n",
    "plt.xticks(rotation=55)\n",
    "plt.title('Количество заведений по категориям, являющихся единственными на улице')"
   ]
  },
  {
   "cell_type": "markdown",
   "metadata": {},
   "source": [
    "##### Хороплет с улицами, на которых находится только один объект общепита"
   ]
  },
  {
   "cell_type": "code",
   "execution_count": null,
   "metadata": {
    "scrolled": false
   },
   "outputs": [],
   "source": [
    "# импортируем карту и маркер\n",
    "from folium import Map, Marker\n",
    "# импортируем кластер\n",
    "from folium.plugins import MarkerCluster\n",
    "\n",
    "# moscow_lat - широта центра Москвы, moscow_lng - долгота центра Москвы\n",
    "moscow_lat, moscow_lng = 55.751244, 37.618423\n",
    "\n",
    "# создаём карту Москвы\n",
    "m = Map(location=[moscow_lat, moscow_lng], zoom_start=10)\n",
    "# создаём пустой кластер, добавляем его на карту\n",
    "marker_cluster = MarkerCluster().add_to(m)\n",
    "\n",
    "# пишем функцию, которая принимает строку датафрейма,\n",
    "# создаёт маркер в текущей точке и добавляет его в кластер marker_cluster\n",
    "def create_clusters(row):\n",
    "    Marker(\n",
    "        [row['lat'], row['lng']],\n",
    "        popup=f\"{row['name']} {row['rating']}\",\n",
    "    ).add_to(marker_cluster)\n",
    "\n",
    "# применяем функцию create_clusters() к каждой строке датафрейма\n",
    "horo_df_ready.apply(create_clusters, axis=1)\n",
    "\n",
    "# выводим карту\n",
    "m"
   ]
  },
  {
   "cell_type": "markdown",
   "metadata": {},
   "source": [
    "Заведения, которые являются единственными на улице, присутствуют по всему городу. В основном, это маленькие переулки, либо промзоны. Большинство одиночностоящих заведений представлены кафе, ресторанами, кофейнями, барами и столовыми. В основном, это заведения для местных жителей, либо заведения при предприятиях."
   ]
  },
  {
   "cell_type": "markdown",
   "metadata": {},
   "source": [
    "#### Проанализируем цены в центральном административном округе и других"
   ]
  },
  {
   "cell_type": "code",
   "execution_count": null,
   "metadata": {},
   "outputs": [],
   "source": [
    "median_df = df.groupby('district', as_index=False)['middle_avg_bill'].agg('median')\n",
    "median_df"
   ]
  },
  {
   "cell_type": "code",
   "execution_count": null,
   "metadata": {},
   "outputs": [],
   "source": [
    "from folium import Map, Choropleth\n",
    "# загружаем JSON-файл с границами округов Москвы\n",
    "state_geo = 'https://code.s3.yandex.net/data-analyst/admin_level_geomap.geojson'\n",
    "# moscow_lat - широта центра Москвы, moscow_lng - долгота центра Москвы\n",
    "moscow_lat, moscow_lng = 55.751244, 37.618423\n",
    "\n",
    "# создаём карту Москвы\n",
    "m = Map(location=[moscow_lat, moscow_lng], zoom_start=10)\n",
    "\n",
    "# создаём хороплет с помощью конструктора Choropleth и добавляем его на карту\n",
    "Choropleth(\n",
    "    geo_data=state_geo,\n",
    "    data=median_df,\n",
    "    columns=['district', 'middle_avg_bill'],\n",
    "    key_on='feature.name',\n",
    "    fill_color='PuBu',\n",
    "    fill_opacity=0.8,\n",
    "    line_opacity=0.5,\n",
    "    legend_name='Средний чек по округам',\n",
    ").add_to(m)\n",
    "\n",
    "# выводим карту\n",
    "m"
   ]
  },
  {
   "cell_type": "markdown",
   "metadata": {},
   "source": [
    "Изменение среднего чека по округам города Москвы имеет западную направленность, два округа -- Центральный и Западный имеют стоимость среднего чека 1000р. Центральный район является туристическим, а также включает в себя огромное количество заведений(включая бары), что приводит к высокому значению среднего чека. На счет Западного округа, возможно, высокие цены связаны с тем, что в него входит достаточное количество достопримечательностей(парков, спортивных объектов), чтобы привлекать туда достаточное количество туристов, которые не скупятся при заказе. <br>\n",
    "Остальные округи имеют приблизительно равные значения среднего чека в диапазоне 450-650р."
   ]
  },
  {
   "cell_type": "markdown",
   "metadata": {},
   "source": [
    "### ВЫВОД <br>\n",
    "Самым наполненным заведениями, является Центральный округ. В нем немного другие закономерности, а также средние цены. Если на окраинах города баров практически нет, то в центре их количество сопоставимо с ресторанами и кофейнями. <br>\n",
    "Больше всего заведений представлены кафе, ресторанами и кофейнями. <br>\n",
    "Одиночные заведения, как правило, являются кафе и располагаются на маленьких улицах, либо в промзонах и парках <br>\n"
   ]
  },
  {
   "cell_type": "markdown",
   "metadata": {},
   "source": [
    "<div class=\"alert alert-block alert-success\">✔️\n",
    "    \n",
    "\n",
    "__Комментарий от ревьюера №2__\n",
    "\n",
    "Отличный инсайд для заказчика) Молодец =)\n",
    "</div>"
   ]
  },
  {
   "cell_type": "markdown",
   "metadata": {},
   "source": [
    "### Детализируем исследование: открытие кофейни"
   ]
  },
  {
   "cell_type": "markdown",
   "metadata": {},
   "source": [
    "#### Об исследовании:\n",
    "Основателям фонда «Shut Up and Take My Money» не даёт покоя успех сериала «Друзья». Их мечта — открыть такую же крутую и доступную, как «Central Perk», кофейню в Москве. Будем считать, что заказчики не боятся конкуренции в этой сфере, ведь кофеен в больших городах уже достаточно. Попробуйте определить, осуществима ли мечта клиентов."
   ]
  },
  {
   "cell_type": "markdown",
   "metadata": {},
   "source": [
    "#### Посмотрим в каких районах больше всего кофеен и каковы особенности их расположения"
   ]
  },
  {
   "cell_type": "code",
   "execution_count": null,
   "metadata": {},
   "outputs": [],
   "source": [
    "coffee = df.query('category==\"кофейня\"')"
   ]
  },
  {
   "cell_type": "code",
   "execution_count": null,
   "metadata": {},
   "outputs": [],
   "source": [
    "coff_m = coffee.groupby('district', as_index=False)['name'].agg('count')\n",
    "coff_m.sort_values(by='name', ascending=False)"
   ]
  },
  {
   "cell_type": "markdown",
   "metadata": {},
   "source": [
    "#### Хитмэп с распределением кофеен по районам"
   ]
  },
  {
   "cell_type": "code",
   "execution_count": null,
   "metadata": {
    "scrolled": false
   },
   "outputs": [],
   "source": [
    "from folium import Map, Choropleth\n",
    "# загружаем JSON-файл с границами округов Москвы\n",
    "state_geo = 'https://code.s3.yandex.net/data-analyst/admin_level_geomap.geojson'\n",
    "# moscow_lat - широта центра Москвы, moscow_lng - долгота центра Москвы\n",
    "moscow_lat, moscow_lng = 55.751244, 37.618423\n",
    "\n",
    "# создаём карту Москвы\n",
    "m = Map(location=[moscow_lat, moscow_lng], zoom_start=10)\n",
    "\n",
    "# создаём хороплет с помощью конструктора Choropleth и добавляем его на карту\n",
    "Choropleth(\n",
    "    geo_data=state_geo,\n",
    "    data=coff_m,\n",
    "    columns=['district', 'name'],\n",
    "    key_on='feature.name',\n",
    "    fill_color='PuBu',\n",
    "    fill_opacity=0.8,\n",
    "    line_opacity=0.5,\n",
    "    legend_name='Распределение кофеен по районам',\n",
    ").add_to(m)\n",
    "\n",
    "# выводим карту\n",
    "m"
   ]
  },
  {
   "cell_type": "markdown",
   "metadata": {},
   "source": [
    "#### Хорроплет с расположением кофеен по городу"
   ]
  },
  {
   "cell_type": "code",
   "execution_count": null,
   "metadata": {
    "scrolled": false
   },
   "outputs": [],
   "source": [
    "# импортируем карту и маркер\n",
    "from folium import Map, Marker\n",
    "# импортируем кластер\n",
    "from folium.plugins import MarkerCluster\n",
    "\n",
    "# moscow_lat - широта центра Москвы, moscow_lng - долгота центра Москвы\n",
    "moscow_lat, moscow_lng = 55.751244, 37.618423\n",
    "\n",
    "# создаём карту Москвы\n",
    "m = Map(location=[moscow_lat, moscow_lng], zoom_start=10)\n",
    "# создаём пустой кластер, добавляем его на карту\n",
    "marker_cluster = MarkerCluster().add_to(m)\n",
    "\n",
    "# пишем функцию, которая принимает строку датафрейма,\n",
    "# создаёт маркер в текущей точке и добавляет его в кластер marker_cluster\n",
    "def create_clusters(row):\n",
    "    Marker(\n",
    "        [row['lat'], row['lng']],\n",
    "        popup=f\"{row['name']} {row['rating']}\",\n",
    "    ).add_to(marker_cluster)\n",
    "\n",
    "# применяем функцию create_clusters() к каждой строке датафрейма\n",
    "coffee.apply(create_clusters, axis=1)\n",
    "\n",
    "# выводим карту\n",
    "m"
   ]
  },
  {
   "cell_type": "markdown",
   "metadata": {},
   "source": [
    "Кофейни есть везде по городу, а, особенно, они есть в центральном округе и немного поодаль, в пределах третьего кольца. На окраинах их также достаточно, но распределены они достаточно редко, в основном, привязываясь к каким-либо местам интереса."
   ]
  },
  {
   "cell_type": "markdown",
   "metadata": {},
   "source": [
    "#### Узнаем есть ли круглосуточные кофейни"
   ]
  },
  {
   "cell_type": "code",
   "execution_count": null,
   "metadata": {},
   "outputs": [],
   "source": [
    "coffee.is_24_7.value_counts()"
   ]
  },
  {
   "cell_type": "markdown",
   "metadata": {},
   "source": [
    "Из 1398 кофеен в Москве, 59 из них работают круглосуточно. Они существуют, но их крайне мало"
   ]
  },
  {
   "cell_type": "markdown",
   "metadata": {},
   "source": [
    "#### Узнаем какие у кофеен рейтинги и как они распределяются по районам"
   ]
  },
  {
   "cell_type": "code",
   "execution_count": null,
   "metadata": {},
   "outputs": [],
   "source": [
    "rating_cf = coffee.groupby('district', as_index=False)['rating'].agg('mean')\n",
    "rating_cf"
   ]
  },
  {
   "cell_type": "markdown",
   "metadata": {},
   "source": [
    "Рейтинг кофеен никак не зависит от их местоположения и имеет приблизительно равные значения"
   ]
  },
  {
   "cell_type": "markdown",
   "metadata": {},
   "source": [
    "#### Узнаем на какую стоимость чашки капучино стоит ориентироваться при открытии"
   ]
  },
  {
   "cell_type": "code",
   "execution_count": null,
   "metadata": {},
   "outputs": [],
   "source": [
    "cup_m = coffee.groupby('district', as_index=False)['middle_coffee_cup'].agg('median')\n",
    "cup_m.sort_values(by='middle_coffee_cup', ascending=False)"
   ]
  },
  {
   "cell_type": "code",
   "execution_count": null,
   "metadata": {
    "scrolled": false
   },
   "outputs": [],
   "source": [
    "from folium import Map, Choropleth\n",
    "# загружаем JSON-файл с границами округов Москвы\n",
    "state_geo = 'https://code.s3.yandex.net/data-analyst/admin_level_geomap.geojson'\n",
    "# moscow_lat - широта центра Москвы, moscow_lng - долгота центра Москвы\n",
    "moscow_lat, moscow_lng = 55.751244, 37.618423\n",
    "\n",
    "# создаём карту Москвы\n",
    "m = Map(location=[moscow_lat, moscow_lng], zoom_start=10)\n",
    "\n",
    "# создаём хороплет с помощью конструктора Choropleth и добавляем его на карту\n",
    "Choropleth(\n",
    "    geo_data=state_geo,\n",
    "    data=cup_m,\n",
    "    columns=['district', 'middle_coffee_cup'],\n",
    "    key_on='feature.name',\n",
    "    fill_color='PuBu',\n",
    "    fill_opacity=0.8,\n",
    "    line_opacity=0.5,\n",
    "    legend_name='Средняя стоимость чашки капучино',\n",
    ").add_to(m)\n",
    "\n",
    "# выводим карту\n",
    "m"
   ]
  },
  {
   "cell_type": "markdown",
   "metadata": {},
   "source": [
    "Самая дорогая чашка капучино будет в центре города(практически 200 рублей), а также не сильно дешевле будет в Западном и Юго-Западном округах Москвы. <br>\n",
    "Соответственно, при открытии кофейни, стоит ориентироваться на средние значения по округам, и делать немного ниже, чтобы иметь преимущество. В разных частях города, разные цены. При желании открыть кофейню в Битцевском парке, можно поставить средний ценник выше, нежели кофейня была бы открыта в Измайловском лесопарке."
   ]
  },
  {
   "cell_type": "markdown",
   "metadata": {},
   "source": [
    "#### Рекомендация к открытию кофейни <br>\n",
    "Выгодно открывать кофейню ближе к центру, либо около/на территории туристических мест, либо мест отдыха. К сожалению, данная ниша практически полностью закрыта, и раскрутиться при такой высокой конкуренции будет крайне сложно. Вероятно, стоит обратить внимание на франшизные предложения, заведение с именем будет иметь успех практически всегда, при условии отсутствия перенаполнения территории заведениями.\n"
   ]
  },
  {
   "cell_type": "markdown",
   "metadata": {},
   "source": [
    "### Презентация: https://drive.google.com/file/d/1ScUzmCM4M1mBeQLkQKMZSZZTHHZZB-vz/view?usp=sharing"
   ]
  },
  {
   "cell_type": "code",
   "execution_count": null,
   "metadata": {},
   "outputs": [],
   "source": []
  }
 ],
 "metadata": {
  "ExecuteTimeLog": [
   {
    "duration": 1542,
    "start_time": "2023-04-25T18:37:29.694Z"
   },
   {
    "duration": 3,
    "start_time": "2023-04-25T18:37:31.238Z"
   },
   {
    "duration": 262,
    "start_time": "2023-04-25T18:37:31.243Z"
   },
   {
    "duration": 3,
    "start_time": "2023-04-25T18:37:31.507Z"
   },
   {
    "duration": 83,
    "start_time": "2023-04-25T18:37:31.512Z"
   },
   {
    "duration": 21,
    "start_time": "2023-04-25T18:37:31.597Z"
   },
   {
    "duration": 38,
    "start_time": "2023-04-25T18:37:31.620Z"
   },
   {
    "duration": 79,
    "start_time": "2023-04-25T18:37:31.659Z"
   },
   {
    "duration": 9,
    "start_time": "2023-04-25T18:37:31.740Z"
   },
   {
    "duration": 47,
    "start_time": "2023-04-25T18:37:31.752Z"
   },
   {
    "duration": 167,
    "start_time": "2023-04-25T18:37:31.801Z"
   },
   {
    "duration": 0,
    "start_time": "2023-04-25T18:37:31.971Z"
   },
   {
    "duration": 0,
    "start_time": "2023-04-25T18:37:31.973Z"
   },
   {
    "duration": 0,
    "start_time": "2023-04-25T18:37:31.974Z"
   },
   {
    "duration": 0,
    "start_time": "2023-04-25T18:37:31.976Z"
   },
   {
    "duration": 0,
    "start_time": "2023-04-25T18:37:31.978Z"
   },
   {
    "duration": 0,
    "start_time": "2023-04-25T18:37:31.979Z"
   },
   {
    "duration": 0,
    "start_time": "2023-04-25T18:37:31.980Z"
   },
   {
    "duration": 0,
    "start_time": "2023-04-25T18:37:31.984Z"
   },
   {
    "duration": 0,
    "start_time": "2023-04-25T18:37:31.985Z"
   },
   {
    "duration": 0,
    "start_time": "2023-04-25T18:37:31.987Z"
   },
   {
    "duration": 0,
    "start_time": "2023-04-25T18:37:31.988Z"
   },
   {
    "duration": 1,
    "start_time": "2023-04-25T18:37:31.989Z"
   },
   {
    "duration": 0,
    "start_time": "2023-04-25T18:37:31.991Z"
   },
   {
    "duration": 0,
    "start_time": "2023-04-25T18:37:31.993Z"
   },
   {
    "duration": 0,
    "start_time": "2023-04-25T18:37:31.994Z"
   },
   {
    "duration": 1,
    "start_time": "2023-04-25T18:37:31.995Z"
   },
   {
    "duration": 0,
    "start_time": "2023-04-25T18:37:31.997Z"
   },
   {
    "duration": 0,
    "start_time": "2023-04-25T18:37:31.998Z"
   },
   {
    "duration": 0,
    "start_time": "2023-04-25T18:37:32.000Z"
   },
   {
    "duration": 0,
    "start_time": "2023-04-25T18:37:32.001Z"
   },
   {
    "duration": 0,
    "start_time": "2023-04-25T18:37:32.003Z"
   },
   {
    "duration": 0,
    "start_time": "2023-04-25T18:37:32.004Z"
   },
   {
    "duration": 0,
    "start_time": "2023-04-25T18:37:32.057Z"
   },
   {
    "duration": 0,
    "start_time": "2023-04-25T18:37:32.058Z"
   },
   {
    "duration": 1,
    "start_time": "2023-04-25T18:37:32.059Z"
   },
   {
    "duration": 0,
    "start_time": "2023-04-25T18:37:32.061Z"
   },
   {
    "duration": 0,
    "start_time": "2023-04-25T18:37:32.062Z"
   },
   {
    "duration": 0,
    "start_time": "2023-04-25T18:37:32.063Z"
   },
   {
    "duration": 0,
    "start_time": "2023-04-25T18:37:32.065Z"
   },
   {
    "duration": 0,
    "start_time": "2023-04-25T18:37:32.066Z"
   },
   {
    "duration": 13,
    "start_time": "2023-04-25T18:39:10.470Z"
   },
   {
    "duration": 11,
    "start_time": "2023-04-25T18:39:53.805Z"
   },
   {
    "duration": 14,
    "start_time": "2023-04-25T18:40:05.058Z"
   },
   {
    "duration": 897,
    "start_time": "2023-04-25T18:40:39.134Z"
   },
   {
    "duration": 168,
    "start_time": "2023-04-25T18:40:52.207Z"
   },
   {
    "duration": 180,
    "start_time": "2023-04-25T18:40:52.754Z"
   },
   {
    "duration": 8,
    "start_time": "2023-04-25T18:40:53.327Z"
   },
   {
    "duration": 9,
    "start_time": "2023-04-25T18:40:53.466Z"
   },
   {
    "duration": 76,
    "start_time": "2023-04-25T18:40:53.631Z"
   },
   {
    "duration": 26,
    "start_time": "2023-04-25T18:40:54.119Z"
   },
   {
    "duration": 99,
    "start_time": "2023-04-25T18:40:54.287Z"
   },
   {
    "duration": 73,
    "start_time": "2023-04-25T18:40:54.838Z"
   },
   {
    "duration": 12,
    "start_time": "2023-04-25T18:40:55.349Z"
   },
   {
    "duration": 16,
    "start_time": "2023-04-25T18:40:55.518Z"
   },
   {
    "duration": 12,
    "start_time": "2023-04-25T18:40:56.025Z"
   },
   {
    "duration": 151,
    "start_time": "2023-04-25T18:40:56.342Z"
   },
   {
    "duration": 10234,
    "start_time": "2023-04-25T18:40:57.002Z"
   },
   {
    "duration": 46,
    "start_time": "2023-04-25T18:41:07.239Z"
   },
   {
    "duration": 183,
    "start_time": "2023-04-25T18:41:07.287Z"
   },
   {
    "duration": 150,
    "start_time": "2023-04-25T18:41:07.472Z"
   },
   {
    "duration": 6,
    "start_time": "2023-04-25T18:41:07.624Z"
   },
   {
    "duration": 175,
    "start_time": "2023-04-25T18:41:07.632Z"
   },
   {
    "duration": 50,
    "start_time": "2023-04-25T18:41:07.809Z"
   },
   {
    "duration": 0,
    "start_time": "2023-04-25T18:41:07.861Z"
   },
   {
    "duration": 0,
    "start_time": "2023-04-25T18:41:07.862Z"
   },
   {
    "duration": 0,
    "start_time": "2023-04-25T18:41:07.864Z"
   },
   {
    "duration": 0,
    "start_time": "2023-04-25T18:41:07.865Z"
   },
   {
    "duration": 0,
    "start_time": "2023-04-25T18:41:07.866Z"
   },
   {
    "duration": 0,
    "start_time": "2023-04-25T18:41:07.867Z"
   },
   {
    "duration": 0,
    "start_time": "2023-04-25T18:41:07.868Z"
   },
   {
    "duration": 0,
    "start_time": "2023-04-25T18:41:07.869Z"
   },
   {
    "duration": 0,
    "start_time": "2023-04-25T18:41:07.870Z"
   },
   {
    "duration": 0,
    "start_time": "2023-04-25T18:41:07.871Z"
   },
   {
    "duration": 0,
    "start_time": "2023-04-25T18:41:07.873Z"
   },
   {
    "duration": 1782,
    "start_time": "2023-04-25T19:16:10.704Z"
   },
   {
    "duration": 4,
    "start_time": "2023-04-25T19:16:12.489Z"
   },
   {
    "duration": 230,
    "start_time": "2023-04-25T19:16:12.494Z"
   },
   {
    "duration": 3,
    "start_time": "2023-04-25T19:16:12.726Z"
   },
   {
    "duration": 67,
    "start_time": "2023-04-25T19:16:12.731Z"
   },
   {
    "duration": 15,
    "start_time": "2023-04-25T19:16:13.335Z"
   },
   {
    "duration": 10,
    "start_time": "2023-04-25T19:16:13.866Z"
   },
   {
    "duration": 64,
    "start_time": "2023-04-25T19:16:14.460Z"
   },
   {
    "duration": 9,
    "start_time": "2023-04-25T19:16:15.224Z"
   },
   {
    "duration": 12,
    "start_time": "2023-04-25T19:16:17.021Z"
   },
   {
    "duration": 7,
    "start_time": "2023-04-25T19:16:17.964Z"
   },
   {
    "duration": 117,
    "start_time": "2023-04-25T19:16:20.916Z"
   },
   {
    "duration": 16,
    "start_time": "2023-04-25T19:16:38.050Z"
   },
   {
    "duration": 185,
    "start_time": "2023-04-25T19:17:06.434Z"
   },
   {
    "duration": 187,
    "start_time": "2023-04-25T19:17:14.551Z"
   },
   {
    "duration": 628,
    "start_time": "2023-04-25T19:17:16.437Z"
   },
   {
    "duration": 8,
    "start_time": "2023-04-25T19:17:20.224Z"
   },
   {
    "duration": 9,
    "start_time": "2023-04-25T19:17:20.878Z"
   },
   {
    "duration": 201,
    "start_time": "2023-04-25T19:17:25.722Z"
   },
   {
    "duration": 23,
    "start_time": "2023-04-25T19:17:27.239Z"
   },
   {
    "duration": 82,
    "start_time": "2023-04-25T19:17:27.433Z"
   },
   {
    "duration": 128,
    "start_time": "2023-04-25T19:17:29.559Z"
   },
   {
    "duration": 18,
    "start_time": "2023-04-25T19:17:30.914Z"
   },
   {
    "duration": 72,
    "start_time": "2023-04-25T19:17:31.328Z"
   },
   {
    "duration": 1454,
    "start_time": "2023-04-25T20:53:06.822Z"
   },
   {
    "duration": 4,
    "start_time": "2023-04-25T20:53:08.278Z"
   },
   {
    "duration": 187,
    "start_time": "2023-04-25T20:53:08.283Z"
   },
   {
    "duration": 3,
    "start_time": "2023-04-25T20:53:08.473Z"
   },
   {
    "duration": 50,
    "start_time": "2023-04-25T20:53:08.478Z"
   },
   {
    "duration": 38,
    "start_time": "2023-04-25T20:53:08.530Z"
   },
   {
    "duration": 25,
    "start_time": "2023-04-25T20:53:08.570Z"
   },
   {
    "duration": 76,
    "start_time": "2023-04-25T20:53:08.597Z"
   },
   {
    "duration": 8,
    "start_time": "2023-04-25T20:53:08.675Z"
   },
   {
    "duration": 31,
    "start_time": "2023-04-25T20:53:08.686Z"
   },
   {
    "duration": 8,
    "start_time": "2023-04-25T20:53:08.719Z"
   },
   {
    "duration": 213,
    "start_time": "2023-04-25T20:53:08.729Z"
   },
   {
    "duration": 164,
    "start_time": "2023-04-25T20:53:08.944Z"
   },
   {
    "duration": 987,
    "start_time": "2023-04-25T20:53:09.110Z"
   },
   {
    "duration": 59,
    "start_time": "2023-04-25T20:53:10.100Z"
   },
   {
    "duration": 10,
    "start_time": "2023-04-25T20:53:10.161Z"
   },
   {
    "duration": 315,
    "start_time": "2023-04-25T20:53:10.173Z"
   },
   {
    "duration": 24,
    "start_time": "2023-04-25T20:53:10.490Z"
   },
   {
    "duration": 100,
    "start_time": "2023-04-25T20:53:10.516Z"
   },
   {
    "duration": 114,
    "start_time": "2023-04-25T20:53:10.620Z"
   },
   {
    "duration": 25,
    "start_time": "2023-04-25T20:53:10.736Z"
   },
   {
    "duration": 219,
    "start_time": "2023-04-25T20:53:10.763Z"
   },
   {
    "duration": 0,
    "start_time": "2023-04-25T20:53:10.984Z"
   },
   {
    "duration": 0,
    "start_time": "2023-04-25T20:53:10.985Z"
   },
   {
    "duration": 0,
    "start_time": "2023-04-25T20:53:10.987Z"
   },
   {
    "duration": 0,
    "start_time": "2023-04-25T20:53:10.988Z"
   },
   {
    "duration": 0,
    "start_time": "2023-04-25T20:53:10.990Z"
   },
   {
    "duration": 0,
    "start_time": "2023-04-25T20:53:10.992Z"
   },
   {
    "duration": 0,
    "start_time": "2023-04-25T20:53:10.993Z"
   },
   {
    "duration": 0,
    "start_time": "2023-04-25T20:53:10.994Z"
   },
   {
    "duration": 0,
    "start_time": "2023-04-25T20:53:10.995Z"
   },
   {
    "duration": 0,
    "start_time": "2023-04-25T20:53:10.997Z"
   },
   {
    "duration": 0,
    "start_time": "2023-04-25T20:53:10.998Z"
   },
   {
    "duration": 0,
    "start_time": "2023-04-25T20:53:11.000Z"
   },
   {
    "duration": 0,
    "start_time": "2023-04-25T20:53:11.002Z"
   },
   {
    "duration": 0,
    "start_time": "2023-04-25T20:53:11.003Z"
   },
   {
    "duration": 0,
    "start_time": "2023-04-25T20:53:11.005Z"
   },
   {
    "duration": 1,
    "start_time": "2023-04-25T20:53:11.006Z"
   },
   {
    "duration": 0,
    "start_time": "2023-04-25T20:53:11.008Z"
   },
   {
    "duration": 0,
    "start_time": "2023-04-25T20:53:11.009Z"
   },
   {
    "duration": 0,
    "start_time": "2023-04-25T20:53:11.010Z"
   },
   {
    "duration": 0,
    "start_time": "2023-04-25T20:53:11.012Z"
   },
   {
    "duration": 1762,
    "start_time": "2023-04-25T21:06:25.603Z"
   },
   {
    "duration": 7,
    "start_time": "2023-04-25T21:06:27.367Z"
   },
   {
    "duration": 181,
    "start_time": "2023-04-25T21:06:27.376Z"
   },
   {
    "duration": 3,
    "start_time": "2023-04-25T21:06:27.561Z"
   },
   {
    "duration": 50,
    "start_time": "2023-04-25T21:06:28.608Z"
   },
   {
    "duration": 16,
    "start_time": "2023-04-25T21:06:29.227Z"
   },
   {
    "duration": 12,
    "start_time": "2023-04-25T21:06:32.270Z"
   },
   {
    "duration": 129,
    "start_time": "2023-04-25T21:06:32.284Z"
   },
   {
    "duration": 8,
    "start_time": "2023-04-25T21:06:33.239Z"
   },
   {
    "duration": 15,
    "start_time": "2023-04-25T21:06:34.711Z"
   },
   {
    "duration": 10,
    "start_time": "2023-04-25T21:06:35.063Z"
   },
   {
    "duration": 174,
    "start_time": "2023-04-25T21:06:37.477Z"
   },
   {
    "duration": 6,
    "start_time": "2023-04-25T21:07:25.057Z"
   },
   {
    "duration": 14,
    "start_time": "2023-04-25T21:07:25.065Z"
   },
   {
    "duration": 167,
    "start_time": "2023-04-25T21:07:25.081Z"
   },
   {
    "duration": 3,
    "start_time": "2023-04-25T21:07:25.250Z"
   },
   {
    "duration": 57,
    "start_time": "2023-04-25T21:07:25.256Z"
   },
   {
    "duration": 14,
    "start_time": "2023-04-25T21:07:25.314Z"
   },
   {
    "duration": 9,
    "start_time": "2023-04-25T21:07:25.330Z"
   },
   {
    "duration": 89,
    "start_time": "2023-04-25T21:07:25.340Z"
   },
   {
    "duration": 7,
    "start_time": "2023-04-25T21:07:25.430Z"
   },
   {
    "duration": 38,
    "start_time": "2023-04-25T21:07:25.439Z"
   },
   {
    "duration": 19,
    "start_time": "2023-04-25T21:07:25.479Z"
   },
   {
    "duration": 163,
    "start_time": "2023-04-25T21:07:25.499Z"
   },
   {
    "duration": 151,
    "start_time": "2023-04-25T21:07:25.663Z"
   },
   {
    "duration": 657,
    "start_time": "2023-04-25T21:07:25.817Z"
   },
   {
    "duration": 14,
    "start_time": "2023-04-25T21:07:26.475Z"
   },
   {
    "duration": 14,
    "start_time": "2023-04-25T21:07:26.490Z"
   },
   {
    "duration": 264,
    "start_time": "2023-04-25T21:07:26.510Z"
   },
   {
    "duration": 26,
    "start_time": "2023-04-25T21:07:26.779Z"
   },
   {
    "duration": 95,
    "start_time": "2023-04-25T21:07:26.806Z"
   },
   {
    "duration": 100,
    "start_time": "2023-04-25T21:07:26.903Z"
   },
   {
    "duration": 11,
    "start_time": "2023-04-25T21:07:27.005Z"
   },
   {
    "duration": 13,
    "start_time": "2023-04-25T21:07:35.694Z"
   },
   {
    "duration": 196,
    "start_time": "2023-04-25T21:07:36.357Z"
   },
   {
    "duration": 181,
    "start_time": "2023-04-25T21:07:46.357Z"
   },
   {
    "duration": 171,
    "start_time": "2023-04-25T21:07:53.518Z"
   },
   {
    "duration": 19,
    "start_time": "2023-04-25T21:08:07.086Z"
   },
   {
    "duration": 323,
    "start_time": "2023-04-25T21:08:25.684Z"
   },
   {
    "duration": 12022,
    "start_time": "2023-04-25T21:08:29.233Z"
   },
   {
    "duration": 48,
    "start_time": "2023-04-25T21:08:41.260Z"
   },
   {
    "duration": 179,
    "start_time": "2023-04-25T21:08:41.309Z"
   },
   {
    "duration": 210,
    "start_time": "2023-04-25T21:08:41.490Z"
   },
   {
    "duration": 6,
    "start_time": "2023-04-25T21:08:41.701Z"
   },
   {
    "duration": 264,
    "start_time": "2023-04-25T21:08:41.708Z"
   },
   {
    "duration": 38,
    "start_time": "2023-04-25T21:08:41.980Z"
   },
   {
    "duration": 0,
    "start_time": "2023-04-25T21:08:42.020Z"
   },
   {
    "duration": 0,
    "start_time": "2023-04-25T21:08:42.021Z"
   },
   {
    "duration": 0,
    "start_time": "2023-04-25T21:08:42.022Z"
   },
   {
    "duration": 6,
    "start_time": "2023-04-25T21:08:46.906Z"
   },
   {
    "duration": 13,
    "start_time": "2023-04-25T21:08:47.153Z"
   },
   {
    "duration": 411,
    "start_time": "2023-04-25T21:08:49.616Z"
   },
   {
    "duration": 1720,
    "start_time": "2023-04-25T21:08:51.963Z"
   },
   {
    "duration": 13,
    "start_time": "2023-04-25T21:08:53.857Z"
   },
   {
    "duration": 10,
    "start_time": "2023-04-25T21:08:56.033Z"
   },
   {
    "duration": 11,
    "start_time": "2023-04-25T21:08:57.404Z"
   },
   {
    "duration": 187,
    "start_time": "2023-04-25T21:08:57.842Z"
   },
   {
    "duration": 619,
    "start_time": "2023-04-25T21:09:15.186Z"
   },
   {
    "duration": 220,
    "start_time": "2023-04-25T21:09:35.590Z"
   },
   {
    "duration": 4,
    "start_time": "2023-04-25T21:14:37.986Z"
   },
   {
    "duration": 12,
    "start_time": "2023-04-25T21:14:37.991Z"
   },
   {
    "duration": 166,
    "start_time": "2023-04-25T21:14:38.005Z"
   },
   {
    "duration": 3,
    "start_time": "2023-04-25T21:14:38.173Z"
   },
   {
    "duration": 61,
    "start_time": "2023-04-25T21:14:38.179Z"
   },
   {
    "duration": 14,
    "start_time": "2023-04-25T21:14:38.242Z"
   },
   {
    "duration": 22,
    "start_time": "2023-04-25T21:14:38.260Z"
   },
   {
    "duration": 73,
    "start_time": "2023-04-25T21:14:38.284Z"
   },
   {
    "duration": 25,
    "start_time": "2023-04-25T21:14:38.359Z"
   },
   {
    "duration": 12,
    "start_time": "2023-04-25T21:14:38.394Z"
   },
   {
    "duration": 9,
    "start_time": "2023-04-25T21:14:38.408Z"
   },
   {
    "duration": 222,
    "start_time": "2023-04-25T21:14:38.419Z"
   },
   {
    "duration": 157,
    "start_time": "2023-04-25T21:14:38.642Z"
   },
   {
    "duration": 154,
    "start_time": "2023-04-25T21:14:38.803Z"
   },
   {
    "duration": 23,
    "start_time": "2023-04-25T21:14:38.958Z"
   },
   {
    "duration": 18,
    "start_time": "2023-04-25T21:14:38.986Z"
   },
   {
    "duration": 229,
    "start_time": "2023-04-25T21:14:39.007Z"
   },
   {
    "duration": 35,
    "start_time": "2023-04-25T21:14:39.238Z"
   },
   {
    "duration": 83,
    "start_time": "2023-04-25T21:14:39.274Z"
   },
   {
    "duration": 92,
    "start_time": "2023-04-25T21:14:39.358Z"
   },
   {
    "duration": 26,
    "start_time": "2023-04-25T21:14:39.452Z"
   },
   {
    "duration": 178,
    "start_time": "2023-04-25T21:14:39.483Z"
   },
   {
    "duration": 20,
    "start_time": "2023-04-25T21:14:39.670Z"
   },
   {
    "duration": 201,
    "start_time": "2023-04-25T21:14:39.692Z"
   },
   {
    "duration": 11081,
    "start_time": "2023-04-25T21:14:39.895Z"
   },
   {
    "duration": 40,
    "start_time": "2023-04-25T21:14:50.986Z"
   },
   {
    "duration": 183,
    "start_time": "2023-04-25T21:14:51.027Z"
   },
   {
    "duration": 190,
    "start_time": "2023-04-25T21:14:51.212Z"
   },
   {
    "duration": 5,
    "start_time": "2023-04-25T21:14:51.404Z"
   },
   {
    "duration": 206,
    "start_time": "2023-04-25T21:14:51.411Z"
   },
   {
    "duration": 227,
    "start_time": "2023-04-25T21:14:51.619Z"
   },
   {
    "duration": 599,
    "start_time": "2023-04-25T21:14:51.847Z"
   },
   {
    "duration": 27,
    "start_time": "2023-04-25T21:14:52.448Z"
   },
   {
    "duration": 165,
    "start_time": "2023-04-25T21:14:52.482Z"
   },
   {
    "duration": 24,
    "start_time": "2023-04-25T21:14:52.648Z"
   },
   {
    "duration": 34,
    "start_time": "2023-04-25T21:14:52.674Z"
   },
   {
    "duration": 160,
    "start_time": "2023-04-25T21:14:52.709Z"
   },
   {
    "duration": 2065,
    "start_time": "2023-04-25T21:14:52.879Z"
   },
   {
    "duration": 31,
    "start_time": "2023-04-25T21:14:54.946Z"
   },
   {
    "duration": 12,
    "start_time": "2023-04-25T21:14:54.979Z"
   },
   {
    "duration": 12,
    "start_time": "2023-04-25T21:14:54.995Z"
   },
   {
    "duration": 160,
    "start_time": "2023-04-25T21:14:55.008Z"
   },
   {
    "duration": 22,
    "start_time": "2023-04-25T21:17:47.085Z"
   },
   {
    "duration": 1378,
    "start_time": "2023-04-25T21:28:39.898Z"
   },
   {
    "duration": 3,
    "start_time": "2023-04-25T21:28:41.280Z"
   },
   {
    "duration": 153,
    "start_time": "2023-04-25T21:28:41.285Z"
   },
   {
    "duration": 3,
    "start_time": "2023-04-25T21:28:41.441Z"
   },
   {
    "duration": 46,
    "start_time": "2023-04-25T21:28:41.446Z"
   },
   {
    "duration": 14,
    "start_time": "2023-04-25T21:28:41.493Z"
   },
   {
    "duration": 14,
    "start_time": "2023-04-25T21:28:41.509Z"
   },
   {
    "duration": 81,
    "start_time": "2023-04-25T21:28:41.525Z"
   },
   {
    "duration": 10,
    "start_time": "2023-04-25T21:28:41.608Z"
   },
   {
    "duration": 15,
    "start_time": "2023-04-25T21:28:41.622Z"
   },
   {
    "duration": 19,
    "start_time": "2023-04-25T21:28:41.639Z"
   },
   {
    "duration": 187,
    "start_time": "2023-04-25T21:28:41.660Z"
   },
   {
    "duration": 142,
    "start_time": "2023-04-25T21:28:41.849Z"
   },
   {
    "duration": 1028,
    "start_time": "2023-04-25T21:28:41.993Z"
   },
   {
    "duration": 34,
    "start_time": "2023-04-25T21:28:43.023Z"
   },
   {
    "duration": 10,
    "start_time": "2023-04-25T21:28:43.059Z"
   },
   {
    "duration": 248,
    "start_time": "2023-04-25T21:28:43.071Z"
   },
   {
    "duration": 21,
    "start_time": "2023-04-25T21:28:43.321Z"
   },
   {
    "duration": 90,
    "start_time": "2023-04-25T21:28:43.343Z"
   },
   {
    "duration": 89,
    "start_time": "2023-04-25T21:28:43.435Z"
   },
   {
    "duration": 12,
    "start_time": "2023-04-25T21:28:43.526Z"
   },
   {
    "duration": 163,
    "start_time": "2023-04-25T21:28:43.540Z"
   },
   {
    "duration": 12,
    "start_time": "2023-04-25T21:28:43.704Z"
   },
   {
    "duration": 124,
    "start_time": "2023-04-25T21:28:43.718Z"
   },
   {
    "duration": 9478,
    "start_time": "2023-04-25T21:28:43.843Z"
   },
   {
    "duration": 55,
    "start_time": "2023-04-25T21:28:53.323Z"
   },
   {
    "duration": 198,
    "start_time": "2023-04-25T21:28:53.380Z"
   },
   {
    "duration": 103,
    "start_time": "2023-04-25T21:28:53.583Z"
   },
   {
    "duration": 5,
    "start_time": "2023-04-25T21:28:53.688Z"
   },
   {
    "duration": 154,
    "start_time": "2023-04-25T21:28:53.694Z"
   },
   {
    "duration": 246,
    "start_time": "2023-04-25T21:28:53.850Z"
   },
   {
    "duration": 757,
    "start_time": "2023-04-25T21:28:54.100Z"
   },
   {
    "duration": 11,
    "start_time": "2023-04-25T21:28:54.859Z"
   },
   {
    "duration": 136,
    "start_time": "2023-04-25T21:28:54.872Z"
   },
   {
    "duration": 6,
    "start_time": "2023-04-25T21:28:55.010Z"
   },
   {
    "duration": 18,
    "start_time": "2023-04-25T21:28:55.018Z"
   },
   {
    "duration": 120,
    "start_time": "2023-04-25T21:28:55.057Z"
   },
   {
    "duration": 1642,
    "start_time": "2023-04-25T21:28:55.179Z"
   },
   {
    "duration": 9,
    "start_time": "2023-04-25T21:28:56.823Z"
   },
   {
    "duration": 14,
    "start_time": "2023-04-25T21:28:56.857Z"
   },
   {
    "duration": 22,
    "start_time": "2023-04-25T21:28:56.873Z"
   },
   {
    "duration": 144,
    "start_time": "2023-04-25T21:28:56.897Z"
   }
  ],
  "kernelspec": {
   "display_name": "Python 3 (ipykernel)",
   "language": "python",
   "name": "python3"
  },
  "language_info": {
   "codemirror_mode": {
    "name": "ipython",
    "version": 3
   },
   "file_extension": ".py",
   "mimetype": "text/x-python",
   "name": "python",
   "nbconvert_exporter": "python",
   "pygments_lexer": "ipython3",
   "version": "3.9.16"
  },
  "toc": {
   "base_numbering": 1,
   "nav_menu": {},
   "number_sections": true,
   "sideBar": true,
   "skip_h1_title": true,
   "title_cell": "Table of Contents",
   "title_sidebar": "Contents",
   "toc_cell": false,
   "toc_position": {},
   "toc_section_display": true,
   "toc_window_display": true
  }
 },
 "nbformat": 4,
 "nbformat_minor": 2
}
