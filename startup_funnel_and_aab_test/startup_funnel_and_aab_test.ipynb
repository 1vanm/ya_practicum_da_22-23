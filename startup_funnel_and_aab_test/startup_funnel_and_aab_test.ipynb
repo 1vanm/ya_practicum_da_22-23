{
 "cells": [
  {
   "cell_type": "markdown",
   "metadata": {},
   "source": [
    "### Описание проекта:<br>\n",
    "Работа в стартапе, который продаёт продукты питания. Нужно разобраться, как ведут себя пользователи вашего мобильного приложения. <br>\n",
    "Требуется изучить воронку продаж. Узнайте, как пользователи доходят до покупки. Сколько пользователей доходит до покупки, а сколько — «застревает» на предыдущих шагах? На каких именно? <br>\n",
    "После этого требуется исследовать результаты A/A/B-эксперимента. Дизайнеры захотели поменять шрифты во всём приложении, а менеджеры испугались, что пользователям будет непривычно. Договорились принять решение по результатам A/A/B-теста. Пользователей разбили на 3 группы: 2 контрольные со старыми шрифтами и одну экспериментальную — с новыми. Требуется выяснить, какой шрифт лучше.<br>\n",
    "<br>\n",
    "### Описание данных:<br>\n",
    "Каждая запись в логе — это действие пользователя, или событие. \n",
    "* EventName — название события;\n",
    "* DeviceIDHash — уникальный идентификатор пользователя;\n",
    "* EventTimestamp — время события;\n",
    "* ExpId — номер эксперимента: 246 и 247 — контрольные группы, а 248 — экспериментальная.\n"
   ]
  },
  {
   "cell_type": "code",
   "execution_count": 185,
   "metadata": {},
   "outputs": [],
   "source": [
    "import pandas as pd\n",
    "import seaborn as sns\n",
    "import numpy as np\n",
    "from matplotlib import pyplot as plt\n",
    "import datetime as dt\n",
    "from plotly import graph_objects as go\n",
    "import math as mth\n",
    "from scipy import stats as st"
   ]
  },
  {
   "cell_type": "code",
   "execution_count": 186,
   "metadata": {},
   "outputs": [],
   "source": [
    "pd.set_option('display.max_columns', 50) \n",
    "pd.set_option('display.max_rows', 500)\n",
    "pd.set_option('display.float_format', lambda x: '%.5f' % x)\n",
    "pd.set_option('display.max_colwidth', False)\n",
    "# параметры для корректного отображения таблиц и более удобного их анализа"
   ]
  },
  {
   "cell_type": "markdown",
   "metadata": {},
   "source": [
    "## Знакомство с данными и предобработка"
   ]
  },
  {
   "cell_type": "code",
   "execution_count": 188,
   "metadata": {},
   "outputs": [],
   "source": [
    "def info(df):\n",
    "    display(df.head())\n",
    "    display(df.info())\n",
    "    display(df.isna().sum())\n",
    "    display(df.duplicated().sum())"
   ]
  },
  {
   "cell_type": "code",
   "execution_count": 189,
   "metadata": {},
   "outputs": [
    {
     "data": {
      "text/html": [
       "<div>\n",
       "<style scoped>\n",
       "    .dataframe tbody tr th:only-of-type {\n",
       "        vertical-align: middle;\n",
       "    }\n",
       "\n",
       "    .dataframe tbody tr th {\n",
       "        vertical-align: top;\n",
       "    }\n",
       "\n",
       "    .dataframe thead th {\n",
       "        text-align: right;\n",
       "    }\n",
       "</style>\n",
       "<table border=\"1\" class=\"dataframe\">\n",
       "  <thead>\n",
       "    <tr style=\"text-align: right;\">\n",
       "      <th></th>\n",
       "      <th>EventName</th>\n",
       "      <th>DeviceIDHash</th>\n",
       "      <th>EventTimestamp</th>\n",
       "      <th>ExpId</th>\n",
       "    </tr>\n",
       "  </thead>\n",
       "  <tbody>\n",
       "    <tr>\n",
       "      <th>0</th>\n",
       "      <td>MainScreenAppear</td>\n",
       "      <td>4575588528974610257</td>\n",
       "      <td>1564029816</td>\n",
       "      <td>246</td>\n",
       "    </tr>\n",
       "    <tr>\n",
       "      <th>1</th>\n",
       "      <td>MainScreenAppear</td>\n",
       "      <td>7416695313311560658</td>\n",
       "      <td>1564053102</td>\n",
       "      <td>246</td>\n",
       "    </tr>\n",
       "    <tr>\n",
       "      <th>2</th>\n",
       "      <td>PaymentScreenSuccessful</td>\n",
       "      <td>3518123091307005509</td>\n",
       "      <td>1564054127</td>\n",
       "      <td>248</td>\n",
       "    </tr>\n",
       "    <tr>\n",
       "      <th>3</th>\n",
       "      <td>CartScreenAppear</td>\n",
       "      <td>3518123091307005509</td>\n",
       "      <td>1564054127</td>\n",
       "      <td>248</td>\n",
       "    </tr>\n",
       "    <tr>\n",
       "      <th>4</th>\n",
       "      <td>PaymentScreenSuccessful</td>\n",
       "      <td>6217807653094995999</td>\n",
       "      <td>1564055322</td>\n",
       "      <td>248</td>\n",
       "    </tr>\n",
       "  </tbody>\n",
       "</table>\n",
       "</div>"
      ],
      "text/plain": [
       "                 EventName         DeviceIDHash  EventTimestamp  ExpId\n",
       "0  MainScreenAppear         4575588528974610257  1564029816      246  \n",
       "1  MainScreenAppear         7416695313311560658  1564053102      246  \n",
       "2  PaymentScreenSuccessful  3518123091307005509  1564054127      248  \n",
       "3  CartScreenAppear         3518123091307005509  1564054127      248  \n",
       "4  PaymentScreenSuccessful  6217807653094995999  1564055322      248  "
      ]
     },
     "metadata": {},
     "output_type": "display_data"
    },
    {
     "name": "stdout",
     "output_type": "stream",
     "text": [
      "<class 'pandas.core.frame.DataFrame'>\n",
      "RangeIndex: 244126 entries, 0 to 244125\n",
      "Data columns (total 4 columns):\n",
      " #   Column          Non-Null Count   Dtype \n",
      "---  ------          --------------   ----- \n",
      " 0   EventName       244126 non-null  object\n",
      " 1   DeviceIDHash    244126 non-null  int64 \n",
      " 2   EventTimestamp  244126 non-null  int64 \n",
      " 3   ExpId           244126 non-null  int64 \n",
      "dtypes: int64(3), object(1)\n",
      "memory usage: 7.5+ MB\n"
     ]
    },
    {
     "data": {
      "text/plain": [
       "None"
      ]
     },
     "metadata": {},
     "output_type": "display_data"
    },
    {
     "data": {
      "text/plain": [
       "EventName         0\n",
       "DeviceIDHash      0\n",
       "EventTimestamp    0\n",
       "ExpId             0\n",
       "dtype: int64"
      ]
     },
     "metadata": {},
     "output_type": "display_data"
    },
    {
     "data": {
      "text/plain": [
       "413"
      ]
     },
     "metadata": {},
     "output_type": "display_data"
    }
   ],
   "source": [
    "info(df)"
   ]
  },
  {
   "cell_type": "markdown",
   "metadata": {},
   "source": [
    "Стоит привести названия колонок в более читаемый вид. Добавить колонку даты и времени, переведенную в читаемый формат. Также присутствует 413 дубликатов, что для такого массива крайне малая цифра и проще их удалить, чем искать причины их возникновения"
   ]
  },
  {
   "cell_type": "code",
   "execution_count": 190,
   "metadata": {},
   "outputs": [],
   "source": [
    "df.columns= df.columns.str.lower() #привести названия колонок к нижнему регистру\n",
    "df = df.rename(columns={'eventname': 'event_name', 'deviceidhash' : 'device_id_hash', 'eventtimestamp' : 'event_timestamp', 'expid' : 'exp_id'}) \n",
    "#привести заголовки колонок к snake_case\n",
    "df = df.drop_duplicates().reset_index(drop=True) # убираем дубликаты "
   ]
  },
  {
   "cell_type": "code",
   "execution_count": 191,
   "metadata": {},
   "outputs": [],
   "source": [
    "df['datetime'] = pd.to_datetime(df['event_timestamp'], unit='s') #переводим из unix в человеческий формат\n",
    "df['date'] = pd.to_datetime(df['datetime']).dt.date # создаем колонку с датой"
   ]
  },
  {
   "cell_type": "code",
   "execution_count": 192,
   "metadata": {},
   "outputs": [],
   "source": [
    "df['date'] = df['date'].astype(str)\n",
    "df['date'] = df['date'].map(\n",
    "    lambda x: dt.datetime.strptime(x, '%Y-%m-%d')\n",
    ")"
   ]
  },
  {
   "cell_type": "code",
   "execution_count": 193,
   "metadata": {},
   "outputs": [
    {
     "data": {
      "text/plain": [
       "array(['MainScreenAppear', 'PaymentScreenSuccessful', 'CartScreenAppear',\n",
       "       'OffersScreenAppear', 'Tutorial'], dtype=object)"
      ]
     },
     "execution_count": 193,
     "metadata": {},
     "output_type": "execute_result"
    }
   ],
   "source": [
    "df['event_name'].unique() #проверяем на скрытые дубликаты"
   ]
  },
  {
   "cell_type": "code",
   "execution_count": 194,
   "metadata": {},
   "outputs": [
    {
     "data": {
      "text/html": [
       "<div>\n",
       "<style scoped>\n",
       "    .dataframe tbody tr th:only-of-type {\n",
       "        vertical-align: middle;\n",
       "    }\n",
       "\n",
       "    .dataframe tbody tr th {\n",
       "        vertical-align: top;\n",
       "    }\n",
       "\n",
       "    .dataframe thead th {\n",
       "        text-align: right;\n",
       "    }\n",
       "</style>\n",
       "<table border=\"1\" class=\"dataframe\">\n",
       "  <thead>\n",
       "    <tr style=\"text-align: right;\">\n",
       "      <th></th>\n",
       "      <th>device_id_hash</th>\n",
       "      <th>exp_id</th>\n",
       "    </tr>\n",
       "  </thead>\n",
       "  <tbody>\n",
       "  </tbody>\n",
       "</table>\n",
       "</div>"
      ],
      "text/plain": [
       "Empty DataFrame\n",
       "Columns: [device_id_hash, exp_id]\n",
       "Index: []"
      ]
     },
     "execution_count": 194,
     "metadata": {},
     "output_type": "execute_result"
    }
   ],
   "source": [
    "df.groupby('device_id_hash')['exp_id'].nunique().reset_index().query('exp_id > 1')"
   ]
  },
  {
   "cell_type": "markdown",
   "metadata": {},
   "source": [
    "Ни один из пользователей не попал в несколько групп теста сразу"
   ]
  },
  {
   "cell_type": "markdown",
   "metadata": {},
   "source": [
    "## Изучите и проверьте данные"
   ]
  },
  {
   "cell_type": "markdown",
   "metadata": {},
   "source": [
    "##### Сколько всего событий в логе?"
   ]
  },
  {
   "cell_type": "code",
   "execution_count": 195,
   "metadata": {},
   "outputs": [
    {
     "data": {
      "text/plain": [
       "243713"
      ]
     },
     "execution_count": 195,
     "metadata": {},
     "output_type": "execute_result"
    }
   ],
   "source": [
    "df_sum_count = df['event_name'].count()\n",
    "df_sum_count"
   ]
  },
  {
   "cell_type": "markdown",
   "metadata": {},
   "source": [
    "##### Сколько всего пользователей в логе?"
   ]
  },
  {
   "cell_type": "code",
   "execution_count": 196,
   "metadata": {},
   "outputs": [
    {
     "data": {
      "text/plain": [
       "7551"
      ]
     },
     "execution_count": 196,
     "metadata": {},
     "output_type": "execute_result"
    }
   ],
   "source": [
    "df_sum_uni = df['device_id_hash'].nunique()\n",
    "df_sum_uni"
   ]
  },
  {
   "cell_type": "markdown",
   "metadata": {},
   "source": [
    "##### Сколько в среднем событий приходится на пользователя?"
   ]
  },
  {
   "cell_type": "code",
   "execution_count": 197,
   "metadata": {},
   "outputs": [
    {
     "data": {
      "text/plain": [
       "event_name   32.27559\n",
       "dtype: float64"
      ]
     },
     "execution_count": 197,
     "metadata": {},
     "output_type": "execute_result"
    }
   ],
   "source": [
    "df.pivot_table(index='device_id_hash', values='event_name', aggfunc='count').mean()"
   ]
  },
  {
   "cell_type": "markdown",
   "metadata": {},
   "source": [
    "##### Данными за какой период мы располагаем? Найдем максимальную и минимальную дату"
   ]
  },
  {
   "cell_type": "code",
   "execution_count": 198,
   "metadata": {},
   "outputs": [
    {
     "data": {
      "text/plain": [
       "Timestamp('2019-08-07 21:15:17')"
      ]
     },
     "execution_count": 198,
     "metadata": {},
     "output_type": "execute_result"
    }
   ],
   "source": [
    "max(df['datetime'])"
   ]
  },
  {
   "cell_type": "code",
   "execution_count": 199,
   "metadata": {},
   "outputs": [
    {
     "data": {
      "text/plain": [
       "Timestamp('2019-07-25 04:43:36')"
      ]
     },
     "execution_count": 199,
     "metadata": {},
     "output_type": "execute_result"
    }
   ],
   "source": [
    "min(df['datetime'])"
   ]
  },
  {
   "cell_type": "code",
   "execution_count": 200,
   "metadata": {},
   "outputs": [
    {
     "data": {
      "text/plain": [
       "Text(0, 0.5, 'Кол-во пользователей')"
      ]
     },
     "execution_count": 200,
     "metadata": {},
     "output_type": "execute_result"
    },
    {
     "data": {
      "image/png": "[encoded data removed]",
      "text/plain": [
       "<Figure size 640x480 with 1 Axes>"
      ]
     },
     "metadata": {},
     "output_type": "display_data"
    }
   ],
   "source": [
    "sns.histplot(df['datetime'],kde = False)\n",
    "plt.title('Гистограмма кол-ва пользователей по дате и времени за весь период')\n",
    "plt.xlabel('Дата')\n",
    "plt.ylabel('Кол-во пользователей')"
   ]
  },
  {
   "cell_type": "markdown",
   "metadata": {},
   "source": [
    "У нас есть данные за последнюю неделю июля и первую неделю августа. Все данные до 1 августа являются нестабильными и их достаточно мало. В связи с этим можно взять в выборку только данные за последние 7 дней выборки"
   ]
  },
  {
   "cell_type": "code",
   "execution_count": 201,
   "metadata": {},
   "outputs": [
    {
     "data": {
      "text/plain": [
       "Text(0, 0.5, 'Кол-во пользователей')"
      ]
     },
     "execution_count": 201,
     "metadata": {},
     "output_type": "execute_result"
    },
    {
     "data": {
      "image/png": "[encoded data removed]",
      "text/plain": [
       "<Figure size 640x480 with 1 Axes>"
      ]
     },
     "metadata": {},
     "output_type": "display_data"
    }
   ],
   "source": [
    "df = df.query('date > \"2019-07-31\"')\n",
    "sns.histplot(df['datetime'],kde = False)\n",
    "plt.title('Гистограмма кол-ва пользователей по дате и времени с первого августа')\n",
    "plt.xlabel('Дата')\n",
    "plt.ylabel('Кол-во пользователей')"
   ]
  },
  {
   "cell_type": "markdown",
   "metadata": {},
   "source": [
    "##### Проверяем много ли событий и пользователей мы потеряли, отбросив старые данные?"
   ]
  },
  {
   "cell_type": "code",
   "execution_count": 202,
   "metadata": {},
   "outputs": [
    {
     "data": {
      "text/plain": [
       "240887"
      ]
     },
     "execution_count": 202,
     "metadata": {},
     "output_type": "execute_result"
    }
   ],
   "source": [
    "new_df_aug_count = df['event_name'].count() \n",
    "new_df_aug_count"
   ]
  },
  {
   "cell_type": "code",
   "execution_count": 203,
   "metadata": {},
   "outputs": [
    {
     "data": {
      "text/plain": [
       "7534"
      ]
     },
     "execution_count": 203,
     "metadata": {},
     "output_type": "execute_result"
    }
   ],
   "source": [
    "new_df_aug_uni = df['device_id_hash'].nunique()\n",
    "new_df_aug_uni"
   ]
  },
  {
   "cell_type": "code",
   "execution_count": 204,
   "metadata": {
    "scrolled": true
   },
   "outputs": [
    {
     "name": "stdout",
     "output_type": "stream",
     "text": [
      "Потеряли 2826 записей или 1.16% от общего объема\n",
      "А также 17 уникальных пользователей\n"
     ]
    }
   ],
   "source": [
    "print(f'Потеряли {df_sum_count - new_df_aug_count} записей или {((1 - new_df_aug_count/df_sum_count)*100).round(2)}% от общего объема')\n",
    "print(f'А также {df_sum_uni - new_df_aug_uni} уникальных пользователей')"
   ]
  },
  {
   "cell_type": "markdown",
   "metadata": {},
   "source": [
    "##### Проверяем, что у нас есть пользователи из всех трёх экспериментальных групп"
   ]
  },
  {
   "cell_type": "code",
   "execution_count": 205,
   "metadata": {},
   "outputs": [
    {
     "data": {
      "text/plain": [
       "array([246, 247, 248], dtype=int64)"
      ]
     },
     "execution_count": 205,
     "metadata": {},
     "output_type": "execute_result"
    }
   ],
   "source": [
    "df['exp_id'].unique()"
   ]
  },
  {
   "cell_type": "markdown",
   "metadata": {},
   "source": [
    "## Изучение воронки событий"
   ]
  },
  {
   "cell_type": "markdown",
   "metadata": {},
   "source": [
    "##### Посмотрим, какие события есть в логах, как часто они встречаются"
   ]
  },
  {
   "cell_type": "code",
   "execution_count": 206,
   "metadata": {},
   "outputs": [
    {
     "data": {
      "text/plain": [
       "event_name\n",
       "MainScreenAppear           117328\n",
       "OffersScreenAppear         46333 \n",
       "CartScreenAppear           42303 \n",
       "PaymentScreenSuccessful    33918 \n",
       "Tutorial                   1005  \n",
       "dtype: int64"
      ]
     },
     "execution_count": 206,
     "metadata": {},
     "output_type": "execute_result"
    }
   ],
   "source": [
    "df.groupby(by = 'event_name').size().sort_values(ascending=False)"
   ]
  },
  {
   "cell_type": "markdown",
   "metadata": {},
   "source": [
    "Самое частое событие это \"появление главного экрана\", событие с предложением встречается меньше, чем в половине случаев относительно самого частого. Окно оплаты встречается на 9% реже, чем окно с предложением. Окно с подтверждением удачной оплаты встречается на 19% реже, чем предыдущее окно. Окно с обучением практически не встречается"
   ]
  },
  {
   "cell_type": "markdown",
   "metadata": {},
   "source": [
    "##### Посчитаем, сколько пользователей совершали каждое из этих событий. Посчитаем долю пользователей, которые хоть раз совершали событие."
   ]
  },
  {
   "cell_type": "code",
   "execution_count": 207,
   "metadata": {},
   "outputs": [
    {
     "data": {
      "text/html": [
       "<div>\n",
       "<style scoped>\n",
       "    .dataframe tbody tr th:only-of-type {\n",
       "        vertical-align: middle;\n",
       "    }\n",
       "\n",
       "    .dataframe tbody tr th {\n",
       "        vertical-align: top;\n",
       "    }\n",
       "\n",
       "    .dataframe thead th {\n",
       "        text-align: right;\n",
       "    }\n",
       "</style>\n",
       "<table border=\"1\" class=\"dataframe\">\n",
       "  <thead>\n",
       "    <tr style=\"text-align: right;\">\n",
       "      <th></th>\n",
       "      <th>event_name</th>\n",
       "      <th>device_id_hash</th>\n",
       "    </tr>\n",
       "  </thead>\n",
       "  <tbody>\n",
       "    <tr>\n",
       "      <th>0</th>\n",
       "      <td>MainScreenAppear</td>\n",
       "      <td>7419</td>\n",
       "    </tr>\n",
       "    <tr>\n",
       "      <th>1</th>\n",
       "      <td>OffersScreenAppear</td>\n",
       "      <td>4593</td>\n",
       "    </tr>\n",
       "    <tr>\n",
       "      <th>2</th>\n",
       "      <td>CartScreenAppear</td>\n",
       "      <td>3734</td>\n",
       "    </tr>\n",
       "    <tr>\n",
       "      <th>3</th>\n",
       "      <td>PaymentScreenSuccessful</td>\n",
       "      <td>3539</td>\n",
       "    </tr>\n",
       "    <tr>\n",
       "      <th>4</th>\n",
       "      <td>Tutorial</td>\n",
       "      <td>840</td>\n",
       "    </tr>\n",
       "  </tbody>\n",
       "</table>\n",
       "</div>"
      ],
      "text/plain": [
       "                event_name  device_id_hash\n",
       "0  MainScreenAppear         7419          \n",
       "1  OffersScreenAppear       4593          \n",
       "2  CartScreenAppear         3734          \n",
       "3  PaymentScreenSuccessful  3539          \n",
       "4  Tutorial                 840           "
      ]
     },
     "execution_count": 207,
     "metadata": {},
     "output_type": "execute_result"
    }
   ],
   "source": [
    "funnel = (\n",
    "    df\n",
    "    .pivot_table(index='event_name', values='device_id_hash', aggfunc='nunique')\n",
    "    .sort_values('device_id_hash', ascending=False)\n",
    "    .reset_index()\n",
    ")\n",
    "funnel"
   ]
  },
  {
   "cell_type": "code",
   "execution_count": 208,
   "metadata": {},
   "outputs": [
    {
     "data": {
      "text/html": [
       "<div>\n",
       "<style scoped>\n",
       "    .dataframe tbody tr th:only-of-type {\n",
       "        vertical-align: middle;\n",
       "    }\n",
       "\n",
       "    .dataframe tbody tr th {\n",
       "        vertical-align: top;\n",
       "    }\n",
       "\n",
       "    .dataframe thead th {\n",
       "        text-align: right;\n",
       "    }\n",
       "</style>\n",
       "<table border=\"1\" class=\"dataframe\">\n",
       "  <thead>\n",
       "    <tr style=\"text-align: right;\">\n",
       "      <th></th>\n",
       "      <th>event_name</th>\n",
       "      <th>device_id_hash</th>\n",
       "      <th>percentage</th>\n",
       "    </tr>\n",
       "  </thead>\n",
       "  <tbody>\n",
       "    <tr>\n",
       "      <th>0</th>\n",
       "      <td>MainScreenAppear</td>\n",
       "      <td>7419</td>\n",
       "      <td>98.47000</td>\n",
       "    </tr>\n",
       "    <tr>\n",
       "      <th>1</th>\n",
       "      <td>OffersScreenAppear</td>\n",
       "      <td>4593</td>\n",
       "      <td>60.96000</td>\n",
       "    </tr>\n",
       "    <tr>\n",
       "      <th>2</th>\n",
       "      <td>CartScreenAppear</td>\n",
       "      <td>3734</td>\n",
       "      <td>49.56000</td>\n",
       "    </tr>\n",
       "    <tr>\n",
       "      <th>3</th>\n",
       "      <td>PaymentScreenSuccessful</td>\n",
       "      <td>3539</td>\n",
       "      <td>46.97000</td>\n",
       "    </tr>\n",
       "    <tr>\n",
       "      <th>4</th>\n",
       "      <td>Tutorial</td>\n",
       "      <td>840</td>\n",
       "      <td>11.15000</td>\n",
       "    </tr>\n",
       "  </tbody>\n",
       "</table>\n",
       "</div>"
      ],
      "text/plain": [
       "                event_name  device_id_hash  percentage\n",
       "0  MainScreenAppear         7419           98.47000   \n",
       "1  OffersScreenAppear       4593           60.96000   \n",
       "2  CartScreenAppear         3734           49.56000   \n",
       "3  PaymentScreenSuccessful  3539           46.97000   \n",
       "4  Tutorial                 840            11.15000   "
      ]
     },
     "execution_count": 208,
     "metadata": {},
     "output_type": "execute_result"
    }
   ],
   "source": [
    "funnel['percentage'] = (funnel['device_id_hash'] / df['device_id_hash'].nunique() * 100).round(2)\n",
    "funnel"
   ]
  },
  {
   "cell_type": "markdown",
   "metadata": {},
   "source": [
    "Пункт с обучением не входит в цепочку событий, в связи с этим его не нужно учитывать при расчете"
   ]
  },
  {
   "cell_type": "code",
   "execution_count": 209,
   "metadata": {},
   "outputs": [
    {
     "data": {
      "application/vnd.plotly.v1+json": {
       "config": {
        "plotlyServerURL": "https://plot.ly"
       },
       "data": [
        {
         "type": "funnel",
         "x": [
          7419,
          4593,
          3734,
          3539
         ],
         "y": [
          "MainScreenAppear",
          "OffersScreenAppear",
          "CartScreenAppear",
          "PaymentScreenSuccessful"
         ]
        }
       ],
       "layout": {
        "template": {
         "data": {
          "bar": [
           {
            "error_x": {
             "color": "#2a3f5f"
            },
            "error_y": {
             "color": "#2a3f5f"
            },
            "marker": {
             "line": {
              "color": "#E5ECF6",
              "width": 0.5
             },
             "pattern": {
              "fillmode": "overlay",
              "size": 10,
              "solidity": 0.2
             }
            },
            "type": "bar"
           }
          ],
          "barpolar": [
           {
            "marker": {
             "line": {
              "color": "#E5ECF6",
              "width": 0.5
             },
             "pattern": {
              "fillmode": "overlay",
              "size": 10,
              "solidity": 0.2
             }
            },
            "type": "barpolar"
           }
          ],
          "carpet": [
           {
            "aaxis": {
             "endlinecolor": "#2a3f5f",
             "gridcolor": "white",
             "linecolor": "white",
             "minorgridcolor": "white",
             "startlinecolor": "#2a3f5f"
            },
            "baxis": {
             "endlinecolor": "#2a3f5f",
             "gridcolor": "white",
             "linecolor": "white",
             "minorgridcolor": "white",
             "startlinecolor": "#2a3f5f"
            },
            "type": "carpet"
           }
          ],
          "choropleth": [
           {
            "colorbar": {
             "outlinewidth": 0,
             "ticks": ""
            },
            "type": "choropleth"
           }
          ],
          "contour": [
           {
            "colorbar": {
             "outlinewidth": 0,
             "ticks": ""
            },
            "colorscale": [
             [
              0,
              "#0d0887"
             ],
             [
              0.1111111111111111,
              "#46039f"
             ],
             [
              0.2222222222222222,
              "#7201a8"
             ],
             [
              0.3333333333333333,
              "#9c179e"
             ],
             [
              0.4444444444444444,
              "#bd3786"
             ],
             [
              0.5555555555555556,
              "#d8576b"
             ],
             [
              0.6666666666666666,
              "#ed7953"
             ],
             [
              0.7777777777777778,
              "#fb9f3a"
             ],
             [
              0.8888888888888888,
              "#fdca26"
             ],
             [
              1,
              "#f0f921"
             ]
            ],
            "type": "contour"
           }
          ],
          "contourcarpet": [
           {
            "colorbar": {
             "outlinewidth": 0,
             "ticks": ""
            },
            "type": "contourcarpet"
           }
          ],
          "heatmap": [
           {
            "colorbar": {
             "outlinewidth": 0,
             "ticks": ""
            },
            "colorscale": [
             [
              0,
              "#0d0887"
             ],
             [
              0.1111111111111111,
              "#46039f"
             ],
             [
              0.2222222222222222,
              "#7201a8"
             ],
             [
              0.3333333333333333,
              "#9c179e"
             ],
             [
              0.4444444444444444,
              "#bd3786"
             ],
             [
              0.5555555555555556,
              "#d8576b"
             ],
             [
              0.6666666666666666,
              "#ed7953"
             ],
             [
              0.7777777777777778,
              "#fb9f3a"
             ],
             [
              0.8888888888888888,
              "#fdca26"
             ],
             [
              1,
              "#f0f921"
             ]
            ],
            "type": "heatmap"
           }
          ],
          "heatmapgl": [
           {
            "colorbar": {
             "outlinewidth": 0,
             "ticks": ""
            },
            "colorscale": [
             [
              0,
              "#0d0887"
             ],
             [
              0.1111111111111111,
              "#46039f"
             ],
             [
              0.2222222222222222,
              "#7201a8"
             ],
             [
              0.3333333333333333,
              "#9c179e"
             ],
             [
              0.4444444444444444,
              "#bd3786"
             ],
             [
              0.5555555555555556,
              "#d8576b"
             ],
             [
              0.6666666666666666,
              "#ed7953"
             ],
             [
              0.7777777777777778,
              "#fb9f3a"
             ],
             [
              0.8888888888888888,
              "#fdca26"
             ],
             [
              1,
              "#f0f921"
             ]
            ],
            "type": "heatmapgl"
           }
          ],
          "histogram": [
           {
            "marker": {
             "pattern": {
              "fillmode": "overlay",
              "size": 10,
              "solidity": 0.2
             }
            },
            "type": "histogram"
           }
          ],
          "histogram2d": [
           {
            "colorbar": {
             "outlinewidth": 0,
             "ticks": ""
            },
            "colorscale": [
             [
              0,
              "#0d0887"
             ],
             [
              0.1111111111111111,
              "#46039f"
             ],
             [
              0.2222222222222222,
              "#7201a8"
             ],
             [
              0.3333333333333333,
              "#9c179e"
             ],
             [
              0.4444444444444444,
              "#bd3786"
             ],
             [
              0.5555555555555556,
              "#d8576b"
             ],
             [
              0.6666666666666666,
              "#ed7953"
             ],
             [
              0.7777777777777778,
              "#fb9f3a"
             ],
             [
              0.8888888888888888,
              "#fdca26"
             ],
             [
              1,
              "#f0f921"
             ]
            ],
            "type": "histogram2d"
           }
          ],
          "histogram2dcontour": [
           {
            "colorbar": {
             "outlinewidth": 0,
             "ticks": ""
            },
            "colorscale": [
             [
              0,
              "#0d0887"
             ],
             [
              0.1111111111111111,
              "#46039f"
             ],
             [
              0.2222222222222222,
              "#7201a8"
             ],
             [
              0.3333333333333333,
              "#9c179e"
             ],
             [
              0.4444444444444444,
              "#bd3786"
             ],
             [
              0.5555555555555556,
              "#d8576b"
             ],
             [
              0.6666666666666666,
              "#ed7953"
             ],
             [
              0.7777777777777778,
              "#fb9f3a"
             ],
             [
              0.8888888888888888,
              "#fdca26"
             ],
             [
              1,
              "#f0f921"
             ]
            ],
            "type": "histogram2dcontour"
           }
          ],
          "mesh3d": [
           {
            "colorbar": {
             "outlinewidth": 0,
             "ticks": ""
            },
            "type": "mesh3d"
           }
          ],
          "parcoords": [
           {
            "line": {
             "colorbar": {
              "outlinewidth": 0,
              "ticks": ""
             }
            },
            "type": "parcoords"
           }
          ],
          "pie": [
           {
            "automargin": true,
            "type": "pie"
           }
          ],
          "scatter": [
           {
            "fillpattern": {
             "fillmode": "overlay",
             "size": 10,
             "solidity": 0.2
            },
            "type": "scatter"
           }
          ],
          "scatter3d": [
           {
            "line": {
             "colorbar": {
              "outlinewidth": 0,
              "ticks": ""
             }
            },
            "marker": {
             "colorbar": {
              "outlinewidth": 0,
              "ticks": ""
             }
            },
            "type": "scatter3d"
           }
          ],
          "scattercarpet": [
           {
            "marker": {
             "colorbar": {
              "outlinewidth": 0,
              "ticks": ""
             }
            },
            "type": "scattercarpet"
           }
          ],
          "scattergeo": [
           {
            "marker": {
             "colorbar": {
              "outlinewidth": 0,
              "ticks": ""
             }
            },
            "type": "scattergeo"
           }
          ],
          "scattergl": [
           {
            "marker": {
             "colorbar": {
              "outlinewidth": 0,
              "ticks": ""
             }
            },
            "type": "scattergl"
           }
          ],
          "scattermapbox": [
           {
            "marker": {
             "colorbar": {
              "outlinewidth": 0,
              "ticks": ""
             }
            },
            "type": "scattermapbox"
           }
          ],
          "scatterpolar": [
           {
            "marker": {
             "colorbar": {
              "outlinewidth": 0,
              "ticks": ""
             }
            },
            "type": "scatterpolar"
           }
          ],
          "scatterpolargl": [
           {
            "marker": {
             "colorbar": {
              "outlinewidth": 0,
              "ticks": ""
             }
            },
            "type": "scatterpolargl"
           }
          ],
          "scatterternary": [
           {
            "marker": {
             "colorbar": {
              "outlinewidth": 0,
              "ticks": ""
             }
            },
            "type": "scatterternary"
           }
          ],
          "surface": [
           {
            "colorbar": {
             "outlinewidth": 0,
             "ticks": ""
            },
            "colorscale": [
             [
              0,
              "#0d0887"
             ],
             [
              0.1111111111111111,
              "#46039f"
             ],
             [
              0.2222222222222222,
              "#7201a8"
             ],
             [
              0.3333333333333333,
              "#9c179e"
             ],
             [
              0.4444444444444444,
              "#bd3786"
             ],
             [
              0.5555555555555556,
              "#d8576b"
             ],
             [
              0.6666666666666666,
              "#ed7953"
             ],
             [
              0.7777777777777778,
              "#fb9f3a"
             ],
             [
              0.8888888888888888,
              "#fdca26"
             ],
             [
              1,
              "#f0f921"
             ]
            ],
            "type": "surface"
           }
          ],
          "table": [
           {
            "cells": {
             "fill": {
              "color": "#EBF0F8"
             },
             "line": {
              "color": "white"
             }
            },
            "header": {
             "fill": {
              "color": "#C8D4E3"
             },
             "line": {
              "color": "white"
             }
            },
            "type": "table"
           }
          ]
         },
         "layout": {
          "annotationdefaults": {
           "arrowcolor": "#2a3f5f",
           "arrowhead": 0,
           "arrowwidth": 1
          },
          "autotypenumbers": "strict",
          "coloraxis": {
           "colorbar": {
            "outlinewidth": 0,
            "ticks": ""
           }
          },
          "colorscale": {
           "diverging": [
            [
             0,
             "#8e0152"
            ],
            [
             0.1,
             "#c51b7d"
            ],
            [
             0.2,
             "#de77ae"
            ],
            [
             0.3,
             "#f1b6da"
            ],
            [
             0.4,
             "#fde0ef"
            ],
            [
             0.5,
             "#f7f7f7"
            ],
            [
             0.6,
             "#e6f5d0"
            ],
            [
             0.7,
             "#b8e186"
            ],
            [
             0.8,
             "#7fbc41"
            ],
            [
             0.9,
             "#4d9221"
            ],
            [
             1,
             "#276419"
            ]
           ],
           "sequential": [
            [
             0,
             "#0d0887"
            ],
            [
             0.1111111111111111,
             "#46039f"
            ],
            [
             0.2222222222222222,
             "#7201a8"
            ],
            [
             0.3333333333333333,
             "#9c179e"
            ],
            [
             0.4444444444444444,
             "#bd3786"
            ],
            [
             0.5555555555555556,
             "#d8576b"
            ],
            [
             0.6666666666666666,
             "#ed7953"
            ],
            [
             0.7777777777777778,
             "#fb9f3a"
            ],
            [
             0.8888888888888888,
             "#fdca26"
            ],
            [
             1,
             "#f0f921"
            ]
           ],
           "sequentialminus": [
            [
             0,
             "#0d0887"
            ],
            [
             0.1111111111111111,
             "#46039f"
            ],
            [
             0.2222222222222222,
             "#7201a8"
            ],
            [
             0.3333333333333333,
             "#9c179e"
            ],
            [
             0.4444444444444444,
             "#bd3786"
            ],
            [
             0.5555555555555556,
             "#d8576b"
            ],
            [
             0.6666666666666666,
             "#ed7953"
            ],
            [
             0.7777777777777778,
             "#fb9f3a"
            ],
            [
             0.8888888888888888,
             "#fdca26"
            ],
            [
             1,
             "#f0f921"
            ]
           ]
          },
          "colorway": [
           "#636efa",
           "#EF553B",
           "#00cc96",
           "#ab63fa",
           "#FFA15A",
           "#19d3f3",
           "#FF6692",
           "#B6E880",
           "#FF97FF",
           "#FECB52"
          ],
          "font": {
           "color": "#2a3f5f"
          },
          "geo": {
           "bgcolor": "white",
           "lakecolor": "white",
           "landcolor": "#E5ECF6",
           "showlakes": true,
           "showland": true,
           "subunitcolor": "white"
          },
          "hoverlabel": {
           "align": "left"
          },
          "hovermode": "closest",
          "mapbox": {
           "style": "light"
          },
          "paper_bgcolor": "white",
          "plot_bgcolor": "#E5ECF6",
          "polar": {
           "angularaxis": {
            "gridcolor": "white",
            "linecolor": "white",
            "ticks": ""
           },
           "bgcolor": "#E5ECF6",
           "radialaxis": {
            "gridcolor": "white",
            "linecolor": "white",
            "ticks": ""
           }
          },
          "scene": {
           "xaxis": {
            "backgroundcolor": "#E5ECF6",
            "gridcolor": "white",
            "gridwidth": 2,
            "linecolor": "white",
            "showbackground": true,
            "ticks": "",
            "zerolinecolor": "white"
           },
           "yaxis": {
            "backgroundcolor": "#E5ECF6",
            "gridcolor": "white",
            "gridwidth": 2,
            "linecolor": "white",
            "showbackground": true,
            "ticks": "",
            "zerolinecolor": "white"
           },
           "zaxis": {
            "backgroundcolor": "#E5ECF6",
            "gridcolor": "white",
            "gridwidth": 2,
            "linecolor": "white",
            "showbackground": true,
            "ticks": "",
            "zerolinecolor": "white"
           }
          },
          "shapedefaults": {
           "line": {
            "color": "#2a3f5f"
           }
          },
          "ternary": {
           "aaxis": {
            "gridcolor": "white",
            "linecolor": "white",
            "ticks": ""
           },
           "baxis": {
            "gridcolor": "white",
            "linecolor": "white",
            "ticks": ""
           },
           "bgcolor": "#E5ECF6",
           "caxis": {
            "gridcolor": "white",
            "linecolor": "white",
            "ticks": ""
           }
          },
          "title": {
           "x": 0.05
          },
          "xaxis": {
           "automargin": true,
           "gridcolor": "white",
           "linecolor": "white",
           "ticks": "",
           "title": {
            "standoff": 15
           },
           "zerolinecolor": "white",
           "zerolinewidth": 2
          },
          "yaxis": {
           "automargin": true,
           "gridcolor": "white",
           "linecolor": "white",
           "ticks": "",
           "title": {
            "standoff": 15
           },
           "zerolinecolor": "white",
           "zerolinewidth": 2
          }
         }
        },
        "title": {
         "text": "Воронка событий"
        }
       }
      },
      "text/html": [
       "<div>                            <div id=\"5841985b-3217-4ed0-a96d-0363e9b8ae8c\" class=\"plotly-graph-div\" style=\"height:525px; width:100%;\"></div>            <script type=\"text/javascript\">                require([\"plotly\"], function(Plotly) {                    window.PLOTLYENV=window.PLOTLYENV || {};                                    if (document.getElementById(\"5841985b-3217-4ed0-a96d-0363e9b8ae8c\")) {                    Plotly.newPlot(                        \"5841985b-3217-4ed0-a96d-0363e9b8ae8c\",                        [{\"x\":[7419,4593,3734,3539],\"y\":[\"MainScreenAppear\",\"OffersScreenAppear\",\"CartScreenAppear\",\"PaymentScreenSuccessful\"],\"type\":\"funnel\"}],                        {\"template\":{\"data\":{\"histogram2dcontour\":[{\"type\":\"histogram2dcontour\",\"colorbar\":{\"outlinewidth\":0,\"ticks\":\"\"},\"colorscale\":[[0.0,\"#0d0887\"],[0.1111111111111111,\"#46039f\"],[0.2222222222222222,\"#7201a8\"],[0.3333333333333333,\"#9c179e\"],[0.4444444444444444,\"#bd3786\"],[0.5555555555555556,\"#d8576b\"],[0.6666666666666666,\"#ed7953\"],[0.7777777777777778,\"#fb9f3a\"],[0.8888888888888888,\"#fdca26\"],[1.0,\"#f0f921\"]]}],\"choropleth\":[{\"type\":\"choropleth\",\"colorbar\":{\"outlinewidth\":0,\"ticks\":\"\"}}],\"histogram2d\":[{\"type\":\"histogram2d\",\"colorbar\":{\"outlinewidth\":0,\"ticks\":\"\"},\"colorscale\":[[0.0,\"#0d0887\"],[0.1111111111111111,\"#46039f\"],[0.2222222222222222,\"#7201a8\"],[0.3333333333333333,\"#9c179e\"],[0.4444444444444444,\"#bd3786\"],[0.5555555555555556,\"#d8576b\"],[0.6666666666666666,\"#ed7953\"],[0.7777777777777778,\"#fb9f3a\"],[0.8888888888888888,\"#fdca26\"],[1.0,\"#f0f921\"]]}],\"heatmap\":[{\"type\":\"heatmap\",\"colorbar\":{\"outlinewidth\":0,\"ticks\":\"\"},\"colorscale\":[[0.0,\"#0d0887\"],[0.1111111111111111,\"#46039f\"],[0.2222222222222222,\"#7201a8\"],[0.3333333333333333,\"#9c179e\"],[0.4444444444444444,\"#bd3786\"],[0.5555555555555556,\"#d8576b\"],[0.6666666666666666,\"#ed7953\"],[0.7777777777777778,\"#fb9f3a\"],[0.8888888888888888,\"#fdca26\"],[1.0,\"#f0f921\"]]}],\"heatmapgl\":[{\"type\":\"heatmapgl\",\"colorbar\":{\"outlinewidth\":0,\"ticks\":\"\"},\"colorscale\":[[0.0,\"#0d0887\"],[0.1111111111111111,\"#46039f\"],[0.2222222222222222,\"#7201a8\"],[0.3333333333333333,\"#9c179e\"],[0.4444444444444444,\"#bd3786\"],[0.5555555555555556,\"#d8576b\"],[0.6666666666666666,\"#ed7953\"],[0.7777777777777778,\"#fb9f3a\"],[0.8888888888888888,\"#fdca26\"],[1.0,\"#f0f921\"]]}],\"contourcarpet\":[{\"type\":\"contourcarpet\",\"colorbar\":{\"outlinewidth\":0,\"ticks\":\"\"}}],\"contour\":[{\"type\":\"contour\",\"colorbar\":{\"outlinewidth\":0,\"ticks\":\"\"},\"colorscale\":[[0.0,\"#0d0887\"],[0.1111111111111111,\"#46039f\"],[0.2222222222222222,\"#7201a8\"],[0.3333333333333333,\"#9c179e\"],[0.4444444444444444,\"#bd3786\"],[0.5555555555555556,\"#d8576b\"],[0.6666666666666666,\"#ed7953\"],[0.7777777777777778,\"#fb9f3a\"],[0.8888888888888888,\"#fdca26\"],[1.0,\"#f0f921\"]]}],\"surface\":[{\"type\":\"surface\",\"colorbar\":{\"outlinewidth\":0,\"ticks\":\"\"},\"colorscale\":[[0.0,\"#0d0887\"],[0.1111111111111111,\"#46039f\"],[0.2222222222222222,\"#7201a8\"],[0.3333333333333333,\"#9c179e\"],[0.4444444444444444,\"#bd3786\"],[0.5555555555555556,\"#d8576b\"],[0.6666666666666666,\"#ed7953\"],[0.7777777777777778,\"#fb9f3a\"],[0.8888888888888888,\"#fdca26\"],[1.0,\"#f0f921\"]]}],\"mesh3d\":[{\"type\":\"mesh3d\",\"colorbar\":{\"outlinewidth\":0,\"ticks\":\"\"}}],\"scatter\":[{\"fillpattern\":{\"fillmode\":\"overlay\",\"size\":10,\"solidity\":0.2},\"type\":\"scatter\"}],\"parcoords\":[{\"type\":\"parcoords\",\"line\":{\"colorbar\":{\"outlinewidth\":0,\"ticks\":\"\"}}}],\"scatterpolargl\":[{\"type\":\"scatterpolargl\",\"marker\":{\"colorbar\":{\"outlinewidth\":0,\"ticks\":\"\"}}}],\"bar\":[{\"error_x\":{\"color\":\"#2a3f5f\"},\"error_y\":{\"color\":\"#2a3f5f\"},\"marker\":{\"line\":{\"color\":\"#E5ECF6\",\"width\":0.5},\"pattern\":{\"fillmode\":\"overlay\",\"size\":10,\"solidity\":0.2}},\"type\":\"bar\"}],\"scattergeo\":[{\"type\":\"scattergeo\",\"marker\":{\"colorbar\":{\"outlinewidth\":0,\"ticks\":\"\"}}}],\"scatterpolar\":[{\"type\":\"scatterpolar\",\"marker\":{\"colorbar\":{\"outlinewidth\":0,\"ticks\":\"\"}}}],\"histogram\":[{\"marker\":{\"pattern\":{\"fillmode\":\"overlay\",\"size\":10,\"solidity\":0.2}},\"type\":\"histogram\"}],\"scattergl\":[{\"type\":\"scattergl\",\"marker\":{\"colorbar\":{\"outlinewidth\":0,\"ticks\":\"\"}}}],\"scatter3d\":[{\"type\":\"scatter3d\",\"line\":{\"colorbar\":{\"outlinewidth\":0,\"ticks\":\"\"}},\"marker\":{\"colorbar\":{\"outlinewidth\":0,\"ticks\":\"\"}}}],\"scattermapbox\":[{\"type\":\"scattermapbox\",\"marker\":{\"colorbar\":{\"outlinewidth\":0,\"ticks\":\"\"}}}],\"scatterternary\":[{\"type\":\"scatterternary\",\"marker\":{\"colorbar\":{\"outlinewidth\":0,\"ticks\":\"\"}}}],\"scattercarpet\":[{\"type\":\"scattercarpet\",\"marker\":{\"colorbar\":{\"outlinewidth\":0,\"ticks\":\"\"}}}],\"carpet\":[{\"aaxis\":{\"endlinecolor\":\"#2a3f5f\",\"gridcolor\":\"white\",\"linecolor\":\"white\",\"minorgridcolor\":\"white\",\"startlinecolor\":\"#2a3f5f\"},\"baxis\":{\"endlinecolor\":\"#2a3f5f\",\"gridcolor\":\"white\",\"linecolor\":\"white\",\"minorgridcolor\":\"white\",\"startlinecolor\":\"#2a3f5f\"},\"type\":\"carpet\"}],\"table\":[{\"cells\":{\"fill\":{\"color\":\"#EBF0F8\"},\"line\":{\"color\":\"white\"}},\"header\":{\"fill\":{\"color\":\"#C8D4E3\"},\"line\":{\"color\":\"white\"}},\"type\":\"table\"}],\"barpolar\":[{\"marker\":{\"line\":{\"color\":\"#E5ECF6\",\"width\":0.5},\"pattern\":{\"fillmode\":\"overlay\",\"size\":10,\"solidity\":0.2}},\"type\":\"barpolar\"}],\"pie\":[{\"automargin\":true,\"type\":\"pie\"}]},\"layout\":{\"autotypenumbers\":\"strict\",\"colorway\":[\"#636efa\",\"#EF553B\",\"#00cc96\",\"#ab63fa\",\"#FFA15A\",\"#19d3f3\",\"#FF6692\",\"#B6E880\",\"#FF97FF\",\"#FECB52\"],\"font\":{\"color\":\"#2a3f5f\"},\"hovermode\":\"closest\",\"hoverlabel\":{\"align\":\"left\"},\"paper_bgcolor\":\"white\",\"plot_bgcolor\":\"#E5ECF6\",\"polar\":{\"bgcolor\":\"#E5ECF6\",\"angularaxis\":{\"gridcolor\":\"white\",\"linecolor\":\"white\",\"ticks\":\"\"},\"radialaxis\":{\"gridcolor\":\"white\",\"linecolor\":\"white\",\"ticks\":\"\"}},\"ternary\":{\"bgcolor\":\"#E5ECF6\",\"aaxis\":{\"gridcolor\":\"white\",\"linecolor\":\"white\",\"ticks\":\"\"},\"baxis\":{\"gridcolor\":\"white\",\"linecolor\":\"white\",\"ticks\":\"\"},\"caxis\":{\"gridcolor\":\"white\",\"linecolor\":\"white\",\"ticks\":\"\"}},\"coloraxis\":{\"colorbar\":{\"outlinewidth\":0,\"ticks\":\"\"}},\"colorscale\":{\"sequential\":[[0.0,\"#0d0887\"],[0.1111111111111111,\"#46039f\"],[0.2222222222222222,\"#7201a8\"],[0.3333333333333333,\"#9c179e\"],[0.4444444444444444,\"#bd3786\"],[0.5555555555555556,\"#d8576b\"],[0.6666666666666666,\"#ed7953\"],[0.7777777777777778,\"#fb9f3a\"],[0.8888888888888888,\"#fdca26\"],[1.0,\"#f0f921\"]],\"sequentialminus\":[[0.0,\"#0d0887\"],[0.1111111111111111,\"#46039f\"],[0.2222222222222222,\"#7201a8\"],[0.3333333333333333,\"#9c179e\"],[0.4444444444444444,\"#bd3786\"],[0.5555555555555556,\"#d8576b\"],[0.6666666666666666,\"#ed7953\"],[0.7777777777777778,\"#fb9f3a\"],[0.8888888888888888,\"#fdca26\"],[1.0,\"#f0f921\"]],\"diverging\":[[0,\"#8e0152\"],[0.1,\"#c51b7d\"],[0.2,\"#de77ae\"],[0.3,\"#f1b6da\"],[0.4,\"#fde0ef\"],[0.5,\"#f7f7f7\"],[0.6,\"#e6f5d0\"],[0.7,\"#b8e186\"],[0.8,\"#7fbc41\"],[0.9,\"#4d9221\"],[1,\"#276419\"]]},\"xaxis\":{\"gridcolor\":\"white\",\"linecolor\":\"white\",\"ticks\":\"\",\"title\":{\"standoff\":15},\"zerolinecolor\":\"white\",\"automargin\":true,\"zerolinewidth\":2},\"yaxis\":{\"gridcolor\":\"white\",\"linecolor\":\"white\",\"ticks\":\"\",\"title\":{\"standoff\":15},\"zerolinecolor\":\"white\",\"automargin\":true,\"zerolinewidth\":2},\"scene\":{\"xaxis\":{\"backgroundcolor\":\"#E5ECF6\",\"gridcolor\":\"white\",\"linecolor\":\"white\",\"showbackground\":true,\"ticks\":\"\",\"zerolinecolor\":\"white\",\"gridwidth\":2},\"yaxis\":{\"backgroundcolor\":\"#E5ECF6\",\"gridcolor\":\"white\",\"linecolor\":\"white\",\"showbackground\":true,\"ticks\":\"\",\"zerolinecolor\":\"white\",\"gridwidth\":2},\"zaxis\":{\"backgroundcolor\":\"#E5ECF6\",\"gridcolor\":\"white\",\"linecolor\":\"white\",\"showbackground\":true,\"ticks\":\"\",\"zerolinecolor\":\"white\",\"gridwidth\":2}},\"shapedefaults\":{\"line\":{\"color\":\"#2a3f5f\"}},\"annotationdefaults\":{\"arrowcolor\":\"#2a3f5f\",\"arrowhead\":0,\"arrowwidth\":1},\"geo\":{\"bgcolor\":\"white\",\"landcolor\":\"#E5ECF6\",\"subunitcolor\":\"white\",\"showland\":true,\"showlakes\":true,\"lakecolor\":\"white\"},\"title\":{\"x\":0.05},\"mapbox\":{\"style\":\"light\"}}},\"title\":{\"text\":\"\\u0412\\u043e\\u0440\\u043e\\u043d\\u043a\\u0430 \\u0441\\u043e\\u0431\\u044b\\u0442\\u0438\\u0439\"}},                        {\"responsive\": true}                    ).then(function(){\n",
       "                            \n",
       "var gd = document.getElementById('5841985b-3217-4ed0-a96d-0363e9b8ae8c');\n",
       "var x = new MutationObserver(function (mutations, observer) {{\n",
       "        var display = window.getComputedStyle(gd).display;\n",
       "        if (!display || display === 'none') {{\n",
       "            console.log([gd, 'removed!']);\n",
       "            Plotly.purge(gd);\n",
       "            observer.disconnect();\n",
       "        }}\n",
       "}});\n",
       "\n",
       "// Listen for the removal of the full notebook cells\n",
       "var notebookContainer = gd.closest('#notebook-container');\n",
       "if (notebookContainer) {{\n",
       "    x.observe(notebookContainer, {childList: true});\n",
       "}}\n",
       "\n",
       "// Listen for the clearing of the current output cell\n",
       "var outputEl = gd.closest('.output');\n",
       "if (outputEl) {{\n",
       "    x.observe(outputEl, {childList: true});\n",
       "}}\n",
       "\n",
       "                        })                };                });            </script>        </div>"
      ]
     },
     "metadata": {},
     "output_type": "display_data"
    }
   ],
   "source": [
    "funnel = funnel.query('event_name != \"Tutorial\"')\n",
    "\n",
    "fig = go.Figure(go.Funnel(\n",
    "    y = funnel['event_name'],\n",
    "    x = funnel['device_id_hash']))\n",
    "\n",
    "fig.update_layout(title={'text': \"Воронка событий\"})"
   ]
  },
  {
   "cell_type": "markdown",
   "metadata": {},
   "source": [
    "Практически все пользователи видят главный экран, за исключением 1,5%, что может быть связано с тем, что они повторно заходили на сайт сразу в корзину, либо переходили по ссылке, ведущей сразу в другое окно приложения. Окно с предложением видят 61% пользователей (потенциально нужно совершить некоторое количество действий, чтобы сработал триггер с предложениями). Доходят до оплты 49,5% пользователей от общего числа и заканчивают оплату 47% пользователей(кто-то забыл, кто-то не успел оплатить, у кого-то вылетела ошибка, отвлекли и тп. Не стоит обращать внимания на эту разницу)"
   ]
  },
  {
   "cell_type": "markdown",
   "metadata": {},
   "source": [
    "##### По воронке событий посчитаем, какая доля пользователей проходит на следующий шаг воронки (от числа пользователей на предыдущем)"
   ]
  },
  {
   "cell_type": "code",
   "execution_count": 210,
   "metadata": {},
   "outputs": [
    {
     "name": "stderr",
     "output_type": "stream",
     "text": [
      "C:\\Users\\parol\\AppData\\Local\\Temp\\ipykernel_4576\\3794959706.py:1: SettingWithCopyWarning:\n",
      "\n",
      "\n",
      "A value is trying to be set on a copy of a slice from a DataFrame.\n",
      "Try using .loc[row_indexer,col_indexer] = value instead\n",
      "\n",
      "See the caveats in the documentation: https://pandas.pydata.org/pandas-docs/stable/user_guide/indexing.html#returning-a-view-versus-a-copy\n",
      "\n"
     ]
    },
    {
     "data": {
      "text/html": [
       "<div>\n",
       "<style scoped>\n",
       "    .dataframe tbody tr th:only-of-type {\n",
       "        vertical-align: middle;\n",
       "    }\n",
       "\n",
       "    .dataframe tbody tr th {\n",
       "        vertical-align: top;\n",
       "    }\n",
       "\n",
       "    .dataframe thead th {\n",
       "        text-align: right;\n",
       "    }\n",
       "</style>\n",
       "<table border=\"1\" class=\"dataframe\">\n",
       "  <thead>\n",
       "    <tr style=\"text-align: right;\">\n",
       "      <th></th>\n",
       "      <th>event_name</th>\n",
       "      <th>device_id_hash</th>\n",
       "      <th>percentage</th>\n",
       "    </tr>\n",
       "  </thead>\n",
       "  <tbody>\n",
       "    <tr>\n",
       "      <th>0</th>\n",
       "      <td>MainScreenAppear</td>\n",
       "      <td>NaN</td>\n",
       "      <td>98.47000</td>\n",
       "    </tr>\n",
       "    <tr>\n",
       "      <th>1</th>\n",
       "      <td>OffersScreenAppear</td>\n",
       "      <td>0.61907</td>\n",
       "      <td>60.96000</td>\n",
       "    </tr>\n",
       "    <tr>\n",
       "      <th>2</th>\n",
       "      <td>CartScreenAppear</td>\n",
       "      <td>0.81299</td>\n",
       "      <td>49.56000</td>\n",
       "    </tr>\n",
       "    <tr>\n",
       "      <th>3</th>\n",
       "      <td>PaymentScreenSuccessful</td>\n",
       "      <td>0.94774</td>\n",
       "      <td>46.97000</td>\n",
       "    </tr>\n",
       "  </tbody>\n",
       "</table>\n",
       "</div>"
      ],
      "text/plain": [
       "                event_name  device_id_hash  percentage\n",
       "0  MainScreenAppear        NaN             98.47000   \n",
       "1  OffersScreenAppear      0.61907         60.96000   \n",
       "2  CartScreenAppear        0.81299         49.56000   \n",
       "3  PaymentScreenSuccessful 0.94774         46.97000   "
      ]
     },
     "execution_count": 210,
     "metadata": {},
     "output_type": "execute_result"
    }
   ],
   "source": [
    "funnel['device_id_hash'] =  funnel['percentage'].pct_change() + 1\n",
    "funnel"
   ]
  },
  {
   "cell_type": "markdown",
   "metadata": {},
   "source": [
    "Рассмотрим прямую последовательность действий клиента от открытия приложения до успешной оплаты. 62% всех пользователей, открывших главное окно программы, переходят в окно с предложениями. Из них 81% решают воспользоваться оффером и переходят на экран оплаты. Из этих 81% пользователей совершают успешную транзакцию 95%. <br>\n",
    "Самое большое количество пользователей на пути к оплате теряются на этапе появления окна с предложением. Оно появляется только у 62% всех, открывавших главную страницу, пользователей. Эта цифра является подозрительно маленькой. Зато количество людей, решающих воспользоваться предложением в процентном соотношении является очень хорошей -- 81% <br>\n",
    "В итоге от общего числа пользователей доходит до оплаты 50% пользователей, что достаточно хороший показатель."
   ]
  },
  {
   "cell_type": "markdown",
   "metadata": {},
   "source": [
    "## Изучите результаты эксперимента"
   ]
  },
  {
   "cell_type": "markdown",
   "metadata": {},
   "source": [
    "##### Сколько пользователей в каждой экспериментальной группе?"
   ]
  },
  {
   "cell_type": "code",
   "execution_count": 211,
   "metadata": {},
   "outputs": [
    {
     "data": {
      "text/html": [
       "<div>\n",
       "<style scoped>\n",
       "    .dataframe tbody tr th:only-of-type {\n",
       "        vertical-align: middle;\n",
       "    }\n",
       "\n",
       "    .dataframe tbody tr th {\n",
       "        vertical-align: top;\n",
       "    }\n",
       "\n",
       "    .dataframe thead th {\n",
       "        text-align: right;\n",
       "    }\n",
       "</style>\n",
       "<table border=\"1\" class=\"dataframe\">\n",
       "  <thead>\n",
       "    <tr style=\"text-align: right;\">\n",
       "      <th></th>\n",
       "      <th>exp_id</th>\n",
       "      <th>device_id_hash</th>\n",
       "    </tr>\n",
       "  </thead>\n",
       "  <tbody>\n",
       "    <tr>\n",
       "      <th>0</th>\n",
       "      <td>246</td>\n",
       "      <td>2484</td>\n",
       "    </tr>\n",
       "    <tr>\n",
       "      <th>1</th>\n",
       "      <td>247</td>\n",
       "      <td>2513</td>\n",
       "    </tr>\n",
       "    <tr>\n",
       "      <th>2</th>\n",
       "      <td>248</td>\n",
       "      <td>2537</td>\n",
       "    </tr>\n",
       "  </tbody>\n",
       "</table>\n",
       "</div>"
      ],
      "text/plain": [
       "   exp_id  device_id_hash\n",
       "0  246     2484          \n",
       "1  247     2513          \n",
       "2  248     2537          "
      ]
     },
     "execution_count": 211,
     "metadata": {},
     "output_type": "execute_result"
    }
   ],
   "source": [
    "#считаем количество пользователей в каждой группе\n",
    "aab = (\n",
    "df.pivot_table(index='exp_id', values='device_id_hash', aggfunc='nunique')\n",
    "    .sort_values('exp_id', ascending=True)\n",
    "    .reset_index()\n",
    ") \n",
    "aab"
   ]
  },
  {
   "cell_type": "code",
   "execution_count": 212,
   "metadata": {},
   "outputs": [
    {
     "data": {
      "text/plain": [
       "2484"
      ]
     },
     "execution_count": 212,
     "metadata": {},
     "output_type": "execute_result"
    }
   ],
   "source": [
    "aab.loc[0, 'device_id_hash']"
   ]
  },
  {
   "cell_type": "markdown",
   "metadata": {},
   "source": [
    "В каждой группе приблизительно равное количество пользователей"
   ]
  },
  {
   "cell_type": "markdown",
   "metadata": {},
   "source": [
    "##### Есть 2 контрольные группы для А/А-эксперимента, чтобы проверить корректность всех механизмов и расчётов. Проверим, находят ли статистические критерии разницу между выборками 246 и 247."
   ]
  },
  {
   "cell_type": "code",
   "execution_count": 213,
   "metadata": {},
   "outputs": [],
   "source": [
    "df_new = df.query('event_name != \"Tutorial\"')"
   ]
  },
  {
   "cell_type": "code",
   "execution_count": 214,
   "metadata": {},
   "outputs": [
    {
     "data": {
      "text/html": [
       "<div>\n",
       "<style scoped>\n",
       "    .dataframe tbody tr th:only-of-type {\n",
       "        vertical-align: middle;\n",
       "    }\n",
       "\n",
       "    .dataframe tbody tr th {\n",
       "        vertical-align: top;\n",
       "    }\n",
       "\n",
       "    .dataframe thead th {\n",
       "        text-align: right;\n",
       "    }\n",
       "</style>\n",
       "<table border=\"1\" class=\"dataframe\">\n",
       "  <thead>\n",
       "    <tr style=\"text-align: right;\">\n",
       "      <th></th>\n",
       "      <th>event_name</th>\n",
       "      <th>device_id_hash</th>\n",
       "    </tr>\n",
       "  </thead>\n",
       "  <tbody>\n",
       "    <tr>\n",
       "      <th>0</th>\n",
       "      <td>MainScreenAppear</td>\n",
       "      <td>2450</td>\n",
       "    </tr>\n",
       "    <tr>\n",
       "      <th>1</th>\n",
       "      <td>OffersScreenAppear</td>\n",
       "      <td>1542</td>\n",
       "    </tr>\n",
       "    <tr>\n",
       "      <th>2</th>\n",
       "      <td>CartScreenAppear</td>\n",
       "      <td>1266</td>\n",
       "    </tr>\n",
       "    <tr>\n",
       "      <th>3</th>\n",
       "      <td>PaymentScreenSuccessful</td>\n",
       "      <td>1200</td>\n",
       "    </tr>\n",
       "  </tbody>\n",
       "</table>\n",
       "</div>"
      ],
      "text/plain": [
       "                event_name  device_id_hash\n",
       "0  MainScreenAppear         2450          \n",
       "1  OffersScreenAppear       1542          \n",
       "2  CartScreenAppear         1266          \n",
       "3  PaymentScreenSuccessful  1200          "
      ]
     },
     "execution_count": 214,
     "metadata": {},
     "output_type": "execute_result"
    }
   ],
   "source": [
    "# считаем количество пользователей, совершивших каждое действие в группе 246\n",
    "a246 = (\n",
    "df_new.query('exp_id == 246')  \n",
    "    .pivot_table(index='event_name', values='device_id_hash', aggfunc='nunique')\n",
    "    .sort_values('device_id_hash', ascending=False)\n",
    "    .reset_index()\n",
    ")\n",
    "a246"
   ]
  },
  {
   "cell_type": "code",
   "execution_count": 215,
   "metadata": {},
   "outputs": [
    {
     "data": {
      "text/html": [
       "<div>\n",
       "<style scoped>\n",
       "    .dataframe tbody tr th:only-of-type {\n",
       "        vertical-align: middle;\n",
       "    }\n",
       "\n",
       "    .dataframe tbody tr th {\n",
       "        vertical-align: top;\n",
       "    }\n",
       "\n",
       "    .dataframe thead th {\n",
       "        text-align: right;\n",
       "    }\n",
       "</style>\n",
       "<table border=\"1\" class=\"dataframe\">\n",
       "  <thead>\n",
       "    <tr style=\"text-align: right;\">\n",
       "      <th></th>\n",
       "      <th>event_name</th>\n",
       "      <th>device_id_hash</th>\n",
       "    </tr>\n",
       "  </thead>\n",
       "  <tbody>\n",
       "    <tr>\n",
       "      <th>0</th>\n",
       "      <td>MainScreenAppear</td>\n",
       "      <td>2476</td>\n",
       "    </tr>\n",
       "    <tr>\n",
       "      <th>1</th>\n",
       "      <td>OffersScreenAppear</td>\n",
       "      <td>1520</td>\n",
       "    </tr>\n",
       "    <tr>\n",
       "      <th>2</th>\n",
       "      <td>CartScreenAppear</td>\n",
       "      <td>1238</td>\n",
       "    </tr>\n",
       "    <tr>\n",
       "      <th>3</th>\n",
       "      <td>PaymentScreenSuccessful</td>\n",
       "      <td>1158</td>\n",
       "    </tr>\n",
       "  </tbody>\n",
       "</table>\n",
       "</div>"
      ],
      "text/plain": [
       "                event_name  device_id_hash\n",
       "0  MainScreenAppear         2476          \n",
       "1  OffersScreenAppear       1520          \n",
       "2  CartScreenAppear         1238          \n",
       "3  PaymentScreenSuccessful  1158          "
      ]
     },
     "execution_count": 215,
     "metadata": {},
     "output_type": "execute_result"
    }
   ],
   "source": [
    "# считаем количество пользователей, совершивших каждое действие в группе 247\n",
    "a247 =(\n",
    "df_new.query('exp_id == 247')  \n",
    "    .pivot_table(index='event_name', values='device_id_hash', aggfunc='nunique')\n",
    "    .sort_values('device_id_hash', ascending=False)\n",
    "    .reset_index()\n",
    ")\n",
    "a247"
   ]
  },
  {
   "cell_type": "markdown",
   "metadata": {},
   "source": [
    "#### Описание исследования\n",
    "Нулевая гипотеза: Разницы между долями нет, они равны <br>\n",
    "Альтернативная гипотеза: Между долями есть значимая разница <br>\n",
    "Уровень статистической значимости = 0.05 <br>\n",
    "Используемый тест: z-критерий"
   ]
  },
  {
   "cell_type": "code",
   "execution_count": 216,
   "metadata": {},
   "outputs": [],
   "source": [
    "def test(successes1, successes2, trials1, trials2, alpha):\n",
    "# пропорция успехов в первой группе:\n",
    "    p1 = successes1/trials1\n",
    "\n",
    "# пропорция успехов во второй группе:\n",
    "    p2 = successes2/trials2\n",
    "\n",
    "# пропорция успехов в комбинированном датасете:\n",
    "    p_combined = (successes1 + successes2) / (trials1 + trials2)\n",
    "\n",
    "# разница пропорций в датасетах\n",
    "    difference = p1 - p2 \n",
    "\n",
    "# считаем статистику в ст.отклонениях стандартного нормального распределения\n",
    "    z_value = difference / mth.sqrt(p_combined * (1 - p_combined) * (1/trials1 + 1/trials2))\n",
    "\n",
    "# задаем стандартное нормальное распределение (среднее 0, ст.отклонение 1)\n",
    "    distr = st.norm(0, 1)  \n",
    "    p_value = (1 - distr.cdf(abs(z_value))) * 2\n",
    "\n",
    "    print('p-значение: ', p_value)\n",
    "\n",
    "    if p_value < alpha:\n",
    "        print('Отвергаем нулевую гипотезу: между долями есть значимая разница')\n",
    "    else:\n",
    "        print(\n",
    "            'Не получилось отвергнуть нулевую гипотезу, нет оснований считать доли разными'\n",
    "        ) "
   ]
  },
  {
   "cell_type": "code",
   "execution_count": 217,
   "metadata": {},
   "outputs": [
    {
     "name": "stdout",
     "output_type": "stream",
     "text": [
      "p-значение:  0.2480954578522181\n",
      "Не получилось отвергнуть нулевую гипотезу, нет оснований считать доли разными\n"
     ]
    }
   ],
   "source": [
    "test(a246.loc[1, 'device_id_hash'], a247.loc[1, 'device_id_hash'], aab.loc[0, 'device_id_hash'], aab.loc[1, 'device_id_hash'], 0.05)"
   ]
  },
  {
   "cell_type": "markdown",
   "metadata": {},
   "source": [
    "Выборки 246 и 247 имеют равные доли "
   ]
  },
  {
   "cell_type": "markdown",
   "metadata": {},
   "source": [
    "##### Выберем самое популярное событие. Посчитаем число пользователей, совершивших это событие в каждой из контрольных групп. Посчитаем долю пользователей, совершивших это событие. Проверим, будет ли отличие между группами статистически достоверным. Проделаем то же самое для всех других событий."
   ]
  },
  {
   "cell_type": "code",
   "execution_count": 218,
   "metadata": {},
   "outputs": [
    {
     "data": {
      "text/html": [
       "<div>\n",
       "<style scoped>\n",
       "    .dataframe tbody tr th:only-of-type {\n",
       "        vertical-align: middle;\n",
       "    }\n",
       "\n",
       "    .dataframe tbody tr th {\n",
       "        vertical-align: top;\n",
       "    }\n",
       "\n",
       "    .dataframe thead th {\n",
       "        text-align: right;\n",
       "    }\n",
       "</style>\n",
       "<table border=\"1\" class=\"dataframe\">\n",
       "  <thead>\n",
       "    <tr style=\"text-align: right;\">\n",
       "      <th></th>\n",
       "      <th>event_name</th>\n",
       "      <th>device_id_hash</th>\n",
       "      <th>percentage</th>\n",
       "    </tr>\n",
       "  </thead>\n",
       "  <tbody>\n",
       "    <tr>\n",
       "      <th>0</th>\n",
       "      <td>MainScreenAppear</td>\n",
       "      <td>2450</td>\n",
       "      <td>98.63000</td>\n",
       "    </tr>\n",
       "    <tr>\n",
       "      <th>1</th>\n",
       "      <td>OffersScreenAppear</td>\n",
       "      <td>1542</td>\n",
       "      <td>62.08000</td>\n",
       "    </tr>\n",
       "    <tr>\n",
       "      <th>2</th>\n",
       "      <td>CartScreenAppear</td>\n",
       "      <td>1266</td>\n",
       "      <td>50.97000</td>\n",
       "    </tr>\n",
       "    <tr>\n",
       "      <th>3</th>\n",
       "      <td>PaymentScreenSuccessful</td>\n",
       "      <td>1200</td>\n",
       "      <td>48.31000</td>\n",
       "    </tr>\n",
       "  </tbody>\n",
       "</table>\n",
       "</div>"
      ],
      "text/plain": [
       "                event_name  device_id_hash  percentage\n",
       "0  MainScreenAppear         2450           98.63000   \n",
       "1  OffersScreenAppear       1542           62.08000   \n",
       "2  CartScreenAppear         1266           50.97000   \n",
       "3  PaymentScreenSuccessful  1200           48.31000   "
      ]
     },
     "execution_count": 218,
     "metadata": {},
     "output_type": "execute_result"
    }
   ],
   "source": [
    "# выводим число пользователей и их долю в группе 246\n",
    "df246 = df.query('exp_id == 246')\n",
    "a246['percentage'] = (a246['device_id_hash'] / df246['device_id_hash'].nunique() * 100).round(2)\n",
    "a246"
   ]
  },
  {
   "cell_type": "code",
   "execution_count": 219,
   "metadata": {},
   "outputs": [
    {
     "data": {
      "text/plain": [
       "2450"
      ]
     },
     "execution_count": 219,
     "metadata": {},
     "output_type": "execute_result"
    }
   ],
   "source": [
    "a246.loc[0, 'device_id_hash']"
   ]
  },
  {
   "cell_type": "code",
   "execution_count": 220,
   "metadata": {},
   "outputs": [
    {
     "data": {
      "text/html": [
       "<div>\n",
       "<style scoped>\n",
       "    .dataframe tbody tr th:only-of-type {\n",
       "        vertical-align: middle;\n",
       "    }\n",
       "\n",
       "    .dataframe tbody tr th {\n",
       "        vertical-align: top;\n",
       "    }\n",
       "\n",
       "    .dataframe thead th {\n",
       "        text-align: right;\n",
       "    }\n",
       "</style>\n",
       "<table border=\"1\" class=\"dataframe\">\n",
       "  <thead>\n",
       "    <tr style=\"text-align: right;\">\n",
       "      <th></th>\n",
       "      <th>event_name</th>\n",
       "      <th>device_id_hash</th>\n",
       "      <th>percentage</th>\n",
       "    </tr>\n",
       "  </thead>\n",
       "  <tbody>\n",
       "    <tr>\n",
       "      <th>0</th>\n",
       "      <td>MainScreenAppear</td>\n",
       "      <td>2476</td>\n",
       "      <td>98.53000</td>\n",
       "    </tr>\n",
       "    <tr>\n",
       "      <th>1</th>\n",
       "      <td>OffersScreenAppear</td>\n",
       "      <td>1520</td>\n",
       "      <td>60.49000</td>\n",
       "    </tr>\n",
       "    <tr>\n",
       "      <th>2</th>\n",
       "      <td>CartScreenAppear</td>\n",
       "      <td>1238</td>\n",
       "      <td>49.26000</td>\n",
       "    </tr>\n",
       "    <tr>\n",
       "      <th>3</th>\n",
       "      <td>PaymentScreenSuccessful</td>\n",
       "      <td>1158</td>\n",
       "      <td>46.08000</td>\n",
       "    </tr>\n",
       "  </tbody>\n",
       "</table>\n",
       "</div>"
      ],
      "text/plain": [
       "                event_name  device_id_hash  percentage\n",
       "0  MainScreenAppear         2476           98.53000   \n",
       "1  OffersScreenAppear       1520           60.49000   \n",
       "2  CartScreenAppear         1238           49.26000   \n",
       "3  PaymentScreenSuccessful  1158           46.08000   "
      ]
     },
     "execution_count": 220,
     "metadata": {},
     "output_type": "execute_result"
    }
   ],
   "source": [
    "#выводим число пользователей и их долю в группе 247\n",
    "df247 = df.query('exp_id == 247')\n",
    "a247['percentage'] = (a247['device_id_hash'] / df247['device_id_hash'].nunique() * 100).round(2)\n",
    "a247"
   ]
  },
  {
   "cell_type": "code",
   "execution_count": 221,
   "metadata": {},
   "outputs": [
    {
     "name": "stdout",
     "output_type": "stream",
     "text": [
      "p-значение:  0.7570597232046099\n",
      "Не получилось отвергнуть нулевую гипотезу, нет оснований считать доли разными\n"
     ]
    }
   ],
   "source": [
    "#проверяем MainScreenAppear между группами 246 и 247\n",
    "test(a246.loc[0, 'device_id_hash'], a247.loc[0, 'device_id_hash'], aab.loc[0, 'device_id_hash'], aab.loc[1, 'device_id_hash'], 0.05)"
   ]
  },
  {
   "cell_type": "code",
   "execution_count": 222,
   "metadata": {},
   "outputs": [
    {
     "name": "stdout",
     "output_type": "stream",
     "text": [
      "p-значение:  0.2480954578522181\n",
      "Не получилось отвергнуть нулевую гипотезу, нет оснований считать доли разными\n"
     ]
    }
   ],
   "source": [
    "#проверяем OffersScreenAppear между группами 246 и 247\n",
    "test(a246.loc[1, 'device_id_hash'], a247.loc[1, 'device_id_hash'], aab.loc[0, 'device_id_hash'], aab.loc[1, 'device_id_hash'], 0.05)"
   ]
  },
  {
   "cell_type": "code",
   "execution_count": 223,
   "metadata": {},
   "outputs": [
    {
     "name": "stdout",
     "output_type": "stream",
     "text": [
      "p-значение:  0.22883372237997213\n",
      "Не получилось отвергнуть нулевую гипотезу, нет оснований считать доли разными\n"
     ]
    }
   ],
   "source": [
    "#проверяем CartScreenAppear между группами 246 и 247\n",
    "test(a246.loc[2, 'device_id_hash'], a247.loc[2, 'device_id_hash'], aab.loc[0, 'device_id_hash'], aab.loc[1, 'device_id_hash'], 0.05)"
   ]
  },
  {
   "cell_type": "code",
   "execution_count": 224,
   "metadata": {},
   "outputs": [
    {
     "name": "stdout",
     "output_type": "stream",
     "text": [
      "p-значение:  0.11456679313141849\n",
      "Не получилось отвергнуть нулевую гипотезу, нет оснований считать доли разными\n"
     ]
    }
   ],
   "source": [
    "#проверяем PaymentScreenSuccessful между группами 246 и 247\n",
    "test(a246.loc[3, 'device_id_hash'], a247.loc[3, 'device_id_hash'], aab.loc[0, 'device_id_hash'], aab.loc[1, 'device_id_hash'], 0.05)"
   ]
  },
  {
   "cell_type": "markdown",
   "metadata": {},
   "source": [
    "Группы 246 и 247 (A/A) можно считать равными по поведению. Разбиение на группы можно считать корректным"
   ]
  },
  {
   "cell_type": "markdown",
   "metadata": {},
   "source": [
    "##### Аналогично поступим с группой с изменённым шрифтом"
   ]
  },
  {
   "cell_type": "code",
   "execution_count": 225,
   "metadata": {},
   "outputs": [
    {
     "data": {
      "text/html": [
       "<div>\n",
       "<style scoped>\n",
       "    .dataframe tbody tr th:only-of-type {\n",
       "        vertical-align: middle;\n",
       "    }\n",
       "\n",
       "    .dataframe tbody tr th {\n",
       "        vertical-align: top;\n",
       "    }\n",
       "\n",
       "    .dataframe thead th {\n",
       "        text-align: right;\n",
       "    }\n",
       "</style>\n",
       "<table border=\"1\" class=\"dataframe\">\n",
       "  <thead>\n",
       "    <tr style=\"text-align: right;\">\n",
       "      <th></th>\n",
       "      <th>event_name</th>\n",
       "      <th>device_id_hash</th>\n",
       "    </tr>\n",
       "  </thead>\n",
       "  <tbody>\n",
       "    <tr>\n",
       "      <th>0</th>\n",
       "      <td>MainScreenAppear</td>\n",
       "      <td>2493</td>\n",
       "    </tr>\n",
       "    <tr>\n",
       "      <th>1</th>\n",
       "      <td>OffersScreenAppear</td>\n",
       "      <td>1531</td>\n",
       "    </tr>\n",
       "    <tr>\n",
       "      <th>2</th>\n",
       "      <td>CartScreenAppear</td>\n",
       "      <td>1230</td>\n",
       "    </tr>\n",
       "    <tr>\n",
       "      <th>3</th>\n",
       "      <td>PaymentScreenSuccessful</td>\n",
       "      <td>1181</td>\n",
       "    </tr>\n",
       "  </tbody>\n",
       "</table>\n",
       "</div>"
      ],
      "text/plain": [
       "                event_name  device_id_hash\n",
       "0  MainScreenAppear         2493          \n",
       "1  OffersScreenAppear       1531          \n",
       "2  CartScreenAppear         1230          \n",
       "3  PaymentScreenSuccessful  1181          "
      ]
     },
     "execution_count": 225,
     "metadata": {},
     "output_type": "execute_result"
    }
   ],
   "source": [
    "# считаем количество пользователей, совершивших каждое действие в группе 247\n",
    "a248 =(\n",
    "df_new.query('exp_id == 248')  \n",
    "    .pivot_table(index='event_name', values='device_id_hash', aggfunc='nunique')\n",
    "    .sort_values('device_id_hash', ascending=False)\n",
    "    .reset_index()\n",
    ")\n",
    "a248"
   ]
  },
  {
   "cell_type": "code",
   "execution_count": 226,
   "metadata": {},
   "outputs": [
    {
     "data": {
      "text/html": [
       "<div>\n",
       "<style scoped>\n",
       "    .dataframe tbody tr th:only-of-type {\n",
       "        vertical-align: middle;\n",
       "    }\n",
       "\n",
       "    .dataframe tbody tr th {\n",
       "        vertical-align: top;\n",
       "    }\n",
       "\n",
       "    .dataframe thead th {\n",
       "        text-align: right;\n",
       "    }\n",
       "</style>\n",
       "<table border=\"1\" class=\"dataframe\">\n",
       "  <thead>\n",
       "    <tr style=\"text-align: right;\">\n",
       "      <th></th>\n",
       "      <th>event_name</th>\n",
       "      <th>device_id_hash</th>\n",
       "      <th>percentage</th>\n",
       "    </tr>\n",
       "  </thead>\n",
       "  <tbody>\n",
       "    <tr>\n",
       "      <th>0</th>\n",
       "      <td>MainScreenAppear</td>\n",
       "      <td>2493</td>\n",
       "      <td>98.27000</td>\n",
       "    </tr>\n",
       "    <tr>\n",
       "      <th>1</th>\n",
       "      <td>OffersScreenAppear</td>\n",
       "      <td>1531</td>\n",
       "      <td>60.35000</td>\n",
       "    </tr>\n",
       "    <tr>\n",
       "      <th>2</th>\n",
       "      <td>CartScreenAppear</td>\n",
       "      <td>1230</td>\n",
       "      <td>48.48000</td>\n",
       "    </tr>\n",
       "    <tr>\n",
       "      <th>3</th>\n",
       "      <td>PaymentScreenSuccessful</td>\n",
       "      <td>1181</td>\n",
       "      <td>46.55000</td>\n",
       "    </tr>\n",
       "  </tbody>\n",
       "</table>\n",
       "</div>"
      ],
      "text/plain": [
       "                event_name  device_id_hash  percentage\n",
       "0  MainScreenAppear         2493           98.27000   \n",
       "1  OffersScreenAppear       1531           60.35000   \n",
       "2  CartScreenAppear         1230           48.48000   \n",
       "3  PaymentScreenSuccessful  1181           46.55000   "
      ]
     },
     "execution_count": 226,
     "metadata": {},
     "output_type": "execute_result"
    }
   ],
   "source": [
    "#выводим число пользователей и их долю в группе 248\n",
    "df248 = df.query('exp_id == 248')\n",
    "a248['percentage'] = (a248['device_id_hash'] / df248['device_id_hash'].nunique() * 100).round(2)\n",
    "a248"
   ]
  },
  {
   "cell_type": "code",
   "execution_count": 227,
   "metadata": {},
   "outputs": [
    {
     "name": "stdout",
     "output_type": "stream",
     "text": [
      "p-значение:  4.585349211438938e-09\n",
      "Отвергаем нулевую гипотезу: между долями есть значимая разница\n"
     ]
    }
   ],
   "source": [
    "#проверяем MainScreenAppear между группами 246 и 248\n",
    "test(2450, 2493, 2484, 2493, 0.05)"
   ]
  },
  {
   "cell_type": "code",
   "execution_count": 228,
   "metadata": {},
   "outputs": [
    {
     "name": "stdout",
     "output_type": "stream",
     "text": [
      "p-значение:  0.2949721933554552\n",
      "Не получилось отвергнуть нулевую гипотезу, нет оснований считать доли разными\n"
     ]
    }
   ],
   "source": [
    "#проверяем MainScreenAppear между группами 246 и 248\n",
    "test(a246.loc[0, 'device_id_hash'], a248.loc[0, 'device_id_hash'], aab.loc[0, 'device_id_hash'], aab.loc[2, 'device_id_hash'], 0.05)"
   ]
  },
  {
   "cell_type": "code",
   "execution_count": 229,
   "metadata": {},
   "outputs": [
    {
     "name": "stdout",
     "output_type": "stream",
     "text": [
      "p-значение:  0.20836205402738917\n",
      "Не получилось отвергнуть нулевую гипотезу, нет оснований считать доли разными\n"
     ]
    }
   ],
   "source": [
    "#проверяем OffersScreenAppear между группами 246 и 248\n",
    "test(a246.loc[1, 'device_id_hash'], a248.loc[1, 'device_id_hash'], aab.loc[0, 'device_id_hash'], aab.loc[2, 'device_id_hash'], 0.05)"
   ]
  },
  {
   "cell_type": "code",
   "execution_count": 230,
   "metadata": {},
   "outputs": [
    {
     "name": "stdout",
     "output_type": "stream",
     "text": [
      "p-значение:  0.07842923237520116\n",
      "Не получилось отвергнуть нулевую гипотезу, нет оснований считать доли разными\n"
     ]
    }
   ],
   "source": [
    "#проверяем CartScreenAppear между группами 246 и 248\n",
    "test(a246.loc[2, 'device_id_hash'], a248.loc[2, 'device_id_hash'], aab.loc[0, 'device_id_hash'], aab.loc[2, 'device_id_hash'], 0.05)"
   ]
  },
  {
   "cell_type": "code",
   "execution_count": 231,
   "metadata": {},
   "outputs": [
    {
     "name": "stdout",
     "output_type": "stream",
     "text": [
      "p-значение:  0.2122553275697796\n",
      "Не получилось отвергнуть нулевую гипотезу, нет оснований считать доли разными\n"
     ]
    }
   ],
   "source": [
    "test(a246.loc[3, 'device_id_hash'], a248.loc[3, 'device_id_hash'], aab.loc[0, 'device_id_hash'], aab.loc[2, 'device_id_hash'], 0.05)"
   ]
  },
  {
   "cell_type": "markdown",
   "metadata": {},
   "source": [
    "_Группа 246 и 248 различаются по поведению на первом действии (MainScreenAppear)_"
   ]
  },
  {
   "cell_type": "code",
   "execution_count": 232,
   "metadata": {},
   "outputs": [
    {
     "name": "stdout",
     "output_type": "stream",
     "text": [
      "p-значение:  1.194177867702706e-09\n",
      "Отвергаем нулевую гипотезу: между долями есть значимая разница\n"
     ]
    }
   ],
   "source": [
    "#проверяем MainScreenAppear между группами 247 и 248\n",
    "test(2476, 2493, 2513, 2493, 0.05)"
   ]
  },
  {
   "cell_type": "code",
   "execution_count": 233,
   "metadata": {},
   "outputs": [
    {
     "name": "stdout",
     "output_type": "stream",
     "text": [
      "p-значение:  0.4587053616621515\n",
      "Не получилось отвергнуть нулевую гипотезу, нет оснований считать доли разными\n"
     ]
    }
   ],
   "source": [
    "#проверяем MainScreenAppear между группами 247 и 248\n",
    "test(a247.loc[0, 'device_id_hash'], a248.loc[0, 'device_id_hash'], aab.loc[1, 'device_id_hash'], aab.loc[2, 'device_id_hash'], 0.05)"
   ]
  },
  {
   "cell_type": "code",
   "execution_count": 234,
   "metadata": {},
   "outputs": [
    {
     "name": "stdout",
     "output_type": "stream",
     "text": [
      "p-значение:  0.9197817830592261\n",
      "Не получилось отвергнуть нулевую гипотезу, нет оснований считать доли разными\n"
     ]
    }
   ],
   "source": [
    "#проверяем OffersScreenAppear между группами 247 и 248\n",
    "test(a247.loc[1, 'device_id_hash'], a248.loc[1, 'device_id_hash'], aab.loc[1, 'device_id_hash'], aab.loc[2, 'device_id_hash'], 0.05)"
   ]
  },
  {
   "cell_type": "code",
   "execution_count": 235,
   "metadata": {},
   "outputs": [
    {
     "name": "stdout",
     "output_type": "stream",
     "text": [
      "p-значение:  0.5786197879539783\n",
      "Не получилось отвергнуть нулевую гипотезу, нет оснований считать доли разными\n"
     ]
    }
   ],
   "source": [
    "#проверяем CartScreenAppear между группами 247 и 248\n",
    "test(a247.loc[2, 'device_id_hash'], a248.loc[2, 'device_id_hash'], aab.loc[1, 'device_id_hash'], aab.loc[2, 'device_id_hash'], 0.05)"
   ]
  },
  {
   "cell_type": "code",
   "execution_count": 236,
   "metadata": {},
   "outputs": [
    {
     "name": "stdout",
     "output_type": "stream",
     "text": [
      "p-значение:  0.7373415053803964\n",
      "Не получилось отвергнуть нулевую гипотезу, нет оснований считать доли разными\n"
     ]
    }
   ],
   "source": [
    "#проверяем PaymentScreenSuccessful между группами 247 и 248\n",
    "test(a247.loc[3, 'device_id_hash'], a248.loc[3, 'device_id_hash'], aab.loc[1, 'device_id_hash'], aab.loc[2, 'device_id_hash'], 0.05)"
   ]
  },
  {
   "cell_type": "markdown",
   "metadata": {},
   "source": [
    "_Группа 247 и 248 различаются между собой по первому действию_"
   ]
  },
  {
   "cell_type": "code",
   "execution_count": 237,
   "metadata": {},
   "outputs": [
    {
     "data": {
      "text/html": [
       "<div>\n",
       "<style scoped>\n",
       "    .dataframe tbody tr th:only-of-type {\n",
       "        vertical-align: middle;\n",
       "    }\n",
       "\n",
       "    .dataframe tbody tr th {\n",
       "        vertical-align: top;\n",
       "    }\n",
       "\n",
       "    .dataframe thead th {\n",
       "        text-align: right;\n",
       "    }\n",
       "</style>\n",
       "<table border=\"1\" class=\"dataframe\">\n",
       "  <thead>\n",
       "    <tr style=\"text-align: right;\">\n",
       "      <th></th>\n",
       "      <th>event_name</th>\n",
       "      <th>device_id_hash</th>\n",
       "    </tr>\n",
       "  </thead>\n",
       "  <tbody>\n",
       "    <tr>\n",
       "      <th>0</th>\n",
       "      <td>MainScreenAppear</td>\n",
       "      <td>4926</td>\n",
       "    </tr>\n",
       "    <tr>\n",
       "      <th>1</th>\n",
       "      <td>OffersScreenAppear</td>\n",
       "      <td>3062</td>\n",
       "    </tr>\n",
       "    <tr>\n",
       "      <th>2</th>\n",
       "      <td>CartScreenAppear</td>\n",
       "      <td>2504</td>\n",
       "    </tr>\n",
       "    <tr>\n",
       "      <th>3</th>\n",
       "      <td>PaymentScreenSuccessful</td>\n",
       "      <td>2358</td>\n",
       "    </tr>\n",
       "  </tbody>\n",
       "</table>\n",
       "</div>"
      ],
      "text/plain": [
       "                event_name  device_id_hash\n",
       "0  MainScreenAppear         4926          \n",
       "1  OffersScreenAppear       3062          \n",
       "2  CartScreenAppear         2504          \n",
       "3  PaymentScreenSuccessful  2358          "
      ]
     },
     "execution_count": 237,
     "metadata": {},
     "output_type": "execute_result"
    }
   ],
   "source": [
    "# считаем количество пользователей, совершивших каждое действие в группе 247\n",
    "aa =(\n",
    "df_new.query('exp_id == 246 or exp_id == 247')  \n",
    "    .pivot_table(index='event_name', values='device_id_hash', aggfunc='nunique')\n",
    "    .sort_values('device_id_hash', ascending=False)\n",
    "    .reset_index()\n",
    ")\n",
    "aa"
   ]
  },
  {
   "cell_type": "code",
   "execution_count": 238,
   "metadata": {},
   "outputs": [
    {
     "data": {
      "text/html": [
       "<div>\n",
       "<style scoped>\n",
       "    .dataframe tbody tr th:only-of-type {\n",
       "        vertical-align: middle;\n",
       "    }\n",
       "\n",
       "    .dataframe tbody tr th {\n",
       "        vertical-align: top;\n",
       "    }\n",
       "\n",
       "    .dataframe thead th {\n",
       "        text-align: right;\n",
       "    }\n",
       "</style>\n",
       "<table border=\"1\" class=\"dataframe\">\n",
       "  <thead>\n",
       "    <tr style=\"text-align: right;\">\n",
       "      <th></th>\n",
       "      <th>event_name</th>\n",
       "      <th>device_id_hash</th>\n",
       "      <th>percentage</th>\n",
       "    </tr>\n",
       "  </thead>\n",
       "  <tbody>\n",
       "    <tr>\n",
       "      <th>0</th>\n",
       "      <td>MainScreenAppear</td>\n",
       "      <td>4926</td>\n",
       "      <td>98.58000</td>\n",
       "    </tr>\n",
       "    <tr>\n",
       "      <th>1</th>\n",
       "      <td>OffersScreenAppear</td>\n",
       "      <td>3062</td>\n",
       "      <td>61.28000</td>\n",
       "    </tr>\n",
       "    <tr>\n",
       "      <th>2</th>\n",
       "      <td>CartScreenAppear</td>\n",
       "      <td>2504</td>\n",
       "      <td>50.11000</td>\n",
       "    </tr>\n",
       "    <tr>\n",
       "      <th>3</th>\n",
       "      <td>PaymentScreenSuccessful</td>\n",
       "      <td>2358</td>\n",
       "      <td>47.19000</td>\n",
       "    </tr>\n",
       "  </tbody>\n",
       "</table>\n",
       "</div>"
      ],
      "text/plain": [
       "                event_name  device_id_hash  percentage\n",
       "0  MainScreenAppear         4926           98.58000   \n",
       "1  OffersScreenAppear       3062           61.28000   \n",
       "2  CartScreenAppear         2504           50.11000   \n",
       "3  PaymentScreenSuccessful  2358           47.19000   "
      ]
     },
     "execution_count": 238,
     "metadata": {},
     "output_type": "execute_result"
    }
   ],
   "source": [
    "#выводим число пользователей и их долю в группе 248\n",
    "df_aa = df.query('exp_id == 246 or exp_id == 247')\n",
    "aa['percentage'] = (aa['device_id_hash'] / df_aa['device_id_hash'].nunique() * 100).round(2)\n",
    "aa"
   ]
  },
  {
   "cell_type": "code",
   "execution_count": 239,
   "metadata": {},
   "outputs": [
    {
     "data": {
      "text/plain": [
       "4995"
      ]
     },
     "execution_count": 239,
     "metadata": {},
     "output_type": "execute_result"
    }
   ],
   "source": [
    "aa_count = df_new.query('exp_id == 246 or exp_id == 247') \n",
    "aa_count = aa_count['device_id_hash'].nunique()\n",
    "aa_count"
   ]
  },
  {
   "cell_type": "code",
   "execution_count": 240,
   "metadata": {},
   "outputs": [
    {
     "name": "stdout",
     "output_type": "stream",
     "text": [
      "p-значение:  2.2308710434515433e-09\n",
      "Отвергаем нулевую гипотезу: между долями есть значимая разница\n"
     ]
    }
   ],
   "source": [
    "#проверяем MainScreenAppear между объединенной группой и 248\n",
    "test(4926, 2493, 4997, 2493, 0.05)"
   ]
  },
  {
   "cell_type": "code",
   "execution_count": 241,
   "metadata": {},
   "outputs": [
    {
     "name": "stdout",
     "output_type": "stream",
     "text": [
      "p-значение:  0.2336823553891363\n",
      "Не получилось отвергнуть нулевую гипотезу, нет оснований считать доли разными\n"
     ]
    }
   ],
   "source": [
    "#проверяем MainScreenAppear между объединенной группой и 248\n",
    "test(aa.loc[0, 'device_id_hash'], a248.loc[0, 'device_id_hash'], aa_count, aab.loc[2, 'device_id_hash'], 0.05)"
   ]
  },
  {
   "cell_type": "code",
   "execution_count": 242,
   "metadata": {},
   "outputs": [
    {
     "name": "stdout",
     "output_type": "stream",
     "text": [
      "p-значение:  0.4222248950145553\n",
      "Не получилось отвергнуть нулевую гипотезу, нет оснований считать доли разными\n"
     ]
    }
   ],
   "source": [
    "#проверяем OffersScreenAppear между объединенной группой и 248\n",
    "test(aa.loc[1, 'device_id_hash'], a248.loc[1, 'device_id_hash'], aa_count, aab.loc[2, 'device_id_hash'], 0.05)"
   ]
  },
  {
   "cell_type": "code",
   "execution_count": 243,
   "metadata": {},
   "outputs": [
    {
     "name": "stdout",
     "output_type": "stream",
     "text": [
      "p-значение:  0.17646277944659472\n",
      "Не получилось отвергнуть нулевую гипотезу, нет оснований считать доли разными\n"
     ]
    }
   ],
   "source": [
    "#проверяем CartScreenAppear между объединенной группой и 248\n",
    "test(aa.loc[2, 'device_id_hash'], a248.loc[2, 'device_id_hash'], aa_count, aab.loc[2, 'device_id_hash'], 0.05)"
   ]
  },
  {
   "cell_type": "code",
   "execution_count": 244,
   "metadata": {},
   "outputs": [
    {
     "name": "stdout",
     "output_type": "stream",
     "text": [
      "p-значение:  0.5897018893874875\n",
      "Не получилось отвергнуть нулевую гипотезу, нет оснований считать доли разными\n"
     ]
    }
   ],
   "source": [
    "#проверяем PaymentScreenSuccessful между объединенной группой и 248\n",
    "test(aa.loc[3, 'device_id_hash'], a248.loc[3, 'device_id_hash'], aa_count, aab.loc[2, 'device_id_hash'], 0.05)"
   ]
  },
  {
   "cell_type": "markdown",
   "metadata": {},
   "source": [
    "Объединенная группа из 246 и 247 отличаются по поведению от 248 в первом действии -- Появлении главного экрана"
   ]
  },
  {
   "cell_type": "markdown",
   "metadata": {},
   "source": [
    "Были проведены сравнения групп 246 и 248, 247 и 248, а также объединенная группа 246+247 и 248. После чего был сделан вывод о разнице в доле появления главного экрана, что может быть связано с тем, что некоторые пользователи сразу переходили на следующую страницу и не учитывались их переходы на главный экран трекером. В остальном, все остальные этапы похожи. Можно сделать вывод, что изменение шрифтов не ухудшает взаимодействие клиентов с ресурсом и их можно использовать."
   ]
  },
  {
   "cell_type": "markdown",
   "metadata": {},
   "source": [
    "### Итоги"
   ]
  },
  {
   "cell_type": "markdown",
   "metadata": {},
   "source": [
    "В первой части исследования был проведен анализ поведения пользователей и их путь до покупки. По его результатам было выявлено, что т общего числа пользователей, до оплаты доходит 50% (Это очень хороший показатель). Пользователи также очень лояльны к окну предложений: 80% увидевших, доходят до окна с оплатой. <br>\n",
    "Во второй половине был произведен A/A/B тест для решения об изменении шрифтов в приложении. Результат теста был положительный. Шрифты менять можно"
   ]
  }
 ],
 "metadata": {
  "ExecuteTimeLog": [
   {
    "duration": 1344,
    "start_time": "2023-03-13T05:35:28.536Z"
   },
   {
    "duration": 4,
    "start_time": "2023-03-13T05:35:29.883Z"
   },
   {
    "duration": 611,
    "start_time": "2023-03-13T05:35:29.888Z"
   },
   {
    "duration": 3,
    "start_time": "2023-03-13T05:35:30.502Z"
   },
   {
    "duration": 198,
    "start_time": "2023-03-13T05:35:30.507Z"
   },
   {
    "duration": 112,
    "start_time": "2023-03-13T05:35:30.707Z"
   },
   {
    "duration": 116,
    "start_time": "2023-03-13T05:35:30.821Z"
   },
   {
    "duration": 2005,
    "start_time": "2023-03-13T05:35:30.939Z"
   },
   {
    "duration": 30,
    "start_time": "2023-03-13T05:35:32.946Z"
   },
   {
    "duration": 47,
    "start_time": "2023-03-13T05:35:32.979Z"
   },
   {
    "duration": 42,
    "start_time": "2023-03-13T05:35:33.028Z"
   },
   {
    "duration": 22,
    "start_time": "2023-03-13T05:35:33.072Z"
   },
   {
    "duration": 31,
    "start_time": "2023-03-13T05:35:33.096Z"
   },
   {
    "duration": 368,
    "start_time": "2023-03-13T05:35:33.130Z"
   },
   {
    "duration": 447,
    "start_time": "2023-03-13T05:35:33.500Z"
   },
   {
    "duration": 886,
    "start_time": "2023-03-13T05:35:33.949Z"
   },
   {
    "duration": 1364,
    "start_time": "2023-03-13T05:35:34.838Z"
   },
   {
    "duration": 600,
    "start_time": "2023-03-13T05:35:36.203Z"
   },
   {
    "duration": 1219,
    "start_time": "2023-03-13T05:35:36.805Z"
   },
   {
    "duration": 26,
    "start_time": "2023-03-13T05:35:38.027Z"
   },
   {
    "duration": 12,
    "start_time": "2023-03-13T05:35:38.055Z"
   },
   {
    "duration": 5,
    "start_time": "2023-03-13T05:35:38.069Z"
   },
   {
    "duration": 7,
    "start_time": "2023-03-13T05:35:38.076Z"
   },
   {
    "duration": 27,
    "start_time": "2023-03-13T05:35:38.084Z"
   },
   {
    "duration": 100,
    "start_time": "2023-03-13T05:35:38.113Z"
   },
   {
    "duration": 13,
    "start_time": "2023-03-13T05:35:38.215Z"
   },
   {
    "duration": 293,
    "start_time": "2023-03-13T05:35:38.230Z"
   },
   {
    "duration": 28,
    "start_time": "2023-03-13T05:35:38.525Z"
   },
   {
    "duration": 19,
    "start_time": "2023-03-13T05:35:38.556Z"
   },
   {
    "duration": 96,
    "start_time": "2023-03-13T05:35:38.576Z"
   },
   {
    "duration": 6,
    "start_time": "2023-03-13T05:35:38.674Z"
   },
   {
    "duration": 19,
    "start_time": "2023-03-13T05:35:38.682Z"
   },
   {
    "duration": 98,
    "start_time": "2023-03-13T05:35:38.703Z"
   },
   {
    "duration": 36,
    "start_time": "2023-03-13T05:35:38.802Z"
   },
   {
    "duration": 4,
    "start_time": "2023-03-13T05:35:38.840Z"
   },
   {
    "duration": 16,
    "start_time": "2023-03-13T05:35:38.846Z"
   },
   {
    "duration": 28,
    "start_time": "2023-03-13T05:35:38.865Z"
   },
   {
    "duration": 5,
    "start_time": "2023-03-13T05:35:38.895Z"
   },
   {
    "duration": 20,
    "start_time": "2023-03-13T05:35:38.902Z"
   },
   {
    "duration": 35,
    "start_time": "2023-03-13T05:35:38.924Z"
   },
   {
    "duration": 7,
    "start_time": "2023-03-13T05:35:38.968Z"
   },
   {
    "duration": 15,
    "start_time": "2023-03-13T05:35:38.978Z"
   },
   {
    "duration": 10,
    "start_time": "2023-03-13T05:35:38.995Z"
   },
   {
    "duration": 88,
    "start_time": "2023-03-13T05:35:39.007Z"
   },
   {
    "duration": 19,
    "start_time": "2023-03-13T05:35:39.097Z"
   },
   {
    "duration": 5,
    "start_time": "2023-03-13T05:35:39.118Z"
   },
   {
    "duration": 8,
    "start_time": "2023-03-13T05:35:39.126Z"
   },
   {
    "duration": 7,
    "start_time": "2023-03-13T05:35:39.161Z"
   },
   {
    "duration": 8,
    "start_time": "2023-03-13T05:35:39.170Z"
   },
   {
    "duration": 14,
    "start_time": "2023-03-13T05:35:39.180Z"
   },
   {
    "duration": 8,
    "start_time": "2023-03-13T05:35:39.196Z"
   },
   {
    "duration": 11,
    "start_time": "2023-03-13T05:35:39.205Z"
   },
   {
    "duration": 7,
    "start_time": "2023-03-13T05:35:39.217Z"
   },
   {
    "duration": 39,
    "start_time": "2023-03-13T05:35:39.225Z"
   },
   {
    "duration": 7,
    "start_time": "2023-03-13T05:35:39.266Z"
   },
   {
    "duration": 80,
    "start_time": "2023-03-13T05:35:39.275Z"
   },
   {
    "duration": 34,
    "start_time": "2023-03-13T05:35:39.357Z"
   },
   {
    "duration": 20,
    "start_time": "2023-03-13T05:35:39.393Z"
   },
   {
    "duration": 7,
    "start_time": "2023-03-13T05:35:39.416Z"
   },
   {
    "duration": 31,
    "start_time": "2023-03-13T05:35:39.425Z"
   },
   {
    "duration": 15,
    "start_time": "2023-03-13T05:35:39.464Z"
   },
   {
    "duration": 19,
    "start_time": "2023-03-13T05:35:39.482Z"
   },
   {
    "duration": 13,
    "start_time": "2023-03-13T05:35:39.504Z"
   },
   {
    "duration": 7,
    "start_time": "2023-03-13T05:44:53.962Z"
   },
   {
    "duration": 1225,
    "start_time": "2023-03-13T05:48:22.529Z"
   },
   {
    "duration": 4,
    "start_time": "2023-03-13T05:48:23.756Z"
   },
   {
    "duration": 657,
    "start_time": "2023-03-13T05:48:23.762Z"
   },
   {
    "duration": 3,
    "start_time": "2023-03-13T05:48:24.421Z"
   },
   {
    "duration": 134,
    "start_time": "2023-03-13T05:48:24.426Z"
   },
   {
    "duration": 68,
    "start_time": "2023-03-13T05:48:24.562Z"
   },
   {
    "duration": 136,
    "start_time": "2023-03-13T05:48:24.632Z"
   },
   {
    "duration": 1832,
    "start_time": "2023-03-13T05:48:24.770Z"
   },
   {
    "duration": 19,
    "start_time": "2023-03-13T05:48:26.604Z"
   },
   {
    "duration": 62,
    "start_time": "2023-03-13T05:48:26.626Z"
   },
   {
    "duration": 13,
    "start_time": "2023-03-13T05:48:26.689Z"
   },
   {
    "duration": 10,
    "start_time": "2023-03-13T05:48:26.704Z"
   },
   {
    "duration": 58,
    "start_time": "2023-03-13T05:48:26.716Z"
   },
   {
    "duration": 327,
    "start_time": "2023-03-13T05:48:26.775Z"
   },
   {
    "duration": 389,
    "start_time": "2023-03-13T05:48:27.104Z"
   },
   {
    "duration": 621,
    "start_time": "2023-03-13T05:48:27.495Z"
   },
   {
    "duration": 1076,
    "start_time": "2023-03-13T05:48:28.119Z"
   },
   {
    "duration": 480,
    "start_time": "2023-03-13T05:48:29.196Z"
   },
   {
    "duration": 1056,
    "start_time": "2023-03-13T05:48:29.678Z"
   },
   {
    "duration": 12,
    "start_time": "2023-03-13T05:48:30.735Z"
   },
   {
    "duration": 33,
    "start_time": "2023-03-13T05:48:30.754Z"
   },
   {
    "duration": 34,
    "start_time": "2023-03-13T05:48:30.789Z"
   },
   {
    "duration": 31,
    "start_time": "2023-03-13T05:48:30.825Z"
   },
   {
    "duration": 53,
    "start_time": "2023-03-13T05:48:30.858Z"
   },
   {
    "duration": 80,
    "start_time": "2023-03-13T05:48:30.913Z"
   },
   {
    "duration": 19,
    "start_time": "2023-03-13T05:48:30.995Z"
   },
   {
    "duration": 323,
    "start_time": "2023-03-13T05:48:31.016Z"
   },
   {
    "duration": 13,
    "start_time": "2023-03-13T05:48:31.343Z"
   },
   {
    "duration": 57,
    "start_time": "2023-03-13T05:48:31.358Z"
   },
   {
    "duration": 91,
    "start_time": "2023-03-13T05:48:31.416Z"
   },
   {
    "duration": 16,
    "start_time": "2023-03-13T05:48:31.508Z"
   },
   {
    "duration": 26,
    "start_time": "2023-03-13T05:48:31.526Z"
   },
   {
    "duration": 44,
    "start_time": "2023-03-13T05:48:31.553Z"
   },
   {
    "duration": 33,
    "start_time": "2023-03-13T05:48:31.599Z"
   },
   {
    "duration": 24,
    "start_time": "2023-03-13T05:48:31.634Z"
   },
   {
    "duration": 35,
    "start_time": "2023-03-13T05:48:31.660Z"
   },
   {
    "duration": 26,
    "start_time": "2023-03-13T05:48:31.697Z"
   },
   {
    "duration": 10,
    "start_time": "2023-03-13T05:48:31.725Z"
   },
   {
    "duration": 26,
    "start_time": "2023-03-13T05:48:31.737Z"
   },
   {
    "duration": 13,
    "start_time": "2023-03-13T05:48:31.765Z"
   },
   {
    "duration": 28,
    "start_time": "2023-03-13T05:48:31.779Z"
   },
   {
    "duration": 10,
    "start_time": "2023-03-13T05:48:31.809Z"
   },
   {
    "duration": 15,
    "start_time": "2023-03-13T05:48:31.821Z"
   },
   {
    "duration": 52,
    "start_time": "2023-03-13T05:48:31.838Z"
   },
   {
    "duration": 16,
    "start_time": "2023-03-13T05:48:31.892Z"
   },
   {
    "duration": 11,
    "start_time": "2023-03-13T05:48:31.910Z"
   },
   {
    "duration": 29,
    "start_time": "2023-03-13T05:48:31.923Z"
   },
   {
    "duration": 33,
    "start_time": "2023-03-13T05:48:31.954Z"
   },
   {
    "duration": 32,
    "start_time": "2023-03-13T05:48:31.989Z"
   },
   {
    "duration": 46,
    "start_time": "2023-03-13T05:48:32.023Z"
   },
   {
    "duration": 9,
    "start_time": "2023-03-13T05:48:32.071Z"
   },
   {
    "duration": 16,
    "start_time": "2023-03-13T05:48:32.082Z"
   },
   {
    "duration": 18,
    "start_time": "2023-03-13T05:48:32.101Z"
   },
   {
    "duration": 18,
    "start_time": "2023-03-13T05:48:32.121Z"
   },
   {
    "duration": 40,
    "start_time": "2023-03-13T05:48:32.141Z"
   },
   {
    "duration": 64,
    "start_time": "2023-03-13T05:48:32.183Z"
   },
   {
    "duration": 21,
    "start_time": "2023-03-13T05:48:32.248Z"
   },
   {
    "duration": 16,
    "start_time": "2023-03-13T05:48:32.271Z"
   },
   {
    "duration": 5,
    "start_time": "2023-03-13T05:48:32.289Z"
   },
   {
    "duration": 6,
    "start_time": "2023-03-13T05:48:32.296Z"
   },
   {
    "duration": 6,
    "start_time": "2023-03-13T05:48:32.303Z"
   },
   {
    "duration": 43,
    "start_time": "2023-03-13T05:48:32.312Z"
   },
   {
    "duration": 10,
    "start_time": "2023-03-13T05:48:32.357Z"
   },
   {
    "duration": 1184,
    "start_time": "2023-03-13T05:49:40.884Z"
   },
   {
    "duration": 3,
    "start_time": "2023-03-13T05:49:42.070Z"
   },
   {
    "duration": 370,
    "start_time": "2023-03-13T05:49:42.074Z"
   },
   {
    "duration": 3,
    "start_time": "2023-03-13T05:49:42.446Z"
   },
   {
    "duration": 108,
    "start_time": "2023-03-13T05:49:42.453Z"
   },
   {
    "duration": 69,
    "start_time": "2023-03-13T05:49:42.563Z"
   },
   {
    "duration": 90,
    "start_time": "2023-03-13T05:49:42.634Z"
   },
   {
    "duration": 1650,
    "start_time": "2023-03-13T05:49:42.726Z"
   },
   {
    "duration": 21,
    "start_time": "2023-03-13T05:49:44.378Z"
   },
   {
    "duration": 56,
    "start_time": "2023-03-13T05:49:44.400Z"
   },
   {
    "duration": 12,
    "start_time": "2023-03-13T05:49:44.458Z"
   },
   {
    "duration": 18,
    "start_time": "2023-03-13T05:49:44.472Z"
   },
   {
    "duration": 29,
    "start_time": "2023-03-13T05:49:44.492Z"
   },
   {
    "duration": 319,
    "start_time": "2023-03-13T05:49:44.523Z"
   },
   {
    "duration": 376,
    "start_time": "2023-03-13T05:49:44.844Z"
   },
   {
    "duration": 575,
    "start_time": "2023-03-13T05:49:45.222Z"
   },
   {
    "duration": 1052,
    "start_time": "2023-03-13T05:49:45.799Z"
   },
   {
    "duration": 449,
    "start_time": "2023-03-13T05:49:46.853Z"
   },
   {
    "duration": 1005,
    "start_time": "2023-03-13T05:49:47.304Z"
   },
   {
    "duration": 11,
    "start_time": "2023-03-13T05:49:48.311Z"
   },
   {
    "duration": 8,
    "start_time": "2023-03-13T05:49:48.324Z"
   },
   {
    "duration": 4,
    "start_time": "2023-03-13T05:49:48.353Z"
   },
   {
    "duration": 7,
    "start_time": "2023-03-13T05:49:48.359Z"
   },
   {
    "duration": 24,
    "start_time": "2023-03-13T05:49:48.368Z"
   },
   {
    "duration": 86,
    "start_time": "2023-03-13T05:49:48.393Z"
   },
   {
    "duration": 12,
    "start_time": "2023-03-13T05:49:48.480Z"
   },
   {
    "duration": 1290,
    "start_time": "2023-03-13T05:49:48.494Z"
   },
   {
    "duration": 12,
    "start_time": "2023-03-13T05:49:49.786Z"
   },
   {
    "duration": 12,
    "start_time": "2023-03-13T05:49:49.799Z"
   },
   {
    "duration": 74,
    "start_time": "2023-03-13T05:49:49.812Z"
   },
   {
    "duration": 4,
    "start_time": "2023-03-13T05:49:49.887Z"
   },
   {
    "duration": 21,
    "start_time": "2023-03-13T05:49:49.893Z"
   },
   {
    "duration": 72,
    "start_time": "2023-03-13T05:49:49.916Z"
   },
   {
    "duration": 32,
    "start_time": "2023-03-13T05:49:49.990Z"
   },
   {
    "duration": 5,
    "start_time": "2023-03-13T05:49:50.024Z"
   },
   {
    "duration": 6,
    "start_time": "2023-03-13T05:49:50.054Z"
   },
   {
    "duration": 25,
    "start_time": "2023-03-13T05:49:50.062Z"
   },
   {
    "duration": 4,
    "start_time": "2023-03-13T05:49:50.089Z"
   },
   {
    "duration": 23,
    "start_time": "2023-03-13T05:49:50.094Z"
   },
   {
    "duration": 5,
    "start_time": "2023-03-13T05:49:50.119Z"
   },
   {
    "duration": 27,
    "start_time": "2023-03-13T05:49:50.128Z"
   },
   {
    "duration": 7,
    "start_time": "2023-03-13T05:49:50.157Z"
   },
   {
    "duration": 15,
    "start_time": "2023-03-13T05:49:50.165Z"
   },
   {
    "duration": 53,
    "start_time": "2023-03-13T05:49:50.182Z"
   },
   {
    "duration": 19,
    "start_time": "2023-03-13T05:49:50.254Z"
   },
   {
    "duration": 4,
    "start_time": "2023-03-13T05:49:50.275Z"
   },
   {
    "duration": 36,
    "start_time": "2023-03-13T05:49:50.281Z"
   },
   {
    "duration": 15,
    "start_time": "2023-03-13T05:49:50.319Z"
   },
   {
    "duration": 6,
    "start_time": "2023-03-13T05:49:50.336Z"
   },
   {
    "duration": 19,
    "start_time": "2023-03-13T05:49:50.343Z"
   },
   {
    "duration": 31,
    "start_time": "2023-03-13T05:49:50.363Z"
   },
   {
    "duration": 9,
    "start_time": "2023-03-13T05:49:50.397Z"
   },
   {
    "duration": 17,
    "start_time": "2023-03-13T05:49:50.408Z"
   },
   {
    "duration": 24,
    "start_time": "2023-03-13T05:49:50.426Z"
   },
   {
    "duration": 7,
    "start_time": "2023-03-13T05:49:50.452Z"
   },
   {
    "duration": 85,
    "start_time": "2023-03-13T05:49:50.462Z"
   },
   {
    "duration": 21,
    "start_time": "2023-03-13T05:49:50.549Z"
   },
   {
    "duration": 16,
    "start_time": "2023-03-13T05:49:50.571Z"
   },
   {
    "duration": 6,
    "start_time": "2023-03-13T05:49:50.589Z"
   },
   {
    "duration": 9,
    "start_time": "2023-03-13T05:49:50.597Z"
   },
   {
    "duration": 20,
    "start_time": "2023-03-13T05:49:50.607Z"
   },
   {
    "duration": 26,
    "start_time": "2023-03-13T05:49:50.629Z"
   },
   {
    "duration": 20,
    "start_time": "2023-03-13T05:49:50.657Z"
   }
  ],
  "kernelspec": {
   "display_name": "Python 3 (ipykernel)",
   "language": "python",
   "name": "python3"
  },
  "language_info": {
   "codemirror_mode": {
    "name": "ipython",
    "version": 3
   },
   "file_extension": ".py",
   "mimetype": "text/x-python",
   "name": "python",
   "nbconvert_exporter": "python",
   "pygments_lexer": "ipython3",
   "version": "3.9.16"
  },
  "toc": {
   "base_numbering": 1,
   "nav_menu": {},
   "number_sections": true,
   "sideBar": true,
   "skip_h1_title": true,
   "title_cell": "Table of Contents",
   "title_sidebar": "Contents",
   "toc_cell": false,
   "toc_position": {},
   "toc_section_display": true,
   "toc_window_display": false
  }
 },
 "nbformat": 4,
 "nbformat_minor": 2
}
