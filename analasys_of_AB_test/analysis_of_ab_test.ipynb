{
 "cells": [
  {
   "cell_type": "markdown",
   "metadata": {},
   "source": [
    "## Описание работы: \n",
    "Ваша задача — провести оценку результатов A/B-теста. В вашем распоряжении есть датасет с действиями пользователей, техническое задание и несколько вспомогательных датасетов.\n",
    "\n",
    "Оцените корректность проведения теста и проанализируйте его результаты.\n",
    "\n",
    "Чтобы оценить корректность проведения теста:\n",
    "\n",
    "- удостоверьтесь, что нет пересечений с конкурирующим тестом и нет пользователей, участвующих в двух группах теста одновременно;\n",
    "- проверьте равномерность распределения пользователей по тестовым группам и правильность их формирования."
   ]
  },
  {
   "cell_type": "markdown",
   "metadata": {},
   "source": [
    "## Техническое задание:\n",
    "- Название теста: `recommender_system_test`;\n",
    "- группы: А — контрольная, B — новая платёжная воронка;\n",
    "- дата запуска: 2020-12-07;\n",
    "- дата остановки набора новых пользователей: 2020-12-21;\n",
    "- дата остановки: 2021-01-04;\n",
    "- аудитория: в тест должно быть отобрано 15% новых пользователей из региона EU;\n",
    "- назначение теста: тестирование изменений, связанных с внедрением улучшенной рекомендательной системы;\n",
    "- ожидаемое количество участников теста: 6000.\n",
    "- ожидаемый эффект: за 14 дней с момента регистрации пользователи покажут улучшение каждой метрики не менее, чем на 10%:\n",
    "    - конверсии в просмотр карточек товаров — событие `product_page`,\n",
    "    - просмотры корзины — `product_cart`,\n",
    "    - покупки — `purchase`."
   ]
  },
  {
   "cell_type": "markdown",
   "metadata": {},
   "source": [
    "## Описание данных:\n",
    "`ab_project_marketing_events.csv` — календарь маркетинговых событий на 2020 год.\n",
    "\n",
    "Структура файла:\n",
    "\n",
    "- `name` — название маркетингового события;\n",
    "- `regions` — регионы, в которых будет проводиться рекламная кампания;\n",
    "- `start_dt` — дата начала кампании;\n",
    "- `finish_dt` — дата завершения кампании.\n",
    "\n",
    "`final_ab_new_users.csv` — пользователи, зарегистрировавшиеся с 7 до 21 декабря 2020 года.\n",
    "\n",
    "Структура файла:\n",
    "\n",
    "- `user_id` — идентификатор пользователя;\n",
    "- `first_date` — дата регистрации;\n",
    "- `region` — регион пользователя;\n",
    "- `device` — устройство, с которого происходила регистрация.\n",
    "\n",
    "`final_ab_events.csv` — действия новых пользователей в период с 7 декабря 2020 по 4 января 2021 года.\n",
    "\n",
    "Структура файла:\n",
    "\n",
    "- `user_id` — идентификатор пользователя;\n",
    "- `event_dt` — дата и время события;\n",
    "- `event_name` — тип события;\n",
    "- `details` — дополнительные данные о событии. Например, для покупок, `purchase,` в этом поле хранится стоимость покупки в долларах.\n",
    "\n",
    "`final_ab_participants.csv` — таблица участников тестов.\n",
    "\n",
    "Структура файла:\n",
    "\n",
    "- `user_id` — идентификатор пользователя;\n",
    "- `ab_test` — название теста;\n",
    "- `group` — группа пользователя."
   ]
  },
  {
   "cell_type": "code",
   "execution_count": 1,
   "metadata": {},
   "outputs": [],
   "source": [
    "import pandas as pd\n",
    "import seaborn as sns\n",
    "import numpy as np\n",
    "from matplotlib import pyplot as plt\n",
    "from plotly import graph_objects as go\n",
    "from statsmodels. stats.weightstats import ztest as ztest\n",
    "import math as mth\n",
    "from scipy import stats as st"
   ]
  },
  {
   "cell_type": "code",
   "execution_count": 2,
   "metadata": {},
   "outputs": [],
   "source": [
    "pd.set_option('display.max_columns', 50) \n",
    "pd.set_option('display.max_rows', 500)\n",
    "pd.set_option('display.float_format', lambda x: '%.5f' % x)\n",
    "pd.set_option('display.max_colwidth', False)\n",
    "# параметры для корректного отображения таблиц и более удобного их анализа"
   ]
  },
  {
   "cell_type": "code",
   "execution_count": 3,
   "metadata": {},
   "outputs": [],
   "source": [
    "marketing = pd.read_csv(sep=\",\")\n",
    "new_users = pd.read_csv(sep=\",\")\n",
    "events = pd.read_csv(sep=\",\")\n",
    "participants = pd.read_csv(sep=\",\")"
   ]
  },
  {
   "cell_type": "code",
   "execution_count": 4,
   "metadata": {},
   "outputs": [],
   "source": [
    "# функция для отображения часто используемых запросов\n",
    "def info(df):\n",
    "    display(df.head())\n",
    "    display(df.info())\n",
    "    display(df.isna().sum())\n",
    "    display(df.duplicated().sum())"
   ]
  },
  {
   "cell_type": "code",
   "execution_count": 5,
   "metadata": {},
   "outputs": [
    {
     "data": {
      "text/html": [
       "<div>\n",
       "<style scoped>\n",
       "    .dataframe tbody tr th:only-of-type {\n",
       "        vertical-align: middle;\n",
       "    }\n",
       "\n",
       "    .dataframe tbody tr th {\n",
       "        vertical-align: top;\n",
       "    }\n",
       "\n",
       "    .dataframe thead th {\n",
       "        text-align: right;\n",
       "    }\n",
       "</style>\n",
       "<table border=\"1\" class=\"dataframe\">\n",
       "  <thead>\n",
       "    <tr style=\"text-align: right;\">\n",
       "      <th></th>\n",
       "      <th>name</th>\n",
       "      <th>regions</th>\n",
       "      <th>start_dt</th>\n",
       "      <th>finish_dt</th>\n",
       "    </tr>\n",
       "  </thead>\n",
       "  <tbody>\n",
       "    <tr>\n",
       "      <th>0</th>\n",
       "      <td>Christmas&amp;New Year Promo</td>\n",
       "      <td>EU, N.America</td>\n",
       "      <td>2020-12-25</td>\n",
       "      <td>2021-01-03</td>\n",
       "    </tr>\n",
       "    <tr>\n",
       "      <th>1</th>\n",
       "      <td>St. Valentine's Day Giveaway</td>\n",
       "      <td>EU, CIS, APAC, N.America</td>\n",
       "      <td>2020-02-14</td>\n",
       "      <td>2020-02-16</td>\n",
       "    </tr>\n",
       "    <tr>\n",
       "      <th>2</th>\n",
       "      <td>St. Patric's Day Promo</td>\n",
       "      <td>EU, N.America</td>\n",
       "      <td>2020-03-17</td>\n",
       "      <td>2020-03-19</td>\n",
       "    </tr>\n",
       "    <tr>\n",
       "      <th>3</th>\n",
       "      <td>Easter Promo</td>\n",
       "      <td>EU, CIS, APAC, N.America</td>\n",
       "      <td>2020-04-12</td>\n",
       "      <td>2020-04-19</td>\n",
       "    </tr>\n",
       "    <tr>\n",
       "      <th>4</th>\n",
       "      <td>4th of July Promo</td>\n",
       "      <td>N.America</td>\n",
       "      <td>2020-07-04</td>\n",
       "      <td>2020-07-11</td>\n",
       "    </tr>\n",
       "  </tbody>\n",
       "</table>\n",
       "</div>"
      ],
      "text/plain": [
       "                           name                   regions    start_dt  \\\n",
       "0  Christmas&New Year Promo      EU, N.America             2020-12-25   \n",
       "1  St. Valentine's Day Giveaway  EU, CIS, APAC, N.America  2020-02-14   \n",
       "2  St. Patric's Day Promo        EU, N.America             2020-03-17   \n",
       "3  Easter Promo                  EU, CIS, APAC, N.America  2020-04-12   \n",
       "4  4th of July Promo             N.America                 2020-07-04   \n",
       "\n",
       "    finish_dt  \n",
       "0  2021-01-03  \n",
       "1  2020-02-16  \n",
       "2  2020-03-19  \n",
       "3  2020-04-19  \n",
       "4  2020-07-11  "
      ]
     },
     "metadata": {},
     "output_type": "display_data"
    },
    {
     "name": "stdout",
     "output_type": "stream",
     "text": [
      "<class 'pandas.core.frame.DataFrame'>\n",
      "RangeIndex: 14 entries, 0 to 13\n",
      "Data columns (total 4 columns):\n",
      " #   Column     Non-Null Count  Dtype \n",
      "---  ------     --------------  ----- \n",
      " 0   name       14 non-null     object\n",
      " 1   regions    14 non-null     object\n",
      " 2   start_dt   14 non-null     object\n",
      " 3   finish_dt  14 non-null     object\n",
      "dtypes: object(4)\n",
      "memory usage: 580.0+ bytes\n"
     ]
    },
    {
     "data": {
      "text/plain": [
       "None"
      ]
     },
     "metadata": {},
     "output_type": "display_data"
    },
    {
     "data": {
      "text/plain": [
       "name         0\n",
       "regions      0\n",
       "start_dt     0\n",
       "finish_dt    0\n",
       "dtype: int64"
      ]
     },
     "metadata": {},
     "output_type": "display_data"
    },
    {
     "data": {
      "text/plain": [
       "0"
      ]
     },
     "metadata": {},
     "output_type": "display_data"
    }
   ],
   "source": [
    "info(marketing)"
   ]
  },
  {
   "cell_type": "code",
   "execution_count": 6,
   "metadata": {},
   "outputs": [
    {
     "data": {
      "text/html": [
       "<div>\n",
       "<style scoped>\n",
       "    .dataframe tbody tr th:only-of-type {\n",
       "        vertical-align: middle;\n",
       "    }\n",
       "\n",
       "    .dataframe tbody tr th {\n",
       "        vertical-align: top;\n",
       "    }\n",
       "\n",
       "    .dataframe thead th {\n",
       "        text-align: right;\n",
       "    }\n",
       "</style>\n",
       "<table border=\"1\" class=\"dataframe\">\n",
       "  <thead>\n",
       "    <tr style=\"text-align: right;\">\n",
       "      <th></th>\n",
       "      <th>user_id</th>\n",
       "      <th>first_date</th>\n",
       "      <th>region</th>\n",
       "      <th>device</th>\n",
       "    </tr>\n",
       "  </thead>\n",
       "  <tbody>\n",
       "    <tr>\n",
       "      <th>0</th>\n",
       "      <td>D72A72121175D8BE</td>\n",
       "      <td>2020-12-07</td>\n",
       "      <td>EU</td>\n",
       "      <td>PC</td>\n",
       "    </tr>\n",
       "    <tr>\n",
       "      <th>1</th>\n",
       "      <td>F1C668619DFE6E65</td>\n",
       "      <td>2020-12-07</td>\n",
       "      <td>N.America</td>\n",
       "      <td>Android</td>\n",
       "    </tr>\n",
       "    <tr>\n",
       "      <th>2</th>\n",
       "      <td>2E1BF1D4C37EA01F</td>\n",
       "      <td>2020-12-07</td>\n",
       "      <td>EU</td>\n",
       "      <td>PC</td>\n",
       "    </tr>\n",
       "    <tr>\n",
       "      <th>3</th>\n",
       "      <td>50734A22C0C63768</td>\n",
       "      <td>2020-12-07</td>\n",
       "      <td>EU</td>\n",
       "      <td>iPhone</td>\n",
       "    </tr>\n",
       "    <tr>\n",
       "      <th>4</th>\n",
       "      <td>E1BDDCE0DAFA2679</td>\n",
       "      <td>2020-12-07</td>\n",
       "      <td>N.America</td>\n",
       "      <td>iPhone</td>\n",
       "    </tr>\n",
       "  </tbody>\n",
       "</table>\n",
       "</div>"
      ],
      "text/plain": [
       "            user_id  first_date     region   device\n",
       "0  D72A72121175D8BE  2020-12-07  EU         PC     \n",
       "1  F1C668619DFE6E65  2020-12-07  N.America  Android\n",
       "2  2E1BF1D4C37EA01F  2020-12-07  EU         PC     \n",
       "3  50734A22C0C63768  2020-12-07  EU         iPhone \n",
       "4  E1BDDCE0DAFA2679  2020-12-07  N.America  iPhone "
      ]
     },
     "metadata": {},
     "output_type": "display_data"
    },
    {
     "name": "stdout",
     "output_type": "stream",
     "text": [
      "<class 'pandas.core.frame.DataFrame'>\n",
      "RangeIndex: 61733 entries, 0 to 61732\n",
      "Data columns (total 4 columns):\n",
      " #   Column      Non-Null Count  Dtype \n",
      "---  ------      --------------  ----- \n",
      " 0   user_id     61733 non-null  object\n",
      " 1   first_date  61733 non-null  object\n",
      " 2   region      61733 non-null  object\n",
      " 3   device      61733 non-null  object\n",
      "dtypes: object(4)\n",
      "memory usage: 1.9+ MB\n"
     ]
    },
    {
     "data": {
      "text/plain": [
       "None"
      ]
     },
     "metadata": {},
     "output_type": "display_data"
    },
    {
     "data": {
      "text/plain": [
       "user_id       0\n",
       "first_date    0\n",
       "region        0\n",
       "device        0\n",
       "dtype: int64"
      ]
     },
     "metadata": {},
     "output_type": "display_data"
    },
    {
     "data": {
      "text/plain": [
       "0"
      ]
     },
     "metadata": {},
     "output_type": "display_data"
    }
   ],
   "source": [
    "info(new_users)"
   ]
  },
  {
   "cell_type": "code",
   "execution_count": 7,
   "metadata": {},
   "outputs": [
    {
     "data": {
      "text/plain": [
       "EU           46270\n",
       "N.America    9155 \n",
       "CIS          3155 \n",
       "APAC         3153 \n",
       "Name: region, dtype: int64"
      ]
     },
     "execution_count": 7,
     "metadata": {},
     "output_type": "execute_result"
    }
   ],
   "source": [
    "new_users['region'].value_counts()"
   ]
  },
  {
   "cell_type": "code",
   "execution_count": 8,
   "metadata": {},
   "outputs": [
    {
     "data": {
      "text/html": [
       "<div>\n",
       "<style scoped>\n",
       "    .dataframe tbody tr th:only-of-type {\n",
       "        vertical-align: middle;\n",
       "    }\n",
       "\n",
       "    .dataframe tbody tr th {\n",
       "        vertical-align: top;\n",
       "    }\n",
       "\n",
       "    .dataframe thead th {\n",
       "        text-align: right;\n",
       "    }\n",
       "</style>\n",
       "<table border=\"1\" class=\"dataframe\">\n",
       "  <thead>\n",
       "    <tr style=\"text-align: right;\">\n",
       "      <th></th>\n",
       "      <th>user_id</th>\n",
       "      <th>event_dt</th>\n",
       "      <th>event_name</th>\n",
       "      <th>details</th>\n",
       "    </tr>\n",
       "  </thead>\n",
       "  <tbody>\n",
       "    <tr>\n",
       "      <th>0</th>\n",
       "      <td>E1BDDCE0DAFA2679</td>\n",
       "      <td>2020-12-07 20:22:03</td>\n",
       "      <td>purchase</td>\n",
       "      <td>99.99000</td>\n",
       "    </tr>\n",
       "    <tr>\n",
       "      <th>1</th>\n",
       "      <td>7B6452F081F49504</td>\n",
       "      <td>2020-12-07 09:22:53</td>\n",
       "      <td>purchase</td>\n",
       "      <td>9.99000</td>\n",
       "    </tr>\n",
       "    <tr>\n",
       "      <th>2</th>\n",
       "      <td>9CD9F34546DF254C</td>\n",
       "      <td>2020-12-07 12:59:29</td>\n",
       "      <td>purchase</td>\n",
       "      <td>4.99000</td>\n",
       "    </tr>\n",
       "    <tr>\n",
       "      <th>3</th>\n",
       "      <td>96F27A054B191457</td>\n",
       "      <td>2020-12-07 04:02:40</td>\n",
       "      <td>purchase</td>\n",
       "      <td>4.99000</td>\n",
       "    </tr>\n",
       "    <tr>\n",
       "      <th>4</th>\n",
       "      <td>1FD7660FDF94CA1F</td>\n",
       "      <td>2020-12-07 10:15:09</td>\n",
       "      <td>purchase</td>\n",
       "      <td>4.99000</td>\n",
       "    </tr>\n",
       "  </tbody>\n",
       "</table>\n",
       "</div>"
      ],
      "text/plain": [
       "            user_id             event_dt event_name  details\n",
       "0  E1BDDCE0DAFA2679  2020-12-07 20:22:03  purchase  99.99000\n",
       "1  7B6452F081F49504  2020-12-07 09:22:53  purchase  9.99000 \n",
       "2  9CD9F34546DF254C  2020-12-07 12:59:29  purchase  4.99000 \n",
       "3  96F27A054B191457  2020-12-07 04:02:40  purchase  4.99000 \n",
       "4  1FD7660FDF94CA1F  2020-12-07 10:15:09  purchase  4.99000 "
      ]
     },
     "metadata": {},
     "output_type": "display_data"
    },
    {
     "name": "stdout",
     "output_type": "stream",
     "text": [
      "<class 'pandas.core.frame.DataFrame'>\n",
      "RangeIndex: 440317 entries, 0 to 440316\n",
      "Data columns (total 4 columns):\n",
      " #   Column      Non-Null Count   Dtype  \n",
      "---  ------      --------------   -----  \n",
      " 0   user_id     440317 non-null  object \n",
      " 1   event_dt    440317 non-null  object \n",
      " 2   event_name  440317 non-null  object \n",
      " 3   details     62740 non-null   float64\n",
      "dtypes: float64(1), object(3)\n",
      "memory usage: 13.4+ MB\n"
     ]
    },
    {
     "data": {
      "text/plain": [
       "None"
      ]
     },
     "metadata": {},
     "output_type": "display_data"
    },
    {
     "data": {
      "text/plain": [
       "user_id       0     \n",
       "event_dt      0     \n",
       "event_name    0     \n",
       "details       377577\n",
       "dtype: int64"
      ]
     },
     "metadata": {},
     "output_type": "display_data"
    },
    {
     "data": {
      "text/plain": [
       "0"
      ]
     },
     "metadata": {},
     "output_type": "display_data"
    }
   ],
   "source": [
    "info(events)"
   ]
  },
  {
   "cell_type": "code",
   "execution_count": 9,
   "metadata": {},
   "outputs": [
    {
     "data": {
      "text/plain": [
       "array([ 99.99,   9.99,   4.99, 499.99,    nan])"
      ]
     },
     "execution_count": 9,
     "metadata": {},
     "output_type": "execute_result"
    }
   ],
   "source": [
    "events['details'].unique()"
   ]
  },
  {
   "cell_type": "markdown",
   "metadata": {},
   "source": [
    "В этом поле хранится стоимость покупки в долларах. Остальные события не имеют детализации"
   ]
  },
  {
   "cell_type": "code",
   "execution_count": 10,
   "metadata": {},
   "outputs": [
    {
     "data": {
      "text/plain": [
       "array(['purchase', 'product_cart', 'product_page', 'login'], dtype=object)"
      ]
     },
     "execution_count": 10,
     "metadata": {},
     "output_type": "execute_result"
    }
   ],
   "source": [
    "events['event_name'].unique()"
   ]
  },
  {
   "cell_type": "code",
   "execution_count": 11,
   "metadata": {
    "scrolled": false
   },
   "outputs": [
    {
     "data": {
      "text/html": [
       "<div>\n",
       "<style scoped>\n",
       "    .dataframe tbody tr th:only-of-type {\n",
       "        vertical-align: middle;\n",
       "    }\n",
       "\n",
       "    .dataframe tbody tr th {\n",
       "        vertical-align: top;\n",
       "    }\n",
       "\n",
       "    .dataframe thead th {\n",
       "        text-align: right;\n",
       "    }\n",
       "</style>\n",
       "<table border=\"1\" class=\"dataframe\">\n",
       "  <thead>\n",
       "    <tr style=\"text-align: right;\">\n",
       "      <th></th>\n",
       "      <th>user_id</th>\n",
       "      <th>group</th>\n",
       "      <th>ab_test</th>\n",
       "    </tr>\n",
       "  </thead>\n",
       "  <tbody>\n",
       "    <tr>\n",
       "      <th>0</th>\n",
       "      <td>D1ABA3E2887B6A73</td>\n",
       "      <td>A</td>\n",
       "      <td>recommender_system_test</td>\n",
       "    </tr>\n",
       "    <tr>\n",
       "      <th>1</th>\n",
       "      <td>A7A3664BD6242119</td>\n",
       "      <td>A</td>\n",
       "      <td>recommender_system_test</td>\n",
       "    </tr>\n",
       "    <tr>\n",
       "      <th>2</th>\n",
       "      <td>DABC14FDDFADD29E</td>\n",
       "      <td>A</td>\n",
       "      <td>recommender_system_test</td>\n",
       "    </tr>\n",
       "    <tr>\n",
       "      <th>3</th>\n",
       "      <td>04988C5DF189632E</td>\n",
       "      <td>A</td>\n",
       "      <td>recommender_system_test</td>\n",
       "    </tr>\n",
       "    <tr>\n",
       "      <th>4</th>\n",
       "      <td>482F14783456D21B</td>\n",
       "      <td>B</td>\n",
       "      <td>recommender_system_test</td>\n",
       "    </tr>\n",
       "  </tbody>\n",
       "</table>\n",
       "</div>"
      ],
      "text/plain": [
       "            user_id group                  ab_test\n",
       "0  D1ABA3E2887B6A73  A     recommender_system_test\n",
       "1  A7A3664BD6242119  A     recommender_system_test\n",
       "2  DABC14FDDFADD29E  A     recommender_system_test\n",
       "3  04988C5DF189632E  A     recommender_system_test\n",
       "4  482F14783456D21B  B     recommender_system_test"
      ]
     },
     "metadata": {},
     "output_type": "display_data"
    },
    {
     "name": "stdout",
     "output_type": "stream",
     "text": [
      "<class 'pandas.core.frame.DataFrame'>\n",
      "RangeIndex: 18268 entries, 0 to 18267\n",
      "Data columns (total 3 columns):\n",
      " #   Column   Non-Null Count  Dtype \n",
      "---  ------   --------------  ----- \n",
      " 0   user_id  18268 non-null  object\n",
      " 1   group    18268 non-null  object\n",
      " 2   ab_test  18268 non-null  object\n",
      "dtypes: object(3)\n",
      "memory usage: 428.3+ KB\n"
     ]
    },
    {
     "data": {
      "text/plain": [
       "None"
      ]
     },
     "metadata": {},
     "output_type": "display_data"
    },
    {
     "data": {
      "text/plain": [
       "user_id    0\n",
       "group      0\n",
       "ab_test    0\n",
       "dtype: int64"
      ]
     },
     "metadata": {},
     "output_type": "display_data"
    },
    {
     "data": {
      "text/plain": [
       "0"
      ]
     },
     "metadata": {},
     "output_type": "display_data"
    }
   ],
   "source": [
    "info(participants)"
   ]
  },
  {
   "cell_type": "markdown",
   "metadata": {},
   "source": []
  },
  {
   "cell_type": "code",
   "execution_count": 12,
   "metadata": {},
   "outputs": [
    {
     "data": {
      "text/plain": [
       "array(['recommender_system_test', 'interface_eu_test'], dtype=object)"
      ]
     },
     "execution_count": 12,
     "metadata": {},
     "output_type": "execute_result"
    }
   ],
   "source": [
    "participants['ab_test'].unique()"
   ]
  },
  {
   "cell_type": "markdown",
   "metadata": {},
   "source": [
    "## Предобработка данных"
   ]
  },
  {
   "cell_type": "code",
   "execution_count": 13,
   "metadata": {},
   "outputs": [],
   "source": [
    "marketing['start_dt'] = pd.to_datetime(marketing['start_dt'])\n",
    "marketing['finish_dt'] = pd.to_datetime(marketing['finish_dt'])\n",
    "new_users['first_date'] = pd.to_datetime(new_users['first_date'])\n",
    "events['event_dt'] = pd.to_datetime(events['event_dt'])"
   ]
  },
  {
   "cell_type": "markdown",
   "metadata": {},
   "source": [
    "## Оценка корректности теста"
   ]
  },
  {
   "cell_type": "markdown",
   "metadata": {},
   "source": [
    "### Проверка соответствия данных требованиям технического задания."
   ]
  },
  {
   "cell_type": "markdown",
   "metadata": {},
   "source": [
    "#### Название теста: recommender_system_test"
   ]
  },
  {
   "cell_type": "code",
   "execution_count": 14,
   "metadata": {},
   "outputs": [
    {
     "data": {
      "text/plain": [
       "array(['recommender_system_test', 'interface_eu_test'], dtype=object)"
      ]
     },
     "execution_count": 14,
     "metadata": {},
     "output_type": "execute_result"
    }
   ],
   "source": [
    "participants['ab_test'].unique()"
   ]
  },
  {
   "cell_type": "markdown",
   "metadata": {},
   "source": [
    "В датасете два разных теста. для анализа стоит оставить только нужный по ТЗ"
   ]
  },
  {
   "cell_type": "code",
   "execution_count": 15,
   "metadata": {},
   "outputs": [],
   "source": [
    "recommender_system_test = participants.query(\"ab_test == 'recommender_system_test'\")"
   ]
  },
  {
   "cell_type": "markdown",
   "metadata": {},
   "source": [
    "#### Группы: А — контрольная, B — новая платёжная воронка;"
   ]
  },
  {
   "cell_type": "code",
   "execution_count": 16,
   "metadata": {},
   "outputs": [
    {
     "data": {
      "text/html": [
       "<div>\n",
       "<style scoped>\n",
       "    .dataframe tbody tr th:only-of-type {\n",
       "        vertical-align: middle;\n",
       "    }\n",
       "\n",
       "    .dataframe tbody tr th {\n",
       "        vertical-align: top;\n",
       "    }\n",
       "\n",
       "    .dataframe thead th {\n",
       "        text-align: right;\n",
       "    }\n",
       "</style>\n",
       "<table border=\"1\" class=\"dataframe\">\n",
       "  <thead>\n",
       "    <tr style=\"text-align: right;\">\n",
       "      <th></th>\n",
       "      <th>user_id</th>\n",
       "      <th>group</th>\n",
       "    </tr>\n",
       "  </thead>\n",
       "  <tbody>\n",
       "  </tbody>\n",
       "</table>\n",
       "</div>"
      ],
      "text/plain": [
       "Empty DataFrame\n",
       "Columns: [user_id, group]\n",
       "Index: []"
      ]
     },
     "execution_count": 16,
     "metadata": {},
     "output_type": "execute_result"
    }
   ],
   "source": [
    "# проверяем на попадание субъектов в две группы одновременно\n",
    "recommender_system_test.groupby('user_id')['group'].nunique().reset_index().query('group > 1')"
   ]
  },
  {
   "cell_type": "markdown",
   "metadata": {},
   "source": [
    "#### Дата запуска: 2020-12-07"
   ]
  },
  {
   "cell_type": "code",
   "execution_count": 17,
   "metadata": {},
   "outputs": [],
   "source": [
    "# присоединяем еще одну таблицу для обработки данных с датами\n",
    "recommender_system_test = recommender_system_test.merge(new_users, how ='left', on='user_id')"
   ]
  },
  {
   "cell_type": "markdown",
   "metadata": {},
   "source": [
    "#### Дата остановки набора новых пользователей: 2020-12-21;"
   ]
  },
  {
   "cell_type": "code",
   "execution_count": 18,
   "metadata": {},
   "outputs": [],
   "source": [
    "# фильтруем пользователей по ТЗ\n",
    "recommender_system_test = recommender_system_test.query('first_date > \"2020-12-06\" & first_date < \"2020-12-22\"')"
   ]
  },
  {
   "cell_type": "code",
   "execution_count": null,
   "metadata": {},
   "outputs": [],
   "source": []
  },
  {
   "cell_type": "markdown",
   "metadata": {},
   "source": [
    "#### Аудитория: в тест должно быть отобрано 15% новых пользователей из региона EU;"
   ]
  },
  {
   "cell_type": "code",
   "execution_count": 19,
   "metadata": {},
   "outputs": [
    {
     "data": {
      "text/plain": [
       "user_id      94.77690\n",
       "group        94.77690\n",
       "ab_test      94.77690\n",
       "first_date   94.77690\n",
       "region       94.77690\n",
       "device       94.77690\n",
       "dtype: float64"
      ]
     },
     "execution_count": 19,
     "metadata": {},
     "output_type": "execute_result"
    }
   ],
   "source": [
    "# смотрим процент EU пользователей от общего количества, попавших на тест\n",
    "eu_users = recommender_system_test.query('region == \"EU\"')\n",
    "eu_users.count()/recommender_system_test.count()*100"
   ]
  },
  {
   "cell_type": "code",
   "execution_count": 20,
   "metadata": {},
   "outputs": [
    {
     "data": {
      "text/plain": [
       "13.725956343202938"
      ]
     },
     "execution_count": 20,
     "metadata": {},
     "output_type": "execute_result"
    }
   ],
   "source": [
    "# смотрим процент отобранных EU queried от общего EU queried\n",
    "k = new_users.query('region == \"EU\"')\n",
    "kk = eu_users['region'].count()/k['region'].count()*100\n",
    "kk"
   ]
  },
  {
   "cell_type": "code",
   "execution_count": 21,
   "metadata": {},
   "outputs": [
    {
     "data": {
      "text/plain": [
       "14.4823859952453"
      ]
     },
     "execution_count": 21,
     "metadata": {},
     "output_type": "execute_result"
    }
   ],
   "source": [
    "# смотрим процент всех отобранных от общего EU quired (все, кто попал в тест)\n",
    "q = new_users.query('region == \"EU\"')\n",
    "qq =recommender_system_test['region'].count()/k['region'].count()*100\n",
    "qq"
   ]
  },
  {
   "cell_type": "code",
   "execution_count": 22,
   "metadata": {},
   "outputs": [
    {
     "data": {
      "text/plain": [
       "46270"
      ]
     },
     "execution_count": 22,
     "metadata": {},
     "output_type": "execute_result"
    }
   ],
   "source": [
    "k['region'].count()"
   ]
  },
  {
   "cell_type": "code",
   "execution_count": 23,
   "metadata": {
    "scrolled": true
   },
   "outputs": [
    {
     "data": {
      "text/plain": [
       "'Если смотреть соотношение изначально набранных, то процентное соотношение практически соответвует условию в ТЗ -- 14.48%. Если брать соотношение на обработанных от других регионов данных, то цифра немного уменьшается -- 13.73%'"
      ]
     },
     "execution_count": 23,
     "metadata": {},
     "output_type": "execute_result"
    }
   ],
   "source": [
    "f'Если смотреть соотношение изначально набранных, то процентное соотношение практически соответвует условию в ТЗ -- {round(qq, 2)}%. Если брать соотношение на обработанных от других регионов данных, то цифра немного уменьшается -- {round(kk, 2)}%'"
   ]
  },
  {
   "cell_type": "code",
   "execution_count": 24,
   "metadata": {},
   "outputs": [
    {
     "data": {
      "text/plain": [
       "'Доля пользователей , которые участвовали в тесте из Евросоюза, от общего числа пользователей из этого региона, которые были зарегистрированы на ресурсе в период с 07 по 21 декабря включительно составила 13.73%'"
      ]
     },
     "execution_count": 24,
     "metadata": {},
     "output_type": "execute_result"
    }
   ],
   "source": [
    "f'Доля пользователей , которые участвовали в тесте из Евросоюза, от общего числа пользователей из этого региона, которые были зарегистрированы на ресурсе в период с 07 по 21 декабря включительно составила {round(kk, 2)}%'"
   ]
  },
  {
   "cell_type": "code",
   "execution_count": 25,
   "metadata": {},
   "outputs": [
    {
     "data": {
      "text/plain": [
       "0.15"
      ]
     },
     "execution_count": 25,
     "metadata": {},
     "output_type": "execute_result"
    }
   ],
   "source": [
    "new_new_users = pd.read_csv()\n",
    "new_participants = pd.read_csv()\n",
    "\n",
    "chislitel = new_participants.merge(new_new_users, on = 'user_id', how = 'left')\\\n",
    "    .query('ab_test == \"recommender_system_test\" & region == \"EU\"')\n",
    "\n",
    "\n",
    "\n",
    "znamenal = new_new_users.query('first_date <= \"2020-12-21\" & region == \"EU\"')\n",
    "\n",
    "len(chislitel) / len(znamenal)"
   ]
  },
  {
   "cell_type": "markdown",
   "metadata": {},
   "source": [
    "#### Ожидаемое количество участников теста: 6000."
   ]
  },
  {
   "cell_type": "code",
   "execution_count": 26,
   "metadata": {},
   "outputs": [
    {
     "data": {
      "text/plain": [
       "EU           6351\n",
       "N.America    223 \n",
       "APAC         72  \n",
       "CIS          55  \n",
       "Name: region, dtype: int64"
      ]
     },
     "execution_count": 26,
     "metadata": {},
     "output_type": "execute_result"
    }
   ],
   "source": [
    "# смотрим сколько и из каких регионов попали на тест\n",
    "recommender_system_test['region'].value_counts()"
   ]
  },
  {
   "cell_type": "markdown",
   "metadata": {},
   "source": [
    "В тест попали несколько пользователей из других регионов, 5% можно удалять(меньше 400 пользователей из 6701)"
   ]
  },
  {
   "cell_type": "code",
   "execution_count": 27,
   "metadata": {},
   "outputs": [
    {
     "data": {
      "text/plain": [
       "user_id       6351\n",
       "group         6351\n",
       "ab_test       6351\n",
       "first_date    6351\n",
       "region        6351\n",
       "device        6351\n",
       "dtype: int64"
      ]
     },
     "execution_count": 27,
     "metadata": {},
     "output_type": "execute_result"
    }
   ],
   "source": [
    "# считаем количество попавших на тест queried\n",
    "eu_users.count()"
   ]
  },
  {
   "cell_type": "markdown",
   "metadata": {},
   "source": [
    "При избавлении от пользователей из других регионов, то основное количество приближается к эталонным 6000, указанным в ТЗ."
   ]
  },
  {
   "cell_type": "markdown",
   "metadata": {},
   "source": [
    "#### Ожидаемый эффект: за 14 дней с момента регистрации пользователи покажут улучшение каждой метрики не менее, чем на 10%:"
   ]
  },
  {
   "cell_type": "code",
   "execution_count": 28,
   "metadata": {},
   "outputs": [
    {
     "data": {
      "text/html": [
       "<div>\n",
       "<style scoped>\n",
       "    .dataframe tbody tr th:only-of-type {\n",
       "        vertical-align: middle;\n",
       "    }\n",
       "\n",
       "    .dataframe tbody tr th {\n",
       "        vertical-align: top;\n",
       "    }\n",
       "\n",
       "    .dataframe thead th {\n",
       "        text-align: right;\n",
       "    }\n",
       "</style>\n",
       "<table border=\"1\" class=\"dataframe\">\n",
       "  <thead>\n",
       "    <tr style=\"text-align: right;\">\n",
       "      <th></th>\n",
       "      <th>user_id</th>\n",
       "      <th>group</th>\n",
       "      <th>ab_test</th>\n",
       "      <th>first_date</th>\n",
       "      <th>region</th>\n",
       "      <th>device</th>\n",
       "      <th>last_date</th>\n",
       "      <th>lifetime</th>\n",
       "    </tr>\n",
       "  </thead>\n",
       "  <tbody>\n",
       "    <tr>\n",
       "      <th>1</th>\n",
       "      <td>A7A3664BD6242119</td>\n",
       "      <td>A</td>\n",
       "      <td>recommender_system_test</td>\n",
       "      <td>2020-12-20</td>\n",
       "      <td>EU</td>\n",
       "      <td>iPhone</td>\n",
       "      <td>2020-12-25</td>\n",
       "      <td>5.00000</td>\n",
       "    </tr>\n",
       "    <tr>\n",
       "      <th>2</th>\n",
       "      <td>DABC14FDDFADD29E</td>\n",
       "      <td>A</td>\n",
       "      <td>recommender_system_test</td>\n",
       "      <td>2020-12-08</td>\n",
       "      <td>EU</td>\n",
       "      <td>Mac</td>\n",
       "      <td>2020-12-18</td>\n",
       "      <td>10.00000</td>\n",
       "    </tr>\n",
       "    <tr>\n",
       "      <th>3</th>\n",
       "      <td>04988C5DF189632E</td>\n",
       "      <td>A</td>\n",
       "      <td>recommender_system_test</td>\n",
       "      <td>2020-12-14</td>\n",
       "      <td>EU</td>\n",
       "      <td>iPhone</td>\n",
       "      <td>2020-12-25</td>\n",
       "      <td>11.00000</td>\n",
       "    </tr>\n",
       "    <tr>\n",
       "      <th>5</th>\n",
       "      <td>4FF2998A348C484F</td>\n",
       "      <td>A</td>\n",
       "      <td>recommender_system_test</td>\n",
       "      <td>2020-12-20</td>\n",
       "      <td>EU</td>\n",
       "      <td>Mac</td>\n",
       "      <td>2020-12-28</td>\n",
       "      <td>8.00000</td>\n",
       "    </tr>\n",
       "    <tr>\n",
       "      <th>6</th>\n",
       "      <td>7473E0943673C09E</td>\n",
       "      <td>A</td>\n",
       "      <td>recommender_system_test</td>\n",
       "      <td>2020-12-16</td>\n",
       "      <td>EU</td>\n",
       "      <td>iPhone</td>\n",
       "      <td>2020-12-19</td>\n",
       "      <td>3.00000</td>\n",
       "    </tr>\n",
       "    <tr>\n",
       "      <th>...</th>\n",
       "      <td>...</td>\n",
       "      <td>...</td>\n",
       "      <td>...</td>\n",
       "      <td>...</td>\n",
       "      <td>...</td>\n",
       "      <td>...</td>\n",
       "      <td>...</td>\n",
       "      <td>...</td>\n",
       "    </tr>\n",
       "    <tr>\n",
       "      <th>6692</th>\n",
       "      <td>6DC46FD66C7F126B</td>\n",
       "      <td>B</td>\n",
       "      <td>recommender_system_test</td>\n",
       "      <td>2020-12-07</td>\n",
       "      <td>N.America</td>\n",
       "      <td>Mac</td>\n",
       "      <td>2020-12-19</td>\n",
       "      <td>12.00000</td>\n",
       "    </tr>\n",
       "    <tr>\n",
       "      <th>6695</th>\n",
       "      <td>94786EB776B45914</td>\n",
       "      <td>A</td>\n",
       "      <td>recommender_system_test</td>\n",
       "      <td>2020-12-14</td>\n",
       "      <td>APAC</td>\n",
       "      <td>Android</td>\n",
       "      <td>2020-12-22</td>\n",
       "      <td>8.00000</td>\n",
       "    </tr>\n",
       "    <tr>\n",
       "      <th>6697</th>\n",
       "      <td>9D263B8EF15CF188</td>\n",
       "      <td>B</td>\n",
       "      <td>recommender_system_test</td>\n",
       "      <td>2020-12-16</td>\n",
       "      <td>N.America</td>\n",
       "      <td>Mac</td>\n",
       "      <td>2020-12-16</td>\n",
       "      <td>0.00000</td>\n",
       "    </tr>\n",
       "    <tr>\n",
       "      <th>6698</th>\n",
       "      <td>F2FBBA33F37DEC46</td>\n",
       "      <td>A</td>\n",
       "      <td>recommender_system_test</td>\n",
       "      <td>2020-12-18</td>\n",
       "      <td>APAC</td>\n",
       "      <td>Mac</td>\n",
       "      <td>2020-12-26</td>\n",
       "      <td>8.00000</td>\n",
       "    </tr>\n",
       "    <tr>\n",
       "      <th>6700</th>\n",
       "      <td>6715343AFBA285AE</td>\n",
       "      <td>B</td>\n",
       "      <td>recommender_system_test</td>\n",
       "      <td>2020-12-07</td>\n",
       "      <td>CIS</td>\n",
       "      <td>Android</td>\n",
       "      <td>2020-12-14</td>\n",
       "      <td>7.00000</td>\n",
       "    </tr>\n",
       "  </tbody>\n",
       "</table>\n",
       "<p>3405 rows × 8 columns</p>\n",
       "</div>"
      ],
      "text/plain": [
       "               user_id group                  ab_test first_date     region  \\\n",
       "1     A7A3664BD6242119  A     recommender_system_test 2020-12-20  EU          \n",
       "2     DABC14FDDFADD29E  A     recommender_system_test 2020-12-08  EU          \n",
       "3     04988C5DF189632E  A     recommender_system_test 2020-12-14  EU          \n",
       "5     4FF2998A348C484F  A     recommender_system_test 2020-12-20  EU          \n",
       "6     7473E0943673C09E  A     recommender_system_test 2020-12-16  EU          \n",
       "...                ... ..                         ...        ...  ..          \n",
       "6692  6DC46FD66C7F126B  B     recommender_system_test 2020-12-07  N.America   \n",
       "6695  94786EB776B45914  A     recommender_system_test 2020-12-14  APAC        \n",
       "6697  9D263B8EF15CF188  B     recommender_system_test 2020-12-16  N.America   \n",
       "6698  F2FBBA33F37DEC46  A     recommender_system_test 2020-12-18  APAC        \n",
       "6700  6715343AFBA285AE  B     recommender_system_test 2020-12-07  CIS         \n",
       "\n",
       "       device   last_date  lifetime  \n",
       "1     iPhone   2020-12-25 5.00000    \n",
       "2     Mac      2020-12-18 10.00000   \n",
       "3     iPhone   2020-12-25 11.00000   \n",
       "5     Mac      2020-12-28 8.00000    \n",
       "6     iPhone   2020-12-19 3.00000    \n",
       "...      ...          ...     ...    \n",
       "6692  Mac      2020-12-19 12.00000   \n",
       "6695  Android  2020-12-22 8.00000    \n",
       "6697  Mac      2020-12-16 0.00000    \n",
       "6698  Mac      2020-12-26 8.00000    \n",
       "6700  Android  2020-12-14 7.00000    \n",
       "\n",
       "[3405 rows x 8 columns]"
      ]
     },
     "execution_count": 28,
     "metadata": {},
     "output_type": "execute_result"
    }
   ],
   "source": [
    "# добавляем столбец с датой последнего ивента\n",
    "last_event = events.sort_values(by=['event_dt','user_id']).groupby(by='user_id', as_index=False)['event_dt'].max()\n",
    "# мерджим в конечную таблицу с последней датой\n",
    "recommender_system_test = recommender_system_test.merge(last_event, how='left', on ='user_id').rename(columns={'event_dt':'last_date'})\n",
    "# переводим в datetime\n",
    "recommender_system_test['last_date'] = pd.to_datetime(recommender_system_test['last_date']).dt.date\n",
    "recommender_system_test['lifetime'] = (pd.to_datetime(recommender_system_test['last_date']) - pd.to_datetime(recommender_system_test['first_date'])).dt.days\n",
    "# оставляем только пользователей с временем проведения до 15 дней\n",
    "recommender_system_test = recommender_system_test.query(\"lifetime < 15\")\n",
    "recommender_system_test"
   ]
  },
  {
   "cell_type": "markdown",
   "metadata": {},
   "source": [
    "К сожалению, попадание в тех задание по количеству пользователей(6000) не может осуществиться. Очень много пользователей, которые зарегестрировались, но не сделали потом ни одного действия. Они убираются вместе с фильтром по дням нахождения пользователя на сайте(колонка lifetime) и остается 3405 пользователей"
   ]
  },
  {
   "cell_type": "code",
   "execution_count": 29,
   "metadata": {},
   "outputs": [
    {
     "data": {
      "text/html": [
       "<div>\n",
       "<style scoped>\n",
       "    .dataframe tbody tr th:only-of-type {\n",
       "        vertical-align: middle;\n",
       "    }\n",
       "\n",
       "    .dataframe tbody tr th {\n",
       "        vertical-align: top;\n",
       "    }\n",
       "\n",
       "    .dataframe thead th {\n",
       "        text-align: right;\n",
       "    }\n",
       "</style>\n",
       "<table border=\"1\" class=\"dataframe\">\n",
       "  <thead>\n",
       "    <tr style=\"text-align: right;\">\n",
       "      <th></th>\n",
       "      <th>user_id</th>\n",
       "      <th>group</th>\n",
       "      <th>ab_test</th>\n",
       "      <th>first_date</th>\n",
       "      <th>region</th>\n",
       "      <th>device</th>\n",
       "      <th>last_date</th>\n",
       "      <th>lifetime</th>\n",
       "      <th>event_dt</th>\n",
       "      <th>event_name</th>\n",
       "      <th>details</th>\n",
       "    </tr>\n",
       "  </thead>\n",
       "  <tbody>\n",
       "    <tr>\n",
       "      <th>0</th>\n",
       "      <td>A7A3664BD6242119</td>\n",
       "      <td>A</td>\n",
       "      <td>recommender_system_test</td>\n",
       "      <td>2020-12-20</td>\n",
       "      <td>EU</td>\n",
       "      <td>iPhone</td>\n",
       "      <td>2020-12-25</td>\n",
       "      <td>5.00000</td>\n",
       "      <td>2020-12-20 15:46:06</td>\n",
       "      <td>product_page</td>\n",
       "      <td>NaN</td>\n",
       "    </tr>\n",
       "    <tr>\n",
       "      <th>1</th>\n",
       "      <td>A7A3664BD6242119</td>\n",
       "      <td>A</td>\n",
       "      <td>recommender_system_test</td>\n",
       "      <td>2020-12-20</td>\n",
       "      <td>EU</td>\n",
       "      <td>iPhone</td>\n",
       "      <td>2020-12-25</td>\n",
       "      <td>5.00000</td>\n",
       "      <td>2020-12-21 00:40:59</td>\n",
       "      <td>product_page</td>\n",
       "      <td>NaN</td>\n",
       "    </tr>\n",
       "    <tr>\n",
       "      <th>2</th>\n",
       "      <td>A7A3664BD6242119</td>\n",
       "      <td>A</td>\n",
       "      <td>recommender_system_test</td>\n",
       "      <td>2020-12-20</td>\n",
       "      <td>EU</td>\n",
       "      <td>iPhone</td>\n",
       "      <td>2020-12-25</td>\n",
       "      <td>5.00000</td>\n",
       "      <td>2020-12-25 05:19:45</td>\n",
       "      <td>product_page</td>\n",
       "      <td>NaN</td>\n",
       "    </tr>\n",
       "    <tr>\n",
       "      <th>3</th>\n",
       "      <td>A7A3664BD6242119</td>\n",
       "      <td>A</td>\n",
       "      <td>recommender_system_test</td>\n",
       "      <td>2020-12-20</td>\n",
       "      <td>EU</td>\n",
       "      <td>iPhone</td>\n",
       "      <td>2020-12-25</td>\n",
       "      <td>5.00000</td>\n",
       "      <td>2020-12-20 15:46:02</td>\n",
       "      <td>login</td>\n",
       "      <td>NaN</td>\n",
       "    </tr>\n",
       "    <tr>\n",
       "      <th>4</th>\n",
       "      <td>A7A3664BD6242119</td>\n",
       "      <td>A</td>\n",
       "      <td>recommender_system_test</td>\n",
       "      <td>2020-12-20</td>\n",
       "      <td>EU</td>\n",
       "      <td>iPhone</td>\n",
       "      <td>2020-12-25</td>\n",
       "      <td>5.00000</td>\n",
       "      <td>2020-12-21 00:40:58</td>\n",
       "      <td>login</td>\n",
       "      <td>NaN</td>\n",
       "    </tr>\n",
       "    <tr>\n",
       "      <th>...</th>\n",
       "      <td>...</td>\n",
       "      <td>...</td>\n",
       "      <td>...</td>\n",
       "      <td>...</td>\n",
       "      <td>...</td>\n",
       "      <td>...</td>\n",
       "      <td>...</td>\n",
       "      <td>...</td>\n",
       "      <td>...</td>\n",
       "      <td>...</td>\n",
       "      <td>...</td>\n",
       "    </tr>\n",
       "    <tr>\n",
       "      <th>22461</th>\n",
       "      <td>6715343AFBA285AE</td>\n",
       "      <td>B</td>\n",
       "      <td>recommender_system_test</td>\n",
       "      <td>2020-12-07</td>\n",
       "      <td>CIS</td>\n",
       "      <td>Android</td>\n",
       "      <td>2020-12-14</td>\n",
       "      <td>7.00000</td>\n",
       "      <td>2020-12-07 10:12:15</td>\n",
       "      <td>login</td>\n",
       "      <td>NaN</td>\n",
       "    </tr>\n",
       "    <tr>\n",
       "      <th>22462</th>\n",
       "      <td>6715343AFBA285AE</td>\n",
       "      <td>B</td>\n",
       "      <td>recommender_system_test</td>\n",
       "      <td>2020-12-07</td>\n",
       "      <td>CIS</td>\n",
       "      <td>Android</td>\n",
       "      <td>2020-12-14</td>\n",
       "      <td>7.00000</td>\n",
       "      <td>2020-12-08 22:51:16</td>\n",
       "      <td>login</td>\n",
       "      <td>NaN</td>\n",
       "    </tr>\n",
       "    <tr>\n",
       "      <th>22463</th>\n",
       "      <td>6715343AFBA285AE</td>\n",
       "      <td>B</td>\n",
       "      <td>recommender_system_test</td>\n",
       "      <td>2020-12-07</td>\n",
       "      <td>CIS</td>\n",
       "      <td>Android</td>\n",
       "      <td>2020-12-14</td>\n",
       "      <td>7.00000</td>\n",
       "      <td>2020-12-09 02:28:03</td>\n",
       "      <td>login</td>\n",
       "      <td>NaN</td>\n",
       "    </tr>\n",
       "    <tr>\n",
       "      <th>22464</th>\n",
       "      <td>6715343AFBA285AE</td>\n",
       "      <td>B</td>\n",
       "      <td>recommender_system_test</td>\n",
       "      <td>2020-12-07</td>\n",
       "      <td>CIS</td>\n",
       "      <td>Android</td>\n",
       "      <td>2020-12-14</td>\n",
       "      <td>7.00000</td>\n",
       "      <td>2020-12-10 22:55:14</td>\n",
       "      <td>login</td>\n",
       "      <td>NaN</td>\n",
       "    </tr>\n",
       "    <tr>\n",
       "      <th>22465</th>\n",
       "      <td>6715343AFBA285AE</td>\n",
       "      <td>B</td>\n",
       "      <td>recommender_system_test</td>\n",
       "      <td>2020-12-07</td>\n",
       "      <td>CIS</td>\n",
       "      <td>Android</td>\n",
       "      <td>2020-12-14</td>\n",
       "      <td>7.00000</td>\n",
       "      <td>2020-12-14 12:40:41</td>\n",
       "      <td>login</td>\n",
       "      <td>NaN</td>\n",
       "    </tr>\n",
       "  </tbody>\n",
       "</table>\n",
       "<p>22466 rows × 11 columns</p>\n",
       "</div>"
      ],
      "text/plain": [
       "                user_id group                  ab_test first_date region  \\\n",
       "0      A7A3664BD6242119  A     recommender_system_test 2020-12-20  EU      \n",
       "1      A7A3664BD6242119  A     recommender_system_test 2020-12-20  EU      \n",
       "2      A7A3664BD6242119  A     recommender_system_test 2020-12-20  EU      \n",
       "3      A7A3664BD6242119  A     recommender_system_test 2020-12-20  EU      \n",
       "4      A7A3664BD6242119  A     recommender_system_test 2020-12-20  EU      \n",
       "...                 ... ..                         ...        ...  ..      \n",
       "22461  6715343AFBA285AE  B     recommender_system_test 2020-12-07  CIS     \n",
       "22462  6715343AFBA285AE  B     recommender_system_test 2020-12-07  CIS     \n",
       "22463  6715343AFBA285AE  B     recommender_system_test 2020-12-07  CIS     \n",
       "22464  6715343AFBA285AE  B     recommender_system_test 2020-12-07  CIS     \n",
       "22465  6715343AFBA285AE  B     recommender_system_test 2020-12-07  CIS     \n",
       "\n",
       "        device   last_date  lifetime            event_dt    event_name  \\\n",
       "0      iPhone   2020-12-25 5.00000   2020-12-20 15:46:06  product_page   \n",
       "1      iPhone   2020-12-25 5.00000   2020-12-21 00:40:59  product_page   \n",
       "2      iPhone   2020-12-25 5.00000   2020-12-25 05:19:45  product_page   \n",
       "3      iPhone   2020-12-25 5.00000   2020-12-20 15:46:02  login          \n",
       "4      iPhone   2020-12-25 5.00000   2020-12-21 00:40:58  login          \n",
       "...       ...          ...     ...                   ...    ...          \n",
       "22461  Android  2020-12-14 7.00000   2020-12-07 10:12:15  login          \n",
       "22462  Android  2020-12-14 7.00000   2020-12-08 22:51:16  login          \n",
       "22463  Android  2020-12-14 7.00000   2020-12-09 02:28:03  login          \n",
       "22464  Android  2020-12-14 7.00000   2020-12-10 22:55:14  login          \n",
       "22465  Android  2020-12-14 7.00000   2020-12-14 12:40:41  login          \n",
       "\n",
       "       details  \n",
       "0     NaN       \n",
       "1     NaN       \n",
       "2     NaN       \n",
       "3     NaN       \n",
       "4     NaN       \n",
       "...    ..       \n",
       "22461 NaN       \n",
       "22462 NaN       \n",
       "22463 NaN       \n",
       "22464 NaN       \n",
       "22465 NaN       \n",
       "\n",
       "[22466 rows x 11 columns]"
      ]
     },
     "execution_count": 29,
     "metadata": {},
     "output_type": "execute_result"
    }
   ],
   "source": [
    "recommender_system_test_funnel = recommender_system_test.merge(events, how ='inner', on='user_id')\n",
    "recommender_system_test_funnel"
   ]
  },
  {
   "cell_type": "code",
   "execution_count": 30,
   "metadata": {},
   "outputs": [
    {
     "data": {
      "text/html": [
       "<div>\n",
       "<style scoped>\n",
       "    .dataframe tbody tr th:only-of-type {\n",
       "        vertical-align: middle;\n",
       "    }\n",
       "\n",
       "    .dataframe tbody tr th {\n",
       "        vertical-align: top;\n",
       "    }\n",
       "\n",
       "    .dataframe thead th {\n",
       "        text-align: right;\n",
       "    }\n",
       "</style>\n",
       "<table border=\"1\" class=\"dataframe\">\n",
       "  <thead>\n",
       "    <tr style=\"text-align: right;\">\n",
       "      <th></th>\n",
       "      <th>event_name</th>\n",
       "      <th>user_id</th>\n",
       "      <th>percentage</th>\n",
       "    </tr>\n",
       "  </thead>\n",
       "  <tbody>\n",
       "    <tr>\n",
       "      <th>0</th>\n",
       "      <td>login</td>\n",
       "      <td>3405</td>\n",
       "      <td>100.00000</td>\n",
       "    </tr>\n",
       "    <tr>\n",
       "      <th>1</th>\n",
       "      <td>product_page</td>\n",
       "      <td>2135</td>\n",
       "      <td>62.70191</td>\n",
       "    </tr>\n",
       "    <tr>\n",
       "      <th>2</th>\n",
       "      <td>product_cart</td>\n",
       "      <td>1015</td>\n",
       "      <td>47.54098</td>\n",
       "    </tr>\n",
       "    <tr>\n",
       "      <th>3</th>\n",
       "      <td>purchase</td>\n",
       "      <td>1059</td>\n",
       "      <td>104.33498</td>\n",
       "    </tr>\n",
       "  </tbody>\n",
       "</table>\n",
       "</div>"
      ],
      "text/plain": [
       "     event_name  user_id  percentage\n",
       "0  login         3405    100.00000  \n",
       "1  product_page  2135    62.70191   \n",
       "2  product_cart  1015    47.54098   \n",
       "3  purchase      1059    104.33498  "
      ]
     },
     "execution_count": 30,
     "metadata": {},
     "output_type": "execute_result"
    }
   ],
   "source": [
    "ab_funnel = (\n",
    "    recommender_system_test_funnel\n",
    "    .pivot_table(index='event_name', values='user_id', aggfunc='nunique')\n",
    "    .reset_index()\n",
    ")\n",
    "# присваиваем событиям порядковые номера для сортировки\n",
    "ab_funnel['event_name'] = ab_funnel['event_name'].replace({'login':'1', 'product_page':'2', 'product_cart': '3', 'purchase':'4'})\n",
    "ab_funnel['event_name'] = ab_funnel['event_name'].astype(int)\n",
    "\n",
    "ab_funnel = ab_funnel.sort_values(by='event_name', ignore_index=True)\n",
    "\n",
    "# создаем столбец с процентным соотношением относительно предыдущего этапа(делаем воронку)\n",
    "ab_funnel['percentage'] = (ab_funnel['user_id'].pct_change() + 1)*100\n",
    "# возвращаем настоящие названия для удобства прочтения\n",
    "ab_funnel['event_name'] = ab_funnel['event_name'].replace({1:'login', 2:'product_page', 3: 'product_cart', 4:'purchase'})\n",
    "ab_funnel['percentage'].fillna(100, inplace=True)\n",
    "ab_funnel"
   ]
  },
  {
   "cell_type": "code",
   "execution_count": 31,
   "metadata": {},
   "outputs": [
    {
     "data": {
      "text/html": [
       "<div>\n",
       "<style scoped>\n",
       "    .dataframe tbody tr th:only-of-type {\n",
       "        vertical-align: middle;\n",
       "    }\n",
       "\n",
       "    .dataframe tbody tr th {\n",
       "        vertical-align: top;\n",
       "    }\n",
       "\n",
       "    .dataframe thead th {\n",
       "        text-align: right;\n",
       "    }\n",
       "</style>\n",
       "<table border=\"1\" class=\"dataframe\">\n",
       "  <thead>\n",
       "    <tr style=\"text-align: right;\">\n",
       "      <th></th>\n",
       "      <th>event_name</th>\n",
       "      <th>user_id</th>\n",
       "      <th>percentage</th>\n",
       "    </tr>\n",
       "  </thead>\n",
       "  <tbody>\n",
       "    <tr>\n",
       "      <th>0</th>\n",
       "      <td>login</td>\n",
       "      <td>2591</td>\n",
       "      <td>100.00000</td>\n",
       "    </tr>\n",
       "    <tr>\n",
       "      <th>1</th>\n",
       "      <td>product_page</td>\n",
       "      <td>1677</td>\n",
       "      <td>64.72404</td>\n",
       "    </tr>\n",
       "    <tr>\n",
       "      <th>2</th>\n",
       "      <td>product_cart</td>\n",
       "      <td>788</td>\n",
       "      <td>46.98867</td>\n",
       "    </tr>\n",
       "    <tr>\n",
       "      <th>3</th>\n",
       "      <td>purchase</td>\n",
       "      <td>832</td>\n",
       "      <td>105.58376</td>\n",
       "    </tr>\n",
       "  </tbody>\n",
       "</table>\n",
       "</div>"
      ],
      "text/plain": [
       "     event_name  user_id  percentage\n",
       "0  login         2591    100.00000  \n",
       "1  product_page  1677    64.72404   \n",
       "2  product_cart  788     46.98867   \n",
       "3  purchase      832     105.58376  "
      ]
     },
     "execution_count": 31,
     "metadata": {},
     "output_type": "execute_result"
    }
   ],
   "source": [
    "# готовим датафрейм с участниками только из группы A\n",
    "a_funnel = (\n",
    "    recommender_system_test_funnel\n",
    "    .query('group == \"A\"')\n",
    "    .pivot_table(index='event_name', values='user_id', aggfunc='nunique')\n",
    "    .reset_index()\n",
    ")\n",
    "# присваиваем событиям порядковые номера для сортировки\n",
    "a_funnel['event_name'] = a_funnel['event_name'].replace({'login':'1', 'product_page':'2', 'product_cart': '3', 'purchase':'4'})\n",
    "a_funnel['event_name'] = a_funnel['event_name'].astype(int)\n",
    "\n",
    "a_funnel = a_funnel.sort_values(by='event_name', ignore_index=True)\n",
    "\n",
    "# создаем столбец с процентным соотношением относительно предыдущего этапа(делаем воронку)\n",
    "a_funnel['percentage'] = (a_funnel['user_id'].pct_change() + 1)*100\n",
    "# возвращаем настоящие названия для удобства прочтения\n",
    "a_funnel['event_name'] = a_funnel['event_name'].replace({1:'login', 2:'product_page', 3: 'product_cart', 4:'purchase'})\n",
    "a_funnel['percentage'].fillna(100, inplace=True)\n",
    "a_funnel"
   ]
  },
  {
   "cell_type": "code",
   "execution_count": 32,
   "metadata": {},
   "outputs": [
    {
     "data": {
      "image/png": "[encoded data removed]"
     },
     "metadata": {},
     "output_type": "display_data"
    }
   ],
   "source": [
    "# строим воронку переходов по событиям для группы A\n",
    "fig = go.Figure(go.Funnel(\n",
    "    y = a_funnel['event_name'],\n",
    "    x = a_funnel['user_id']))\n",
    "\n",
    "fig.update_layout(title={'text': \"Воронка событий для группы A\"},\n",
    "                 autosize=False,\n",
    "                 width=700,\n",
    "                 height=400)\n",
    "fig.show(\"png\")"
   ]
  },
  {
   "cell_type": "code",
   "execution_count": 33,
   "metadata": {},
   "outputs": [
    {
     "data": {
      "text/html": [
       "<div>\n",
       "<style scoped>\n",
       "    .dataframe tbody tr th:only-of-type {\n",
       "        vertical-align: middle;\n",
       "    }\n",
       "\n",
       "    .dataframe tbody tr th {\n",
       "        vertical-align: top;\n",
       "    }\n",
       "\n",
       "    .dataframe thead th {\n",
       "        text-align: right;\n",
       "    }\n",
       "</style>\n",
       "<table border=\"1\" class=\"dataframe\">\n",
       "  <thead>\n",
       "    <tr style=\"text-align: right;\">\n",
       "      <th></th>\n",
       "      <th>event_name</th>\n",
       "      <th>user_id</th>\n",
       "      <th>percentage</th>\n",
       "    </tr>\n",
       "  </thead>\n",
       "  <tbody>\n",
       "    <tr>\n",
       "      <th>0</th>\n",
       "      <td>login</td>\n",
       "      <td>814</td>\n",
       "      <td>100.00000</td>\n",
       "    </tr>\n",
       "    <tr>\n",
       "      <th>1</th>\n",
       "      <td>product_page</td>\n",
       "      <td>458</td>\n",
       "      <td>56.26536</td>\n",
       "    </tr>\n",
       "    <tr>\n",
       "      <th>2</th>\n",
       "      <td>product_cart</td>\n",
       "      <td>227</td>\n",
       "      <td>49.56332</td>\n",
       "    </tr>\n",
       "    <tr>\n",
       "      <th>3</th>\n",
       "      <td>purchase</td>\n",
       "      <td>227</td>\n",
       "      <td>100.00000</td>\n",
       "    </tr>\n",
       "  </tbody>\n",
       "</table>\n",
       "</div>"
      ],
      "text/plain": [
       "     event_name  user_id  percentage\n",
       "0  login         814     100.00000  \n",
       "1  product_page  458     56.26536   \n",
       "2  product_cart  227     49.56332   \n",
       "3  purchase      227     100.00000  "
      ]
     },
     "execution_count": 33,
     "metadata": {},
     "output_type": "execute_result"
    }
   ],
   "source": [
    "# готовим датафрейм с участниками только из группы B\n",
    "b_funnel = (\n",
    "    recommender_system_test_funnel\n",
    "    .query('group == \"B\"')\n",
    "    .pivot_table(index='event_name', values='user_id', aggfunc='nunique')\n",
    "    .reset_index()\n",
    ")\n",
    "# присваиваем событиям порядковые номера для сортировки\n",
    "b_funnel['event_name'] = b_funnel['event_name'].replace({'login':'1', 'product_page':'2', 'product_cart': '3', 'purchase':'4'})\n",
    "b_funnel['event_name'] = b_funnel['event_name'].astype(int)\n",
    "\n",
    "b_funnel = b_funnel.sort_values(by='event_name', ignore_index=True)\n",
    "\n",
    "# создаем столбец с процентным соотношением относительно предыдущего этапа(делаем воронку)\n",
    "b_funnel['percentage'] = (b_funnel['user_id'].pct_change() + 1)*100\n",
    "# возвращаем настоящие названия для удобства прочтения\n",
    "b_funnel['event_name'] = b_funnel['event_name'].replace({1:'login', 2:'product_page', 3: 'product_cart', 4:'purchase'})\n",
    "b_funnel['percentage'].fillna(100, inplace=True)\n",
    "b_funnel"
   ]
  },
  {
   "cell_type": "code",
   "execution_count": 34,
   "metadata": {},
   "outputs": [
    {
     "data": {
      "image/png": "[encoded data removed]"
     },
     "metadata": {},
     "output_type": "display_data"
    }
   ],
   "source": [
    "# строим воронку переходов по событиям для группы A\n",
    "fig = go.Figure(go.Funnel(\n",
    "    y = b_funnel['event_name'],\n",
    "    x = b_funnel['user_id']))\n",
    "\n",
    "fig.update_layout(title={'text': \"Воронка событий для группы B\"},\n",
    "                 autosize=False,\n",
    "                 width=700,\n",
    "                 height=400)\n",
    "fig.show(\"png\")"
   ]
  },
  {
   "cell_type": "code",
   "execution_count": 35,
   "metadata": {},
   "outputs": [
    {
     "data": {
      "text/plain": [
       "0   100.00000\n",
       "1   86.93115 \n",
       "2   105.47930\n",
       "3   94.71154 \n",
       "Name: percentage, dtype: float64"
      ]
     },
     "execution_count": 35,
     "metadata": {},
     "output_type": "execute_result"
    }
   ],
   "source": [
    "# посмотрим улучшение конверсии относительно группы B к A\n",
    "b_funnel['percentage']/a_funnel['percentage'] * 100"
   ]
  },
  {
   "cell_type": "markdown",
   "metadata": {},
   "source": [
    "Улучшения ни одной метрики не произошло на желаемый уровень"
   ]
  },
  {
   "cell_type": "markdown",
   "metadata": {},
   "source": [
    "### Время проведения теста. Убедитесь, что оно не совпадает с маркетинговыми и другими активностями."
   ]
  },
  {
   "cell_type": "code",
   "execution_count": 36,
   "metadata": {},
   "outputs": [
    {
     "data": {
      "text/html": [
       "<div>\n",
       "<style scoped>\n",
       "    .dataframe tbody tr th:only-of-type {\n",
       "        vertical-align: middle;\n",
       "    }\n",
       "\n",
       "    .dataframe tbody tr th {\n",
       "        vertical-align: top;\n",
       "    }\n",
       "\n",
       "    .dataframe thead th {\n",
       "        text-align: right;\n",
       "    }\n",
       "</style>\n",
       "<table border=\"1\" class=\"dataframe\">\n",
       "  <thead>\n",
       "    <tr style=\"text-align: right;\">\n",
       "      <th></th>\n",
       "      <th>name</th>\n",
       "      <th>regions</th>\n",
       "      <th>start_dt</th>\n",
       "      <th>finish_dt</th>\n",
       "    </tr>\n",
       "  </thead>\n",
       "  <tbody>\n",
       "    <tr>\n",
       "      <th>0</th>\n",
       "      <td>Christmas&amp;New Year Promo</td>\n",
       "      <td>EU, N.America</td>\n",
       "      <td>2020-12-25</td>\n",
       "      <td>2021-01-03</td>\n",
       "    </tr>\n",
       "  </tbody>\n",
       "</table>\n",
       "</div>"
      ],
      "text/plain": [
       "                       name        regions   start_dt  finish_dt\n",
       "0  Christmas&New Year Promo  EU, N.America 2020-12-25 2021-01-03"
      ]
     },
     "execution_count": 36,
     "metadata": {},
     "output_type": "execute_result"
    }
   ],
   "source": [
    "marketing[marketing['regions'].str.contains('EU', regex=True, na=True)].query(\"start_dt > '2020-12-06'\")"
   ]
  },
  {
   "cell_type": "markdown",
   "metadata": {},
   "source": [
    "Новогоднее и рождественское промо не захватывает период набора участников, но попадает на конец теста, что может негативно влиять на его результаты"
   ]
  },
  {
   "cell_type": "markdown",
   "metadata": {},
   "source": [
    "### Проверка аудитории теста. Удостоверьтесь, что нет пересечений с конкурирующим тестом и нет пользователей, участвующих в двух группах теста одновременно. "
   ]
  },
  {
   "cell_type": "code",
   "execution_count": 37,
   "metadata": {},
   "outputs": [
    {
     "data": {
      "text/html": [
       "<div>\n",
       "<style scoped>\n",
       "    .dataframe tbody tr th:only-of-type {\n",
       "        vertical-align: middle;\n",
       "    }\n",
       "\n",
       "    .dataframe tbody tr th {\n",
       "        vertical-align: top;\n",
       "    }\n",
       "\n",
       "    .dataframe thead th {\n",
       "        text-align: right;\n",
       "    }\n",
       "</style>\n",
       "<table border=\"1\" class=\"dataframe\">\n",
       "  <thead>\n",
       "    <tr style=\"text-align: right;\">\n",
       "      <th></th>\n",
       "      <th>user_id</th>\n",
       "      <th>group_x</th>\n",
       "      <th>ab_test_x</th>\n",
       "      <th>first_date</th>\n",
       "      <th>region</th>\n",
       "      <th>device</th>\n",
       "      <th>last_date</th>\n",
       "      <th>lifetime</th>\n",
       "      <th>group_y</th>\n",
       "      <th>ab_test_y</th>\n",
       "    </tr>\n",
       "  </thead>\n",
       "  <tbody>\n",
       "    <tr>\n",
       "      <th>0</th>\n",
       "      <td>DABC14FDDFADD29E</td>\n",
       "      <td>A</td>\n",
       "      <td>recommender_system_test</td>\n",
       "      <td>2020-12-08</td>\n",
       "      <td>EU</td>\n",
       "      <td>Mac</td>\n",
       "      <td>2020-12-18</td>\n",
       "      <td>10.00000</td>\n",
       "      <td>A</td>\n",
       "      <td>interface_eu_test</td>\n",
       "    </tr>\n",
       "    <tr>\n",
       "      <th>1</th>\n",
       "      <td>04988C5DF189632E</td>\n",
       "      <td>A</td>\n",
       "      <td>recommender_system_test</td>\n",
       "      <td>2020-12-14</td>\n",
       "      <td>EU</td>\n",
       "      <td>iPhone</td>\n",
       "      <td>2020-12-25</td>\n",
       "      <td>11.00000</td>\n",
       "      <td>A</td>\n",
       "      <td>interface_eu_test</td>\n",
       "    </tr>\n",
       "    <tr>\n",
       "      <th>2</th>\n",
       "      <td>B3A2485649E4A012</td>\n",
       "      <td>A</td>\n",
       "      <td>recommender_system_test</td>\n",
       "      <td>2020-12-09</td>\n",
       "      <td>EU</td>\n",
       "      <td>iPhone</td>\n",
       "      <td>2020-12-10</td>\n",
       "      <td>1.00000</td>\n",
       "      <td>A</td>\n",
       "      <td>interface_eu_test</td>\n",
       "    </tr>\n",
       "    <tr>\n",
       "      <th>3</th>\n",
       "      <td>EAFB9027A27D510C</td>\n",
       "      <td>B</td>\n",
       "      <td>recommender_system_test</td>\n",
       "      <td>2020-12-07</td>\n",
       "      <td>EU</td>\n",
       "      <td>Android</td>\n",
       "      <td>2020-12-10</td>\n",
       "      <td>3.00000</td>\n",
       "      <td>A</td>\n",
       "      <td>interface_eu_test</td>\n",
       "    </tr>\n",
       "    <tr>\n",
       "      <th>4</th>\n",
       "      <td>5D5E6EE92AF6E9E0</td>\n",
       "      <td>B</td>\n",
       "      <td>recommender_system_test</td>\n",
       "      <td>2020-12-21</td>\n",
       "      <td>EU</td>\n",
       "      <td>Android</td>\n",
       "      <td>2020-12-24</td>\n",
       "      <td>3.00000</td>\n",
       "      <td>B</td>\n",
       "      <td>interface_eu_test</td>\n",
       "    </tr>\n",
       "    <tr>\n",
       "      <th>...</th>\n",
       "      <td>...</td>\n",
       "      <td>...</td>\n",
       "      <td>...</td>\n",
       "      <td>...</td>\n",
       "      <td>...</td>\n",
       "      <td>...</td>\n",
       "      <td>...</td>\n",
       "      <td>...</td>\n",
       "      <td>...</td>\n",
       "      <td>...</td>\n",
       "    </tr>\n",
       "    <tr>\n",
       "      <th>818</th>\n",
       "      <td>A0BAE4190D41A285</td>\n",
       "      <td>A</td>\n",
       "      <td>recommender_system_test</td>\n",
       "      <td>2020-12-07</td>\n",
       "      <td>EU</td>\n",
       "      <td>Android</td>\n",
       "      <td>2020-12-13</td>\n",
       "      <td>6.00000</td>\n",
       "      <td>A</td>\n",
       "      <td>interface_eu_test</td>\n",
       "    </tr>\n",
       "    <tr>\n",
       "      <th>819</th>\n",
       "      <td>28F165B39D160BC5</td>\n",
       "      <td>A</td>\n",
       "      <td>recommender_system_test</td>\n",
       "      <td>2020-12-14</td>\n",
       "      <td>EU</td>\n",
       "      <td>PC</td>\n",
       "      <td>2020-12-21</td>\n",
       "      <td>7.00000</td>\n",
       "      <td>A</td>\n",
       "      <td>interface_eu_test</td>\n",
       "    </tr>\n",
       "    <tr>\n",
       "      <th>820</th>\n",
       "      <td>96BDD55846D1F7F6</td>\n",
       "      <td>A</td>\n",
       "      <td>recommender_system_test</td>\n",
       "      <td>2020-12-20</td>\n",
       "      <td>EU</td>\n",
       "      <td>iPhone</td>\n",
       "      <td>2020-12-29</td>\n",
       "      <td>9.00000</td>\n",
       "      <td>B</td>\n",
       "      <td>interface_eu_test</td>\n",
       "    </tr>\n",
       "    <tr>\n",
       "      <th>821</th>\n",
       "      <td>FA86D8DFAD3ADADE</td>\n",
       "      <td>A</td>\n",
       "      <td>recommender_system_test</td>\n",
       "      <td>2020-12-14</td>\n",
       "      <td>EU</td>\n",
       "      <td>iPhone</td>\n",
       "      <td>2020-12-20</td>\n",
       "      <td>6.00000</td>\n",
       "      <td>A</td>\n",
       "      <td>interface_eu_test</td>\n",
       "    </tr>\n",
       "    <tr>\n",
       "      <th>822</th>\n",
       "      <td>95401934D6D6D4FC</td>\n",
       "      <td>B</td>\n",
       "      <td>recommender_system_test</td>\n",
       "      <td>2020-12-13</td>\n",
       "      <td>EU</td>\n",
       "      <td>iPhone</td>\n",
       "      <td>2020-12-13</td>\n",
       "      <td>0.00000</td>\n",
       "      <td>A</td>\n",
       "      <td>interface_eu_test</td>\n",
       "    </tr>\n",
       "  </tbody>\n",
       "</table>\n",
       "<p>823 rows × 10 columns</p>\n",
       "</div>"
      ],
      "text/plain": [
       "              user_id group_x                ab_test_x first_date region  \\\n",
       "0    DABC14FDDFADD29E  A       recommender_system_test 2020-12-08  EU      \n",
       "1    04988C5DF189632E  A       recommender_system_test 2020-12-14  EU      \n",
       "2    B3A2485649E4A012  A       recommender_system_test 2020-12-09  EU      \n",
       "3    EAFB9027A27D510C  B       recommender_system_test 2020-12-07  EU      \n",
       "4    5D5E6EE92AF6E9E0  B       recommender_system_test 2020-12-21  EU      \n",
       "..                ... ..                           ...        ...  ..      \n",
       "818  A0BAE4190D41A285  A       recommender_system_test 2020-12-07  EU      \n",
       "819  28F165B39D160BC5  A       recommender_system_test 2020-12-14  EU      \n",
       "820  96BDD55846D1F7F6  A       recommender_system_test 2020-12-20  EU      \n",
       "821  FA86D8DFAD3ADADE  A       recommender_system_test 2020-12-14  EU      \n",
       "822  95401934D6D6D4FC  B       recommender_system_test 2020-12-13  EU      \n",
       "\n",
       "      device   last_date  lifetime group_y          ab_test_y  \n",
       "0    Mac      2020-12-18 10.00000   A       interface_eu_test  \n",
       "1    iPhone   2020-12-25 11.00000   A       interface_eu_test  \n",
       "2    iPhone   2020-12-10 1.00000    A       interface_eu_test  \n",
       "3    Android  2020-12-10 3.00000    A       interface_eu_test  \n",
       "4    Android  2020-12-24 3.00000    B       interface_eu_test  \n",
       "..       ...         ...     ...   ..                     ...  \n",
       "818  Android  2020-12-13 6.00000    A       interface_eu_test  \n",
       "819  PC       2020-12-21 7.00000    A       interface_eu_test  \n",
       "820  iPhone   2020-12-29 9.00000    B       interface_eu_test  \n",
       "821  iPhone   2020-12-20 6.00000    A       interface_eu_test  \n",
       "822  iPhone   2020-12-13 0.00000    A       interface_eu_test  \n",
       "\n",
       "[823 rows x 10 columns]"
      ]
     },
     "execution_count": 37,
     "metadata": {},
     "output_type": "execute_result"
    }
   ],
   "source": [
    "# создадим датасет с пользователями из другого теста\n",
    "interface_eu_test = participants.query(\"ab_test == 'interface_eu_test'\")\n",
    "# присоеденим две таблицы для нахождения пользователей, попавших в оба теста\n",
    "both_tests = recommender_system_test.merge(interface_eu_test, how='inner', on ='user_id')\n",
    "both_tests"
   ]
  },
  {
   "cell_type": "code",
   "execution_count": 38,
   "metadata": {},
   "outputs": [
    {
     "data": {
      "text/plain": [
       "A    629\n",
       "B    194\n",
       "Name: group_x, dtype: int64"
      ]
     },
     "execution_count": 38,
     "metadata": {},
     "output_type": "execute_result"
    }
   ],
   "source": [
    "# смотрим количество участников попавших одновременно в два теста(recommender_system_test и interface_eu_test) по группам\n",
    "# в тесте recommender_system_test\n",
    "both_tests['group_x'].value_counts()"
   ]
  },
  {
   "cell_type": "code",
   "execution_count": 39,
   "metadata": {},
   "outputs": [
    {
     "data": {
      "text/plain": [
       "A    420\n",
       "B    403\n",
       "Name: group_y, dtype: int64"
      ]
     },
     "execution_count": 39,
     "metadata": {},
     "output_type": "execute_result"
    }
   ],
   "source": [
    "# смотрим количество участников попавших одновременно в два теста(recommender_system_test и interface_eu_test) по группам\n",
    "# в тесте interface_eu_test\n",
    "both_tests['group_y'].value_counts()"
   ]
  },
  {
   "cell_type": "markdown",
   "metadata": {},
   "source": [
    "Большинство участников теста, которые попали и туда и туда сосредоточились в группе \"A\"(в датасете с нужным нам тестом), что не влияет на тест. В группу \"B\" попало всего 194 пользователя. "
   ]
  },
  {
   "cell_type": "code",
   "execution_count": 40,
   "metadata": {},
   "outputs": [
    {
     "data": {
      "text/html": [
       "<div>\n",
       "<style scoped>\n",
       "    .dataframe tbody tr th:only-of-type {\n",
       "        vertical-align: middle;\n",
       "    }\n",
       "\n",
       "    .dataframe tbody tr th {\n",
       "        vertical-align: top;\n",
       "    }\n",
       "\n",
       "    .dataframe thead th {\n",
       "        text-align: right;\n",
       "    }\n",
       "</style>\n",
       "<table border=\"1\" class=\"dataframe\">\n",
       "  <thead>\n",
       "    <tr style=\"text-align: right;\">\n",
       "      <th></th>\n",
       "      <th>user_id</th>\n",
       "      <th>group</th>\n",
       "    </tr>\n",
       "  </thead>\n",
       "  <tbody>\n",
       "  </tbody>\n",
       "</table>\n",
       "</div>"
      ],
      "text/plain": [
       "Empty DataFrame\n",
       "Columns: [user_id, group]\n",
       "Index: []"
      ]
     },
     "execution_count": 40,
     "metadata": {},
     "output_type": "execute_result"
    }
   ],
   "source": [
    "#проверяем на попадание субъектов в две группы одновременно\n",
    "recommender_system_test.groupby('user_id')['group'].nunique().reset_index().query('group > 1')"
   ]
  },
  {
   "cell_type": "code",
   "execution_count": 41,
   "metadata": {},
   "outputs": [
    {
     "data": {
      "text/plain": [
       "Timestamp('2020-12-29 23:38:29')"
      ]
     },
     "execution_count": 41,
     "metadata": {},
     "output_type": "execute_result"
    }
   ],
   "source": [
    "recommender_system_test_funnel['event_dt'].max()"
   ]
  },
  {
   "cell_type": "markdown",
   "metadata": {},
   "source": [
    "Последнее событие произошло в конце дня 29 декабря, что на неделю раньше, чем ожидаемая дата завершения теста по ТЗ"
   ]
  },
  {
   "cell_type": "markdown",
   "metadata": {},
   "source": [
    "### Исследовательский анализ данных"
   ]
  },
  {
   "cell_type": "markdown",
   "metadata": {},
   "source": [
    "#### Количество событий на пользователя одинаково распределены в выборках?"
   ]
  },
  {
   "cell_type": "code",
   "execution_count": 42,
   "metadata": {},
   "outputs": [],
   "source": [
    "a_events = (\n",
    "recommender_system_test_funnel\n",
    "    .query('group == \"A\"')\n",
    "    .pivot_table(index='user_id', values='event_name', aggfunc='count')\n",
    ")"
   ]
  },
  {
   "cell_type": "code",
   "execution_count": 43,
   "metadata": {},
   "outputs": [],
   "source": [
    "b_events = (\n",
    "recommender_system_test_funnel\n",
    "    .query('group == \"B\"')\n",
    "    .pivot_table(index='user_id', values='event_name', aggfunc='count')\n",
    ")"
   ]
  },
  {
   "cell_type": "code",
   "execution_count": 44,
   "metadata": {},
   "outputs": [
    {
     "data": {
      "image/png": "[encoded data removed]",
      "text/plain": [
       "<Figure size 640x480 with 1 Axes>"
      ]
     },
     "metadata": {},
     "output_type": "display_data"
    }
   ],
   "source": [
    "plt.title('Сравнительная гистограмма по среднему количеству событий на участника')\n",
    "plt.hist(a_events, alpha=0.5, label='События группы A')\n",
    "plt.hist(b_events, alpha=0.5, label='События группы B')\n",
    "plt.legend(loc='upper right')\n",
    "plt.xlabel('Количество событий')\n",
    "plt.ylabel('Количество участников');"
   ]
  },
  {
   "cell_type": "markdown",
   "metadata": {},
   "source": [
    "В группе A среднее количество событий превалирует над группой B и имеет пик на значении 10, когда в группе B пик приходится на значение около 5"
   ]
  },
  {
   "cell_type": "markdown",
   "metadata": {},
   "source": [
    "#### Как число событий в выборках распределено по дням?"
   ]
  },
  {
   "cell_type": "code",
   "execution_count": 45,
   "metadata": {},
   "outputs": [],
   "source": [
    "# создаем датафрейм для группы A\n",
    "days_a = recommender_system_test_funnel\n",
    "days_a['event_dt'] = pd.to_datetime(days_a['event_dt']).dt.strftime('%Y-%m-%d')\n",
    "days_a = (\n",
    "recommender_system_test_funnel\n",
    "    .query('group == \"A\"')\n",
    "    .pivot_table(index='event_dt', values='event_name', aggfunc='count')\n",
    "    .reset_index()\n",
    ")\n",
    "days_a = days_a.rename(columns={'event_name':'A'})\n",
    "# добавляем столбец с процентным соотношением количества событий по дням\n",
    "days_a['percentage_a'] = (days_a['A'] / days_a['A'].sum())*100"
   ]
  },
  {
   "cell_type": "code",
   "execution_count": 46,
   "metadata": {},
   "outputs": [],
   "source": [
    "# создаем датафрейм для группы B\n",
    "days_b = recommender_system_test_funnel\n",
    "days_b['event_dt'] = pd.to_datetime(days_b['event_dt']).dt.strftime('%Y-%m-%d')\n",
    "days_b = (\n",
    "recommender_system_test_funnel\n",
    "    .query('group == \"B\"')\n",
    "    .pivot_table(index='event_dt', values='event_name', aggfunc='count')\n",
    "    .reset_index()\n",
    ")\n",
    "days_b = days_b.rename(columns={'event_name':'B'})\n",
    "# добавляем столбец с процентным соотношением количества событий по дням\n",
    "days_b['percentage_b'] = (days_b['B'] / days_b['B'].sum())*100"
   ]
  },
  {
   "cell_type": "code",
   "execution_count": 47,
   "metadata": {},
   "outputs": [],
   "source": [
    "days_ab = days_a.merge(days_b, how='outer', on='event_dt')"
   ]
  },
  {
   "cell_type": "code",
   "execution_count": 48,
   "metadata": {},
   "outputs": [
    {
     "data": {
      "text/plain": [
       "''"
      ]
     },
     "execution_count": 48,
     "metadata": {},
     "output_type": "execute_result"
    },
    {
     "data": {
      "image/png": "[encoded data removed]",
      "text/plain": [
       "<Figure size 1000x600 with 1 Axes>"
      ]
     },
     "metadata": {},
     "output_type": "display_data"
    }
   ],
   "source": [
    "days_ab.pivot_table(index='event_dt', values=['percentage_a', 'percentage_b']).plot(kind='bar', figsize=(10, 6), width = 0.7)\n",
    "plt.xticks(rotation=30)\n",
    "plt.title('Сравнительная гистограмма по среднему количеству событий в день')\n",
    "plt.xlabel('Дата')\n",
    "plt.ylabel('Количество событий')\n",
    ";"
   ]
  },
  {
   "cell_type": "markdown",
   "metadata": {},
   "source": [
    "Было использовано процентное соотношение, в связи с разным количеством участников в каждой группе."
   ]
  },
  {
   "cell_type": "markdown",
   "metadata": {},
   "source": [
    "В начале группа B сильно больше выражена большим количеством событий в день(первые 6 дней в 2-3 раза больше событий). Начиная с 8 дня увеличивается количество событий в группе A, и оно обходит по значению группу B в среднем на 1-2% всегда до самого конца теста."
   ]
  },
  {
   "cell_type": "markdown",
   "metadata": {},
   "source": [
    "#### Какие особенности данных нужно учесть, прежде чем приступать к A/B-тестированию?"
   ]
  },
  {
   "cell_type": "code",
   "execution_count": 49,
   "metadata": {},
   "outputs": [
    {
     "data": {
      "text/plain": [
       "A    2591\n",
       "B    814 \n",
       "Name: group, dtype: int64"
      ]
     },
     "execution_count": 49,
     "metadata": {},
     "output_type": "execute_result"
    }
   ],
   "source": [
    "recommender_system_test['group'].value_counts()"
   ]
  },
  {
   "cell_type": "code",
   "execution_count": 50,
   "metadata": {},
   "outputs": [
    {
     "data": {
      "text/plain": [
       "<Axes: ylabel='group'>"
      ]
     },
     "execution_count": 50,
     "metadata": {},
     "output_type": "execute_result"
    },
    {
     "data": {
      "image/png": "[encoded data removed]",
      "text/plain": [
       "<Figure size 640x480 with 1 Axes>"
      ]
     },
     "metadata": {},
     "output_type": "display_data"
    }
   ],
   "source": [
    "recommender_system_test['group'].value_counts().plot(kind='pie', autopct='%1.1f%%')"
   ]
  },
  {
   "cell_type": "markdown",
   "metadata": {},
   "source": [
    "Очень большое количество участников теста не совершали никаких событий, соответственно у нас был перевес по группам A и B. В группе A активных участников 76% с количеством 2591, когда в группе B всего 24% и 814 человек"
   ]
  },
  {
   "cell_type": "code",
   "execution_count": 51,
   "metadata": {},
   "outputs": [
    {
     "data": {
      "image/png": "[encoded data removed]"
     },
     "metadata": {},
     "output_type": "display_data"
    }
   ],
   "source": [
    "# строим воронку переходов по событиям для группы A\n",
    "fig = go.Figure(go.Funnel(\n",
    "    y = a_funnel['event_name'],\n",
    "    x = a_funnel['user_id']))\n",
    "\n",
    "fig.update_layout(title={'text': \"Воронка событий для группы A\"},\n",
    "                 autosize=False,\n",
    "                 width=700,\n",
    "                 height=400)\n",
    "fig.show(\"png\")"
   ]
  },
  {
   "cell_type": "code",
   "execution_count": 52,
   "metadata": {},
   "outputs": [
    {
     "data": {
      "image/png": "[encoded data removed]"
     },
     "metadata": {},
     "output_type": "display_data"
    }
   ],
   "source": [
    "# строим воронку переходов по событиям для группы A\n",
    "fig = go.Figure(go.Funnel(\n",
    "    y = b_funnel['event_name'],\n",
    "    x = b_funnel['user_id']))\n",
    "\n",
    "fig.update_layout(title={'text': \"Воронка событий для группы B\"},\n",
    "                 autosize=False,\n",
    "                 width=700,\n",
    "                 height=400)\n",
    "fig.show(\"png\")"
   ]
  },
  {
   "cell_type": "code",
   "execution_count": 53,
   "metadata": {},
   "outputs": [
    {
     "data": {
      "text/plain": [
       "0   100.00000\n",
       "1   86.93115 \n",
       "2   105.47930\n",
       "3   94.71154 \n",
       "Name: percentage, dtype: float64"
      ]
     },
     "execution_count": 53,
     "metadata": {},
     "output_type": "execute_result"
    }
   ],
   "source": [
    "# посмотрим улучшение конверсии относительно группы B к A\n",
    "b_funnel['percentage']/a_funnel['percentage'] * 100"
   ]
  },
  {
   "cell_type": "markdown",
   "metadata": {},
   "source": [
    "### Оценка результатов A/B теста"
   ]
  },
  {
   "cell_type": "markdown",
   "metadata": {},
   "source": [
    "#### Что можно сказать про результаты A/В-тестирования?"
   ]
  },
  {
   "cell_type": "markdown",
   "metadata": {},
   "source": [
    "A/B тест был проведен некорректно. Результаты можно использовать, но лучше подготовить повторное исследование. <br>\n",
    "Проблемы:\n",
    "* Большое количество участников попали в два разных исследования\n",
    "* Исследование частично попало в даты проводимого ивента\n",
    "* Большое количество участников выпали из выборки из-за того, что не совершали никаких действий\n",
    "* \n"
   ]
  },
  {
   "cell_type": "markdown",
   "metadata": {},
   "source": [
    "#### Проверьте статистическую разницу долей z-критерием."
   ]
  },
  {
   "cell_type": "markdown",
   "metadata": {},
   "source": [
    "Нулевая гипотеза: Разницы между долями нет, они равны <br>\n",
    "Альтернативная гипотеза: Между долями есть значимая разница<br>\n",
    "Уровень статистической значимости = 0.05<br>\n",
    "Используемый тест: z-критерий"
   ]
  },
  {
   "cell_type": "markdown",
   "metadata": {},
   "source": [
    "Поскольку будет производиться сравнение одних и тех же данных несколько раз, нужно вводить поправку на множественную проверку гипотез"
   ]
  },
  {
   "cell_type": "code",
   "execution_count": 54,
   "metadata": {},
   "outputs": [
    {
     "data": {
      "text/plain": [
       "'Поправка Бонферонни равна 0.016666666666666666'"
      ]
     },
     "execution_count": 54,
     "metadata": {},
     "output_type": "execute_result"
    }
   ],
   "source": [
    "f'Поправка Бонферонни равна {0.05/3}'"
   ]
  },
  {
   "cell_type": "code",
   "execution_count": 55,
   "metadata": {},
   "outputs": [],
   "source": [
    "def test(successes1, successes2, trials1, trials2, alpha):\n",
    "# пропорция успехов в первой группе:\n",
    "    p1 = successes1/trials1\n",
    "\n",
    "# пропорция успехов во второй группе:\n",
    "    p2 = successes2/trials2\n",
    "    \n",
    "    print(successes1, successes2, trials1, trials2)\n",
    "\n",
    "# пропорция успехов в комбинированном датасете:\n",
    "    p_combined = (successes1 + successes2) / (trials1 + trials2)\n",
    "\n",
    "# разница пропорций в датасетах\n",
    "    difference = p1 - p2 \n",
    "\n",
    "# считаем статистику в ст.отклонениях стандартного нормального распределения\n",
    "    z_value = difference / mth.sqrt(p_combined * (1 - p_combined) * (1/trials1 + 1/trials2))\n",
    "\n",
    "# задаем стандартное нормальное распределение (среднее 0, ст.отклонение 1)\n",
    "    distr = st.norm(0, 1)  \n",
    "    p_value = (1 - distr.cdf(abs(z_value))) * 2\n",
    "\n",
    "    print('p-значение: ', p_value)\n",
    "\n",
    "    if p_value < alpha:\n",
    "        print('Отвергаем нулевую гипотезу: между долями есть значимая разница')\n",
    "    else:\n",
    "        print(\n",
    "            'Не получилось отвергнуть нулевую гипотезу, нет оснований считать доли разными'\n",
    "        )  "
   ]
  },
  {
   "cell_type": "code",
   "execution_count": 56,
   "metadata": {},
   "outputs": [
    {
     "name": "stdout",
     "output_type": "stream",
     "text": [
      "Проводим тест по событию product_page\n",
      "1677 458 2591 814\n",
      "p-значение:  1.3417644051605393e-05\n",
      "Отвергаем нулевую гипотезу: между долями есть значимая разница\n"
     ]
    }
   ],
   "source": [
    "print('Проводим тест по событию product_page')\n",
    "test(a_funnel.loc[1, 'user_id'], b_funnel.loc[1, 'user_id'], a_funnel.loc[0, 'user_id'], b_funnel.loc[0, 'user_id'], 0.0167)"
   ]
  },
  {
   "cell_type": "code",
   "execution_count": 57,
   "metadata": {},
   "outputs": [
    {
     "data": {
      "text/plain": [
       "'Соотношение группы A и группы B на первом этапе: 1.1503356428618376'"
      ]
     },
     "execution_count": 57,
     "metadata": {},
     "output_type": "execute_result"
    }
   ],
   "source": [
    "f\"Соотношение группы A и группы B на первом этапе: {(a_funnel.loc[1, 'user_id']/a_funnel.loc[0, 'user_id'])/(b_funnel.loc[1, 'user_id']/b_funnel.loc[0, 'user_id'])}\""
   ]
  },
  {
   "cell_type": "code",
   "execution_count": 58,
   "metadata": {},
   "outputs": [
    {
     "name": "stdout",
     "output_type": "stream",
     "text": [
      "Проводим тест по событию product_cart\n",
      "788 227 2591 814\n",
      "p-значение:  0.1693263839891459\n",
      "Не получилось отвергнуть нулевую гипотезу, нет оснований считать доли разными\n"
     ]
    }
   ],
   "source": [
    "print('Проводим тест по событию product_cart')\n",
    "test(a_funnel.loc[2, 'user_id'], b_funnel.loc[2, 'user_id'], a_funnel.loc[0, 'user_id'], b_funnel.loc[0, 'user_id'], 0.0167)"
   ]
  },
  {
   "cell_type": "code",
   "execution_count": 59,
   "metadata": {
    "scrolled": true
   },
   "outputs": [
    {
     "name": "stdout",
     "output_type": "stream",
     "text": [
      "Проводим тест по событию purchase\n",
      "832 227 2591 814\n",
      "p-значение:  0.02314148152242912\n",
      "Не получилось отвергнуть нулевую гипотезу, нет оснований считать доли разными\n"
     ]
    }
   ],
   "source": [
    "print('Проводим тест по событию purchase')\n",
    "test(a_funnel.loc[3, 'user_id'], b_funnel.loc[3, 'user_id'], a_funnel.loc[0, 'user_id'], b_funnel.loc[0, 'user_id'], 0.0167)"
   ]
  },
  {
   "cell_type": "markdown",
   "metadata": {},
   "source": [
    "Переход на событие product_page отличается в долях. Остальные два события равны. <br>\n",
    "Путем простого сравнения долей, было выявлено, что группа A на первом этапе ведет себя лучше"
   ]
  },
  {
   "cell_type": "markdown",
   "metadata": {},
   "source": [
    "### Выводы:\n",
    "\n",
    "При изучении среднего количества событий на участника по тестам побеждает группа A. Они делают на пике практически в два раза больше, чем участники из группы B.<br>\n",
    "То же самое видно и на гистограмме по среднему количеству событий в день. Там побеждает группа A и обходит группу B на каждом дне на 1-2%.<br>\n",
    "Тест имеет много ошибок в подготовке и выборе участников, но все же его результаты можно использовать для анализа. <br>\n",
    "Проведя z-тесты было выявлено, что выборка из теста A лучше проходит на первый этап. Когда остальные этапы обе группы проходят одинаково.<br>\n",
    "**Вывод:** A/B тест показал, что не стоит ничего изменять, для сохранения исходной конверсии и не потерять пользователей"
   ]
  },
  {
   "cell_type": "code",
   "execution_count": null,
   "metadata": {},
   "outputs": [],
   "source": []
  }
 ],
 "metadata": {
  "ExecuteTimeLog": [
   {
    "duration": 1213,
    "start_time": "2023-05-20T10:35:12.751Z"
   },
   {
    "duration": 4,
    "start_time": "2023-05-20T10:35:13.966Z"
   },
   {
    "duration": 1836,
    "start_time": "2023-05-20T10:35:13.972Z"
   },
   {
    "duration": 3,
    "start_time": "2023-05-20T10:35:15.810Z"
   },
   {
    "duration": 32,
    "start_time": "2023-05-20T10:35:15.814Z"
   },
   {
    "duration": 70,
    "start_time": "2023-05-20T10:35:15.848Z"
   },
   {
    "duration": 8,
    "start_time": "2023-05-20T10:35:15.920Z"
   },
   {
    "duration": 375,
    "start_time": "2023-05-20T10:35:15.930Z"
   },
   {
    "duration": 6,
    "start_time": "2023-05-20T10:35:16.307Z"
   },
   {
    "duration": 31,
    "start_time": "2023-05-20T10:35:16.316Z"
   },
   {
    "duration": 27,
    "start_time": "2023-05-20T10:35:16.348Z"
   },
   {
    "duration": 6,
    "start_time": "2023-05-20T10:35:16.376Z"
   },
   {
    "duration": 107,
    "start_time": "2023-05-20T10:35:16.407Z"
   },
   {
    "duration": 5,
    "start_time": "2023-05-20T10:35:16.516Z"
   },
   {
    "duration": 6,
    "start_time": "2023-05-20T10:35:16.523Z"
   },
   {
    "duration": 14,
    "start_time": "2023-05-20T10:35:16.531Z"
   },
   {
    "duration": 25,
    "start_time": "2023-05-20T10:35:16.547Z"
   },
   {
    "duration": 38,
    "start_time": "2023-05-20T10:35:16.574Z"
   },
   {
    "duration": 13,
    "start_time": "2023-05-20T10:35:16.614Z"
   },
   {
    "duration": 11,
    "start_time": "2023-05-20T10:35:16.629Z"
   },
   {
    "duration": 12,
    "start_time": "2023-05-20T10:35:16.641Z"
   },
   {
    "duration": 4,
    "start_time": "2023-05-20T10:35:16.654Z"
   },
   {
    "duration": 31,
    "start_time": "2023-05-20T10:35:16.660Z"
   },
   {
    "duration": 18,
    "start_time": "2023-05-20T10:35:16.693Z"
   },
   {
    "duration": 528,
    "start_time": "2023-05-20T10:35:16.712Z"
   },
   {
    "duration": 124,
    "start_time": "2023-05-20T10:35:17.242Z"
   },
   {
    "duration": 23,
    "start_time": "2023-05-20T10:35:17.368Z"
   },
   {
    "duration": 33,
    "start_time": "2023-05-20T10:35:17.394Z"
   },
   {
    "duration": 546,
    "start_time": "2023-05-20T10:35:17.428Z"
   },
   {
    "duration": 32,
    "start_time": "2023-05-20T10:35:17.975Z"
   },
   {
    "duration": 20,
    "start_time": "2023-05-20T10:35:18.009Z"
   },
   {
    "duration": 7,
    "start_time": "2023-05-20T10:35:18.031Z"
   },
   {
    "duration": 15,
    "start_time": "2023-05-20T10:35:18.040Z"
   },
   {
    "duration": 69,
    "start_time": "2023-05-20T10:35:18.057Z"
   },
   {
    "duration": 5,
    "start_time": "2023-05-20T10:35:18.127Z"
   },
   {
    "duration": 8,
    "start_time": "2023-05-20T10:35:18.133Z"
   },
   {
    "duration": 17,
    "start_time": "2023-05-20T10:35:18.142Z"
   },
   {
    "duration": 11,
    "start_time": "2023-05-20T10:35:18.160Z"
   },
   {
    "duration": 185,
    "start_time": "2023-05-20T10:35:18.172Z"
   },
   {
    "duration": 110,
    "start_time": "2023-05-20T10:35:18.358Z"
   },
   {
    "duration": 102,
    "start_time": "2023-05-20T10:35:18.470Z"
   },
   {
    "duration": 5,
    "start_time": "2023-05-20T10:35:18.573Z"
   },
   {
    "duration": 286,
    "start_time": "2023-05-20T10:35:18.580Z"
   },
   {
    "duration": 5,
    "start_time": "2023-05-20T10:35:18.868Z"
   },
   {
    "duration": 78,
    "start_time": "2023-05-20T10:35:18.874Z"
   },
   {
    "duration": 4,
    "start_time": "2023-05-20T10:35:18.953Z"
   },
   {
    "duration": 8,
    "start_time": "2023-05-20T10:35:18.958Z"
   },
   {
    "duration": 14,
    "start_time": "2023-05-20T10:35:18.968Z"
   },
   {
    "duration": 11,
    "start_time": "2023-05-20T10:35:18.984Z"
   },
   {
    "duration": 19,
    "start_time": "2023-05-20T10:35:18.996Z"
   },
   {
    "duration": 25,
    "start_time": "2023-05-20T10:35:19.016Z"
   },
   {
    "duration": 17,
    "start_time": "2023-05-20T10:39:49.500Z"
   },
   {
    "duration": 4,
    "start_time": "2023-05-20T10:40:57.449Z"
   },
   {
    "duration": 5,
    "start_time": "2023-05-20T10:40:59.266Z"
   },
   {
    "duration": 3,
    "start_time": "2023-05-20T10:40:59.424Z"
   },
   {
    "duration": 5,
    "start_time": "2023-05-20T10:40:59.560Z"
   },
   {
    "duration": 5,
    "start_time": "2023-05-20T10:40:59.725Z"
   },
   {
    "duration": 1202,
    "start_time": "2023-05-20T11:58:39.146Z"
   },
   {
    "duration": 4,
    "start_time": "2023-05-20T11:58:40.412Z"
   },
   {
    "duration": 1226,
    "start_time": "2023-05-20T11:58:41.110Z"
   },
   {
    "duration": 2,
    "start_time": "2023-05-20T12:01:22.253Z"
   },
   {
    "duration": 21,
    "start_time": "2023-05-20T12:01:23.532Z"
   },
   {
    "duration": 53,
    "start_time": "2023-05-20T12:01:30.783Z"
   },
   {
    "duration": 8,
    "start_time": "2023-05-20T12:01:36.453Z"
   },
   {
    "duration": 293,
    "start_time": "2023-05-20T12:01:38.263Z"
   },
   {
    "duration": 94,
    "start_time": "2023-05-20T12:06:16.597Z"
   },
   {
    "duration": 3,
    "start_time": "2023-05-20T12:06:26.578Z"
   },
   {
    "duration": 6,
    "start_time": "2023-05-20T12:06:26.583Z"
   },
   {
    "duration": 930,
    "start_time": "2023-05-20T12:06:26.590Z"
   },
   {
    "duration": 2,
    "start_time": "2023-05-20T12:06:27.522Z"
   },
   {
    "duration": 38,
    "start_time": "2023-05-20T12:06:27.526Z"
   },
   {
    "duration": 56,
    "start_time": "2023-05-20T12:06:27.566Z"
   },
   {
    "duration": 9,
    "start_time": "2023-05-20T12:06:27.623Z"
   },
   {
    "duration": 285,
    "start_time": "2023-05-20T12:06:27.633Z"
   },
   {
    "duration": 5,
    "start_time": "2023-05-20T12:06:27.920Z"
   },
   {
    "duration": 21,
    "start_time": "2023-05-20T12:06:27.927Z"
   },
   {
    "duration": 43,
    "start_time": "2023-05-20T12:06:27.950Z"
   },
   {
    "duration": 4,
    "start_time": "2023-05-20T12:06:27.994Z"
   },
   {
    "duration": 104,
    "start_time": "2023-05-20T12:06:27.999Z"
   },
   {
    "duration": 5,
    "start_time": "2023-05-20T12:06:28.104Z"
   },
   {
    "duration": 15,
    "start_time": "2023-05-20T12:06:28.110Z"
   },
   {
    "duration": 14,
    "start_time": "2023-05-20T12:06:28.126Z"
   },
   {
    "duration": 21,
    "start_time": "2023-05-20T12:06:28.141Z"
   },
   {
    "duration": 6,
    "start_time": "2023-05-20T12:06:28.163Z"
   },
   {
    "duration": 26,
    "start_time": "2023-05-20T12:06:28.170Z"
   },
   {
    "duration": 9,
    "start_time": "2023-05-20T12:06:28.198Z"
   },
   {
    "duration": 9,
    "start_time": "2023-05-20T12:06:28.208Z"
   },
   {
    "duration": 13,
    "start_time": "2023-05-20T12:06:30.055Z"
   },
   {
    "duration": 4,
    "start_time": "2023-05-20T12:06:32.083Z"
   },
   {
    "duration": 5,
    "start_time": "2023-05-20T12:06:52.003Z"
   },
   {
    "duration": 6,
    "start_time": "2023-05-20T12:09:12.077Z"
   },
   {
    "duration": 1271,
    "start_time": "2023-05-20T12:11:53.553Z"
   },
   {
    "duration": 4,
    "start_time": "2023-05-20T12:11:54.827Z"
   },
   {
    "duration": 1142,
    "start_time": "2023-05-20T12:11:54.832Z"
   },
   {
    "duration": 3,
    "start_time": "2023-05-20T12:11:55.976Z"
   },
   {
    "duration": 71,
    "start_time": "2023-05-20T12:11:55.982Z"
   },
   {
    "duration": 83,
    "start_time": "2023-05-20T12:11:56.055Z"
   },
   {
    "duration": 11,
    "start_time": "2023-05-20T12:11:56.139Z"
   },
   {
    "duration": 431,
    "start_time": "2023-05-20T12:11:56.152Z"
   },
   {
    "duration": 8,
    "start_time": "2023-05-20T12:11:56.584Z"
   },
   {
    "duration": 66,
    "start_time": "2023-05-20T12:11:56.593Z"
   },
   {
    "duration": 33,
    "start_time": "2023-05-20T12:11:56.661Z"
   },
   {
    "duration": 11,
    "start_time": "2023-05-20T12:11:56.698Z"
   },
   {
    "duration": 135,
    "start_time": "2023-05-20T12:11:56.710Z"
   },
   {
    "duration": 5,
    "start_time": "2023-05-20T12:11:56.848Z"
   },
   {
    "duration": 13,
    "start_time": "2023-05-20T12:11:56.854Z"
   },
   {
    "duration": 30,
    "start_time": "2023-05-20T12:11:56.869Z"
   },
   {
    "duration": 32,
    "start_time": "2023-05-20T12:11:56.900Z"
   },
   {
    "duration": 9,
    "start_time": "2023-05-20T12:11:56.934Z"
   },
   {
    "duration": 16,
    "start_time": "2023-05-20T12:11:56.944Z"
   },
   {
    "duration": 14,
    "start_time": "2023-05-20T12:11:56.962Z"
   },
   {
    "duration": 20,
    "start_time": "2023-05-20T12:11:56.977Z"
   },
   {
    "duration": 45,
    "start_time": "2023-05-20T12:11:56.998Z"
   },
   {
    "duration": 15,
    "start_time": "2023-05-20T12:11:57.045Z"
   },
   {
    "duration": 5,
    "start_time": "2023-05-20T12:15:24.808Z"
   },
   {
    "duration": 10,
    "start_time": "2023-05-20T12:15:31.981Z"
   },
   {
    "duration": 3,
    "start_time": "2023-05-20T12:15:43.760Z"
   },
   {
    "duration": 20,
    "start_time": "2023-05-20T12:20:07.878Z"
   },
   {
    "duration": 101,
    "start_time": "2023-05-20T12:25:33.745Z"
   },
   {
    "duration": 8,
    "start_time": "2023-05-20T12:25:34.116Z"
   },
   {
    "duration": 7,
    "start_time": "2023-05-20T12:31:31.999Z"
   },
   {
    "duration": 4,
    "start_time": "2023-05-20T12:31:36.055Z"
   },
   {
    "duration": 27,
    "start_time": "2023-05-20T12:31:36.061Z"
   },
   {
    "duration": 1102,
    "start_time": "2023-05-20T12:31:36.090Z"
   },
   {
    "duration": 3,
    "start_time": "2023-05-20T12:31:37.193Z"
   },
   {
    "duration": 41,
    "start_time": "2023-05-20T12:31:37.198Z"
   },
   {
    "duration": 73,
    "start_time": "2023-05-20T12:31:37.241Z"
   },
   {
    "duration": 7,
    "start_time": "2023-05-20T12:31:37.316Z"
   },
   {
    "duration": 307,
    "start_time": "2023-05-20T12:31:37.324Z"
   },
   {
    "duration": 5,
    "start_time": "2023-05-20T12:31:37.632Z"
   },
   {
    "duration": 31,
    "start_time": "2023-05-20T12:31:37.638Z"
   },
   {
    "duration": 34,
    "start_time": "2023-05-20T12:31:37.671Z"
   },
   {
    "duration": 5,
    "start_time": "2023-05-20T12:31:37.706Z"
   },
   {
    "duration": 107,
    "start_time": "2023-05-20T12:31:37.712Z"
   },
   {
    "duration": 4,
    "start_time": "2023-05-20T12:31:37.822Z"
   },
   {
    "duration": 6,
    "start_time": "2023-05-20T12:31:37.828Z"
   },
   {
    "duration": 16,
    "start_time": "2023-05-20T12:31:37.835Z"
   },
   {
    "duration": 42,
    "start_time": "2023-05-20T12:31:37.852Z"
   },
   {
    "duration": 6,
    "start_time": "2023-05-20T12:31:37.895Z"
   },
   {
    "duration": 15,
    "start_time": "2023-05-20T12:31:37.902Z"
   },
   {
    "duration": 10,
    "start_time": "2023-05-20T12:31:37.919Z"
   },
   {
    "duration": 10,
    "start_time": "2023-05-20T12:31:37.931Z"
   },
   {
    "duration": 5,
    "start_time": "2023-05-20T12:31:37.942Z"
   },
   {
    "duration": 5,
    "start_time": "2023-05-20T12:31:37.948Z"
   },
   {
    "duration": 36,
    "start_time": "2023-05-20T12:31:37.954Z"
   },
   {
    "duration": 7,
    "start_time": "2023-05-20T12:31:37.992Z"
   },
   {
    "duration": 9,
    "start_time": "2023-05-20T12:31:38.001Z"
   },
   {
    "duration": 431,
    "start_time": "2023-05-20T12:31:38.011Z"
   },
   {
    "duration": 105,
    "start_time": "2023-05-20T12:31:38.443Z"
   },
   {
    "duration": 4,
    "start_time": "2023-05-20T12:31:42.062Z"
   },
   {
    "duration": 4,
    "start_time": "2023-05-20T12:32:13.292Z"
   },
   {
    "duration": 4,
    "start_time": "2023-05-20T12:34:46.252Z"
   },
   {
    "duration": 11,
    "start_time": "2023-05-20T12:34:46.258Z"
   },
   {
    "duration": 1280,
    "start_time": "2023-05-20T12:34:46.271Z"
   },
   {
    "duration": 4,
    "start_time": "2023-05-20T12:34:47.553Z"
   },
   {
    "duration": 25,
    "start_time": "2023-05-20T12:34:47.559Z"
   },
   {
    "duration": 65,
    "start_time": "2023-05-20T12:34:47.586Z"
   },
   {
    "duration": 9,
    "start_time": "2023-05-20T12:34:47.652Z"
   },
   {
    "duration": 311,
    "start_time": "2023-05-20T12:34:47.663Z"
   },
   {
    "duration": 11,
    "start_time": "2023-05-20T12:34:47.976Z"
   },
   {
    "duration": 21,
    "start_time": "2023-05-20T12:34:47.988Z"
   },
   {
    "duration": 25,
    "start_time": "2023-05-20T12:34:48.010Z"
   },
   {
    "duration": 5,
    "start_time": "2023-05-20T12:34:48.036Z"
   },
   {
    "duration": 118,
    "start_time": "2023-05-20T12:34:48.042Z"
   },
   {
    "duration": 4,
    "start_time": "2023-05-20T12:34:48.163Z"
   },
   {
    "duration": 7,
    "start_time": "2023-05-20T12:34:48.168Z"
   },
   {
    "duration": 13,
    "start_time": "2023-05-20T12:34:48.184Z"
   },
   {
    "duration": 22,
    "start_time": "2023-05-20T12:34:48.198Z"
   },
   {
    "duration": 18,
    "start_time": "2023-05-20T12:34:48.221Z"
   },
   {
    "duration": 19,
    "start_time": "2023-05-20T12:34:48.241Z"
   },
   {
    "duration": 24,
    "start_time": "2023-05-20T12:34:48.262Z"
   },
   {
    "duration": 11,
    "start_time": "2023-05-20T12:34:48.287Z"
   },
   {
    "duration": 4,
    "start_time": "2023-05-20T12:34:48.300Z"
   },
   {
    "duration": 12,
    "start_time": "2023-05-20T12:34:48.305Z"
   },
   {
    "duration": 5,
    "start_time": "2023-05-20T12:34:48.318Z"
   },
   {
    "duration": 7,
    "start_time": "2023-05-20T12:34:48.324Z"
   },
   {
    "duration": 12,
    "start_time": "2023-05-20T12:34:48.333Z"
   },
   {
    "duration": 439,
    "start_time": "2023-05-20T12:34:48.346Z"
   },
   {
    "duration": 110,
    "start_time": "2023-05-20T12:34:48.787Z"
   },
   {
    "duration": 24,
    "start_time": "2023-05-20T12:34:48.898Z"
   },
   {
    "duration": 24,
    "start_time": "2023-05-20T12:34:48.924Z"
   },
   {
    "duration": 181,
    "start_time": "2023-05-20T12:34:48.950Z"
   },
   {
    "duration": 28,
    "start_time": "2023-05-20T12:34:49.132Z"
   },
   {
    "duration": 32,
    "start_time": "2023-05-20T12:34:49.161Z"
   },
   {
    "duration": 5,
    "start_time": "2023-05-20T12:34:49.195Z"
   },
   {
    "duration": 11,
    "start_time": "2023-05-20T12:34:49.202Z"
   },
   {
    "duration": 87,
    "start_time": "2023-05-20T12:34:49.215Z"
   },
   {
    "duration": 5,
    "start_time": "2023-05-20T12:34:49.304Z"
   },
   {
    "duration": 8,
    "start_time": "2023-05-20T12:34:49.311Z"
   },
   {
    "duration": 12,
    "start_time": "2023-05-20T12:34:49.320Z"
   },
   {
    "duration": 4,
    "start_time": "2023-05-20T12:34:49.334Z"
   },
   {
    "duration": 14,
    "start_time": "2023-05-20T12:34:49.384Z"
   },
   {
    "duration": 10,
    "start_time": "2023-05-20T12:34:49.400Z"
   },
   {
    "duration": 178,
    "start_time": "2023-05-20T12:34:49.411Z"
   },
   {
    "duration": 141,
    "start_time": "2023-05-20T12:34:49.591Z"
   },
   {
    "duration": 133,
    "start_time": "2023-05-20T12:34:49.734Z"
   },
   {
    "duration": 6,
    "start_time": "2023-05-20T12:34:49.869Z"
   },
   {
    "duration": 277,
    "start_time": "2023-05-20T12:34:49.884Z"
   },
   {
    "duration": 5,
    "start_time": "2023-05-20T12:34:50.162Z"
   },
   {
    "duration": 131,
    "start_time": "2023-05-20T12:34:50.168Z"
   },
   {
    "duration": 13,
    "start_time": "2023-05-20T12:34:56.099Z"
   },
   {
    "duration": 10,
    "start_time": "2023-05-20T12:34:58.547Z"
   },
   {
    "duration": 5,
    "start_time": "2023-05-20T12:36:33.046Z"
   },
   {
    "duration": 68,
    "start_time": "2023-05-20T12:46:58.494Z"
   },
   {
    "duration": 1213,
    "start_time": "2023-05-20T23:53:12.794Z"
   },
   {
    "duration": 4,
    "start_time": "2023-05-20T23:53:14.009Z"
   },
   {
    "duration": 1275,
    "start_time": "2023-05-20T23:53:14.015Z"
   },
   {
    "duration": 3,
    "start_time": "2023-05-20T23:53:15.292Z"
   },
   {
    "duration": 29,
    "start_time": "2023-05-20T23:53:15.297Z"
   },
   {
    "duration": 98,
    "start_time": "2023-05-20T23:53:15.328Z"
   },
   {
    "duration": 18,
    "start_time": "2023-05-20T23:53:15.428Z"
   },
   {
    "duration": 449,
    "start_time": "2023-05-20T23:53:15.447Z"
   },
   {
    "duration": 10,
    "start_time": "2023-05-20T23:53:15.900Z"
   },
   {
    "duration": 40,
    "start_time": "2023-05-20T23:53:15.912Z"
   },
   {
    "duration": 29,
    "start_time": "2023-05-20T23:53:15.954Z"
   },
   {
    "duration": 5,
    "start_time": "2023-05-20T23:53:15.984Z"
   },
   {
    "duration": 148,
    "start_time": "2023-05-20T23:53:16.026Z"
   },
   {
    "duration": 5,
    "start_time": "2023-05-20T23:53:16.177Z"
   },
   {
    "duration": 13,
    "start_time": "2023-05-20T23:53:16.184Z"
   },
   {
    "duration": 27,
    "start_time": "2023-05-20T23:53:16.199Z"
   },
   {
    "duration": 27,
    "start_time": "2023-05-20T23:53:16.227Z"
   },
   {
    "duration": 7,
    "start_time": "2023-05-20T23:53:16.255Z"
   },
   {
    "duration": 23,
    "start_time": "2023-05-20T23:53:16.264Z"
   },
   {
    "duration": 41,
    "start_time": "2023-05-20T23:53:16.288Z"
   },
   {
    "duration": 18,
    "start_time": "2023-05-20T23:53:16.331Z"
   },
   {
    "duration": 8,
    "start_time": "2023-05-20T23:53:16.352Z"
   },
   {
    "duration": 6,
    "start_time": "2023-05-20T23:53:16.362Z"
   },
   {
    "duration": 7,
    "start_time": "2023-05-20T23:53:16.369Z"
   },
   {
    "duration": 48,
    "start_time": "2023-05-20T23:53:16.378Z"
   },
   {
    "duration": 12,
    "start_time": "2023-05-20T23:53:16.429Z"
   },
   {
    "duration": 653,
    "start_time": "2023-05-20T23:53:16.443Z"
   },
   {
    "duration": 162,
    "start_time": "2023-05-20T23:53:17.099Z"
   },
   {
    "duration": 39,
    "start_time": "2023-05-20T23:53:17.263Z"
   },
   {
    "duration": 54,
    "start_time": "2023-05-20T23:53:17.306Z"
   },
   {
    "duration": 582,
    "start_time": "2023-05-20T23:53:17.362Z"
   },
   {
    "duration": 26,
    "start_time": "2023-05-20T23:53:17.946Z"
   },
   {
    "duration": 59,
    "start_time": "2023-05-20T23:53:17.973Z"
   },
   {
    "duration": 5,
    "start_time": "2023-05-20T23:53:18.034Z"
   },
   {
    "duration": 14,
    "start_time": "2023-05-20T23:53:18.041Z"
   },
   {
    "duration": 97,
    "start_time": "2023-05-20T23:53:18.057Z"
   },
   {
    "duration": 7,
    "start_time": "2023-05-20T23:53:18.156Z"
   },
   {
    "duration": 7,
    "start_time": "2023-05-20T23:53:18.165Z"
   },
   {
    "duration": 15,
    "start_time": "2023-05-20T23:53:18.173Z"
   },
   {
    "duration": 5,
    "start_time": "2023-05-20T23:53:18.225Z"
   },
   {
    "duration": 15,
    "start_time": "2023-05-20T23:53:18.235Z"
   },
   {
    "duration": 12,
    "start_time": "2023-05-20T23:53:18.251Z"
   },
   {
    "duration": 229,
    "start_time": "2023-05-20T23:53:18.264Z"
   },
   {
    "duration": 125,
    "start_time": "2023-05-20T23:53:18.495Z"
   },
   {
    "duration": 111,
    "start_time": "2023-05-20T23:53:18.625Z"
   },
   {
    "duration": 6,
    "start_time": "2023-05-20T23:53:18.738Z"
   },
   {
    "duration": 351,
    "start_time": "2023-05-20T23:53:18.746Z"
   },
   {
    "duration": 7,
    "start_time": "2023-05-20T23:53:19.099Z"
   },
   {
    "duration": 87,
    "start_time": "2023-05-20T23:53:19.108Z"
   },
   {
    "duration": 89,
    "start_time": "2023-05-20T23:53:19.196Z"
   },
   {
    "duration": 19,
    "start_time": "2023-05-20T23:53:19.287Z"
   },
   {
    "duration": 18,
    "start_time": "2023-05-20T23:53:19.308Z"
   },
   {
    "duration": 5,
    "start_time": "2023-05-20T23:53:19.328Z"
   },
   {
    "duration": 136,
    "start_time": "2023-05-20T23:53:19.335Z"
   },
   {
    "duration": 0,
    "start_time": "2023-05-20T23:53:19.472Z"
   },
   {
    "duration": 0,
    "start_time": "2023-05-20T23:53:19.473Z"
   },
   {
    "duration": 0,
    "start_time": "2023-05-20T23:53:19.474Z"
   },
   {
    "duration": 1,
    "start_time": "2023-05-20T23:53:19.475Z"
   },
   {
    "duration": 140,
    "start_time": "2023-05-20T23:54:21.625Z"
   }
  ],
  "kernelspec": {
   "display_name": "Python 3 (ipykernel)",
   "language": "python",
   "name": "python3"
  },
  "language_info": {
   "codemirror_mode": {
    "name": "ipython",
    "version": 3
   },
   "file_extension": ".py",
   "mimetype": "text/x-python",
   "name": "python",
   "nbconvert_exporter": "python",
   "pygments_lexer": "ipython3",
   "version": "3.11.4"
  },
  "toc": {
   "base_numbering": 1,
   "nav_menu": {},
   "number_sections": true,
   "sideBar": true,
   "skip_h1_title": true,
   "title_cell": "Table of Contents",
   "title_sidebar": "Contents",
   "toc_cell": false,
   "toc_position": {},
   "toc_section_display": true,
   "toc_window_display": true
  }
 },
 "nbformat": 4,
 "nbformat_minor": 2
}
